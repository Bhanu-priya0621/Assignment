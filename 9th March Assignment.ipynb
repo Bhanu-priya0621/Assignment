{
 "cells": [
  {
   "cell_type": "markdown",
   "id": "e95a7b84-e509-448f-a350-689361c6a667",
   "metadata": {},
   "source": [
    "Q1: What are the Probability Mass Function (PMF) and Probability Density Function (PDF)? Explain with\n",
    "an example.\n",
    "\n",
    "The probability mass function (PMF) is used to describe discrete probability distributions. \n",
    "For example, rolling dice. There are 6 distinct possible outcomes that define the entire sample space {1, 2, 3, 4, 5, 6}.In an ideal situation rolling a die, each of the six variables has a 1/6 probability of being rolled. \n",
    "\n",
    "\n",
    "In contrast, the probability density function (PDF) is applied to describe continuous probability distributions.\n",
    "Example for PDF is height.You can be 6' tall or — if you have the most accurate tape measure ever made — 6.1248938' tall! A key aspect of continuous variables is that there are an infinite number of possible outcomes."
   ]
  },
  {
   "cell_type": "markdown",
   "id": "cc802627-067d-4534-9621-31f3cc3478e5",
   "metadata": {},
   "source": [
    "Q2: What is Cumulative Density Function (CDF)? Explain with an example. Why CDF is used?\n",
    "\n",
    "The cumulative distribution function is used to describe the probability distribution of random variables. It can be used to describe the probability for a discrete, continuous or mixed variable. It is obtained by summing up the probability density function and getting the cumulative probability for a random variable.\n",
    "\n",
    "Example: Rolling a Single Die\n",
    "If X is the random variable we associated previously with rolling a fair six-sided die, then we can easily write down the CDF of X\n",
    "\n",
    "The cumulative distribution function is used to describe the probability distribution of random variables. It can be used to describe the probability for a discrete, continuous or mixed variable. It is obtained by summing up the probability density function and getting the cumulative probability for a random variable.\n"
   ]
  },
  {
   "cell_type": "markdown",
   "id": "4d0cac1d-9b3a-4361-af01-3eff46f421c8",
   "metadata": {},
   "source": [
    "Q3: What are some examples of situations where the normal distribution might be used as a model?\n",
    "Explain how the parameters of the normal distribution relate to the shape of the distribution.\n",
    "\n",
    "Daily life examples of Normal Distribution are :-\n",
    "\n",
    "Height\n",
    "\n",
    "Rolling A Dice\n",
    "\n",
    "Tossing A Coin\n",
    "\n",
    "IQ\n",
    "\n",
    "Technical Stock Market\n",
    "\n",
    "Blood Pressure\n",
    "\n",
    "Shoe Size\n",
    "\n",
    "Birth Weight\n",
    "\n",
    "\n",
    "The shape of a normal distribution is determined by the mean and the standard deviation. The steeper the bell curve, the smaller the standard deviation. If the examples are spread far apart, the bell curve will be much flatter, meaning the standard deviation is large.\n"
   ]
  },
  {
   "cell_type": "markdown",
   "id": "0f264aa0-2f0c-42f4-9984-1ce89d49f475",
   "metadata": {},
   "source": [
    "Q4: Explain the importance of Normal Distribution. Give a few real-life examples of Normal\n",
    "Distribution.\n",
    "\n",
    "Importance of normal distribution\n",
    "\n",
    "a)In case the sample size is large the normal distribution serves as good approximation.\n",
    "\n",
    "b)    Due to its mathematical properties it is more popular and easy to calculate\n",
    "\n",
    "c)   It is used in statistical quality control in setting up of control limit\n",
    "\n",
    "d) )      The whole theory of sample tests t, f and chi-square test is based on the normal distribution.\n",
    "\n",
    "e)    The normal distribution has the remarkable property stated in the so-called central limit theorem. \n",
    "\n",
    "\n",
    "All kinds of variables in natural and social sciences are normally or approximately normally distributed. Height, birth weight, reading ability, job satisfaction, or SAT scores are just a few examples of such variables\n",
    "\n"
   ]
  },
  {
   "cell_type": "markdown",
   "id": "1def8e29-de68-4af0-9f77-b5bb565bf2b4",
   "metadata": {},
   "source": [
    "Q5: What is Bernaulli Distribution? Give an Example. What is the difference between Bernoulli\n",
    "Distribution and Binomial Distribution?\n",
    "\n",
    "Bernoulli distribution is a discrete probability distribution. It describes the probability of achieving a “success” or “failure” from a Bernoulli trial. A Bernoulli trial is an event that has only two possible outcomes (success or failure).  For example, will a coin land on heads (success) or tails (failure).\n",
    "\n",
    "DIfference are:-\n",
    "1.Bernoulli deals with the outcome of the single trial of the event, whereas Binomial deals with the outcome of the multiple trials of the single event.\n",
    "\n",
    "2.Bernoulli is used when the outcome of an event is required for only one time, whereas the Binomial is used when the outcome of an event is required multiple times.\n"
   ]
  },
  {
   "cell_type": "markdown",
   "id": "fdbf7905-1797-4fe5-9d1f-d993ae7ce0ae",
   "metadata": {},
   "source": [
    "Q6. Consider a dataset with a mean of 50 and a standard deviation of 10. If we assume that the dataset\n",
    "is normally distributed, what is the probability that a randomly selected observation will be greater\n",
    "than 60? Use the appropriate formula and show your calculations.\n",
    "\n",
    "\n",
    "\n",
    "z = (x - μ) / σ\n",
    "\n",
    "where z is the standard score, x is the observation, μ is the mean, and σ is the standard deviation.\n",
    "\n",
    "In this case, we have:\n",
    "\n",
    "z = (60 - 50) / 10 = 1\n",
    "\n",
    "Now, we need to find the probability that a standard normal random variable is greater than 1. We can use a standard normal distribution table or a calculator to find this probability, which is approximately 0.1587.\n",
    "\n",
    "Therefore, the probability that a randomly selected observation from the given dataset will be greater than 60 is approximately 0.1587 or 15.87%."
   ]
  },
  {
   "cell_type": "markdown",
   "id": "53db0d18-b008-450d-ae8a-aff3c248b2f8",
   "metadata": {},
   "source": [
    "Q7: Explain uniform Distribution with an example."
   ]
  },
  {
   "cell_type": "markdown",
   "id": "c46ae272-5fcd-4def-a84e-b611e8e39e89",
   "metadata": {},
   "source": [
    "In statistics, uniform distribution refers to a type of probability distribution in which all outcomes are equally likely. \n",
    "\n",
    "Example :-A deck of cards has within it uniform distributions because the likelihood of drawing a heart, a club, a diamond, or a spade is equally likely."
   ]
  },
  {
   "cell_type": "markdown",
   "id": "0f9ebd19-8ad7-46fe-b628-657b468cba64",
   "metadata": {},
   "source": [
    "Q8: What is the z score? State the importance of the z score.\n",
    "\n",
    "\n",
    "A z score is a statistical measure which gives an idea of how far a raw score is from the mean of a distribution.\n",
    "\n",
    "A z-score is important because it tells where your data lies in the data distribution.\n",
    "\n",
    "The z-score is particularly important because it tells you not only something about the value itself, but also where the value lies in the distribution.\n"
   ]
  },
  {
   "cell_type": "markdown",
   "id": "9dbef6b7-1c2a-4597-9450-6b2d35043a2f",
   "metadata": {},
   "source": [
    "Q9: What is Central Limit Theorem? State the significance of the Central Limit Theorem.\n",
    "\n",
    "In probability theory, the central limit theorem (CLT) states that the distribution of a sample variable approximates a normal distribution (i.e., a “bell curve”) as the sample size becomes larger, assuming that all samples are identical in size, and regardless of the population's actual distribution shape.\n",
    "\n",
    "The significance of Central Limit Theorem:-\n",
    "The central limit theorem is useful when analyzing large data sets because it allows one to assume that the sampling distribution of the mean will be normally-distributed in most cases. This allows for easier statistical analysis and inference\n"
   ]
  },
  {
   "cell_type": "markdown",
   "id": "7f3ff19f-5687-40a1-bca0-b9b31a956373",
   "metadata": {},
   "source": [
    "Q10: State the assumptions of the Central Limit Theorem.\n",
    "\n",
    "\n",
    " \n",
    "Assumptions Behind the Central Limit Theorem\n",
    "\n",
    "It needs to be sampled at random. The samples should be unrelated to one another. One sample should not impact the others. When taking samples without replacement, the sample size should not exceed 10% of the population."
   ]
  }
 ],
 "metadata": {
  "kernelspec": {
   "display_name": "Python 3 (ipykernel)",
   "language": "python",
   "name": "python3"
  },
  "language_info": {
   "codemirror_mode": {
    "name": "ipython",
    "version": 3
   },
   "file_extension": ".py",
   "mimetype": "text/x-python",
   "name": "python",
   "nbconvert_exporter": "python",
   "pygments_lexer": "ipython3",
   "version": "3.10.8"
  }
 },
 "nbformat": 4,
 "nbformat_minor": 5
}
