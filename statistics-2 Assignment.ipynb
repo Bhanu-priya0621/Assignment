{
 "cells": [
  {
   "cell_type": "markdown",
   "id": "dff6528a-2b6f-42ad-a4b8-dd6c725c9c73",
   "metadata": {},
   "source": [
    "Q1. What are the three measures of central tendency?"
   ]
  },
  {
   "cell_type": "markdown",
   "id": "2b8794a7-ab80-4a4f-8b04-f062ef339bd6",
   "metadata": {},
   "source": [
    "There are three main measures of central tendency: mode. median. mean."
   ]
  },
  {
   "cell_type": "markdown",
   "id": "06ab92bb-e8a2-472e-aa82-43b55f409cba",
   "metadata": {},
   "source": [
    "Q2. What is the difference between the mean, median, and mode? How are they used to measure the\n",
    "central tendency of a dataset?"
   ]
  },
  {
   "cell_type": "markdown",
   "id": "d264418b-d33d-454b-8d81-8aaad358a3ae",
   "metadata": {},
   "source": [
    "The difference between mean, median and mode are: Mean is the average value of the given observations. Median is the middle value of the given observations. Mode is the most repeated value in the given observation\n",
    "\n",
    " The central tendency can be found using the formulas of mean, median or mode in most of the cases. As we know, mean is the average of a given data set, median is the middlemost data value and the mode represents the most frequently occurring data value in the set.\n"
   ]
  },
  {
   "cell_type": "markdown",
   "id": "008c3ded-b907-436f-ae1a-c6cc71f1da82",
   "metadata": {},
   "source": [
    "Q3. Measure the three measures of central tendency for the given height data:\n",
    "[178,177,176,177,178.2,178,175,179,180,175,178.9,176.2,177,172.5,178,176.5]"
   ]
  },
  {
   "cell_type": "code",
   "execution_count": 1,
   "id": "c97b1ef6-162e-49d4-b73b-043785fcc595",
   "metadata": {},
   "outputs": [],
   "source": [
    "height=[178,177,176,177,178.2,178,175,179,180,175,178.9,176.2,177,172.5,178,176.5]"
   ]
  },
  {
   "cell_type": "code",
   "execution_count": 2,
   "id": "398a917d-1e28-4534-9446-20f5220025de",
   "metadata": {},
   "outputs": [
    {
     "data": {
      "text/plain": [
       "177.01875"
      ]
     },
     "execution_count": 2,
     "metadata": {},
     "output_type": "execute_result"
    }
   ],
   "source": [
    "import numpy as np\n",
    "np.mean(height)"
   ]
  },
  {
   "cell_type": "code",
   "execution_count": 3,
   "id": "b74020c6-82fe-42ae-9a92-223e69a5462a",
   "metadata": {},
   "outputs": [
    {
     "data": {
      "text/plain": [
       "177.0"
      ]
     },
     "execution_count": 3,
     "metadata": {},
     "output_type": "execute_result"
    }
   ],
   "source": [
    "np.median(height)"
   ]
  },
  {
   "cell_type": "code",
   "execution_count": 4,
   "id": "d0b9feca-942e-4ae9-aaba-cf771ba7d9ac",
   "metadata": {},
   "outputs": [],
   "source": [
    "from scipy import stats"
   ]
  },
  {
   "cell_type": "code",
   "execution_count": 5,
   "id": "530b6b6b-b827-4bf0-8189-3179785cd8aa",
   "metadata": {},
   "outputs": [
    {
     "name": "stderr",
     "output_type": "stream",
     "text": [
      "/tmp/ipykernel_109/1690947930.py:1: FutureWarning: Unlike other reduction functions (e.g. `skew`, `kurtosis`), the default behavior of `mode` typically preserves the axis it acts along. In SciPy 1.11.0, this behavior will change: the default value of `keepdims` will become False, the `axis` over which the statistic is taken will be eliminated, and the value None will no longer be accepted. Set `keepdims` to True or False to avoid this warning.\n",
      "  stats.mode(height)\n"
     ]
    },
    {
     "data": {
      "text/plain": [
       "ModeResult(mode=array([177.]), count=array([3]))"
      ]
     },
     "execution_count": 5,
     "metadata": {},
     "output_type": "execute_result"
    }
   ],
   "source": [
    "stats.mode(height)"
   ]
  },
  {
   "cell_type": "markdown",
   "id": "e2b8083f-5c9f-4602-8d7d-3d2d2d87aff8",
   "metadata": {},
   "source": [
    "Q4. Find the standard deviation for the given data:\n",
    "[178,177,176,177,178.2,178,175,179,180,175,178.9,176.2,177,172.5,178,176.5]"
   ]
  },
  {
   "cell_type": "code",
   "execution_count": 7,
   "id": "58753bff-c45c-4648-a0c9-4da83aaaafc8",
   "metadata": {},
   "outputs": [],
   "source": [
    "d=[178,177,176,177,178.2,178,175,179,180,175,178.9,176.2,177,172.5,178,176.5]"
   ]
  },
  {
   "cell_type": "code",
   "execution_count": 8,
   "id": "317c83b9-aa4e-4b10-9da8-741e71d5f657",
   "metadata": {},
   "outputs": [],
   "source": [
    "import numpy as np"
   ]
  },
  {
   "cell_type": "code",
   "execution_count": 10,
   "id": "91becad6-d54f-4698-9b9c-55f2f938f0fc",
   "metadata": {},
   "outputs": [],
   "source": [
    "std=np.std(d)"
   ]
  },
  {
   "cell_type": "code",
   "execution_count": 11,
   "id": "7f46a09c-48f3-4288-a2bf-3011d16c3058",
   "metadata": {},
   "outputs": [
    {
     "data": {
      "text/plain": [
       "1.7885814036548633"
      ]
     },
     "execution_count": 11,
     "metadata": {},
     "output_type": "execute_result"
    }
   ],
   "source": [
    "std"
   ]
  },
  {
   "cell_type": "markdown",
   "id": "24df9ab1-f943-4334-be24-6432e6fd2dbf",
   "metadata": {},
   "source": [
    "Q5. How are measures of dispersion such as range, variance, and standard deviation used to describe\n",
    "the spread of a dataset? Provide an example."
   ]
  },
  {
   "cell_type": "markdown",
   "id": "c8f5eaa6-ee2b-4786-a493-3ac68a6d3e41",
   "metadata": {},
   "source": [
    "Range\n",
    "The range is the difference between the highest and lowest scores in a data set and is the simplest measure of spread. So we calculate range as:\n",
    "Range = maximum value - minimum value\n",
    "For example, let us consider the following data set:\n",
    "\n",
    "23\t56\t45\t65\t59\t55\t62\t54\t85\t25\n",
    "  \n",
    "Range=85-23\n",
    "     =62\n",
    "The maximum value is 85 and the minimum value is 23. This results in a range of 62, which is 85 minus 23. Whilst using the range as a measure of spread is limited, it does set the boundaries of the scores.\n",
    "\n",
    "\n",
    " Variance\n",
    "The term variance refers to a statistical measurement of the spread between numbers in a data set\n",
    "\n",
    "\n",
    "\n",
    "Standard Deviation\n",
    "The most common measure of variation, or spread, is the standard deviation. The standard deviation is a number that measures how far data values are from their mean.\n"
   ]
  },
  {
   "cell_type": "markdown",
   "id": "39bb84f6-8745-4be4-92c7-58f96304ce54",
   "metadata": {},
   "source": [
    "Q6. What is a Venn diagram?"
   ]
  },
  {
   "cell_type": "markdown",
   "id": "21d02136-31f3-4bfd-ac70-53e881949bda",
   "metadata": {},
   "source": [
    "Venn diagrams are the diagrams that are used to represent the sets, relation between the sets and operation performed on them, in a pictorial way.  Venn diagram is a picture that represents the outcomes of an experiment."
   ]
  },
  {
   "cell_type": "markdown",
   "id": "84deac7b-b4b4-4bff-b55e-e5fc628b8297",
   "metadata": {},
   "source": [
    "Q7. For the two given sets A = (2,3,4,5,6,7) & B = (0,2,6,8,10). Find:\n",
    "(i) A B\n",
    "(ii) A ⋃ B"
   ]
  },
  {
   "cell_type": "markdown",
   "id": "f2e8f908-f71e-46e7-8b78-1c1dd12dc5fb",
   "metadata": {},
   "source": [
    "(i) A intersection B ={2,6}"
   ]
  },
  {
   "cell_type": "code",
   "execution_count": 16,
   "id": "7bcc48b4-e092-4d8e-adf7-8d5599a8edb4",
   "metadata": {},
   "outputs": [
    {
     "name": "stdout",
     "output_type": "stream",
     "text": [
      "[2, 6]\n"
     ]
    }
   ],
   "source": [
    "def intersection(A,B):\n",
    "    return list(set(A) & set(B))\n",
    "\n",
    "A= (2,3,4,5,6,7)\n",
    "B=(0,2,6,8,10)\n",
    "   \n",
    "print(intersection(A,B))"
   ]
  },
  {
   "cell_type": "markdown",
   "id": "106c8738-bd91-4253-a99e-5b51ab3a3b67",
   "metadata": {},
   "source": [
    "(ii) A ⋃ B=(0,2,3,4,5,6,7,8,10)"
   ]
  },
  {
   "cell_type": "code",
   "execution_count": 19,
   "id": "a2e24b01-626b-4253-9903-e129c8009202",
   "metadata": {},
   "outputs": [
    {
     "name": "stdout",
     "output_type": "stream",
     "text": [
      "A U B: {0, 2, 3, 4, 5, 6, 7, 8, 10}\n"
     ]
    }
   ],
   "source": [
    " A = {2,3,4,5,6,7}\n",
    " B = {0,2,6,8,10}\n",
    "print(\"A U B:\",A.union(B))"
   ]
  },
  {
   "cell_type": "markdown",
   "id": "21dbb061-0991-44ea-956b-4806138fa63d",
   "metadata": {},
   "source": [
    "Q8. What do you understand about skewness in data?\n",
    "\n",
    " Skewness is a measurement of the distortion of symmetrical distribution or asymmetry in a data set. Skewness is demonstrated on a bell curve when data points are not distributed symmetrically to the left and right sides of the median on a bell curve.\n",
    " \n",
    "The mean,median and mode are perfectly at the centre.\n",
    "\n",
    "Mean = Median = Mode"
   ]
  },
  {
   "cell_type": "markdown",
   "id": "ceb6f4c5-0a87-4ad1-b744-e5cd7e13d411",
   "metadata": {},
   "source": [
    "Q9. If a data is right skewed then what will be the position of median with respect to mean?"
   ]
  },
  {
   "cell_type": "markdown",
   "id": "a833b4f9-ae83-4119-a3c1-e054382c1b81",
   "metadata": {},
   "source": [
    "If the distribution of data is skewed to the right, the mode is often less than the median, which is less than the mean.\n",
    "\n",
    "Mean > Meadian > Mode"
   ]
  },
  {
   "cell_type": "markdown",
   "id": "1aec9d51-211e-4533-b6a3-25d88991f99a",
   "metadata": {},
   "source": [
    "Q10. Explain the difference between covariance and correlation. How are these measures used in\n",
    "statistical analysis?\n",
    "\n",
    "Covariance is an indicator of the extent to which 2 random variables are dependent on each other. A higher number denotes higher dependency. Correlation is a statistical measure that indicates how strongly two variables are related.\n",
    "\n",
    " Covariance indicates the direction of the linear relationship between variables while correlation measures both the strength and direction of the linear relationship between two variables.\n",
    " \n",
    " \n",
    "Correlation analysis in research is a statistical method used to measure the strength of the linear relationship between two variables and compute their association. Correlation analysis calculates the level of change in one variable due to the change in the other.\n",
    " "
   ]
  },
  {
   "cell_type": "markdown",
   "id": "9dd10e7d-d6e3-4438-843a-cf52ec141120",
   "metadata": {},
   "source": [
    "Q11. What is the formula for calculating the sample mean? Provide an example calculation for a\n",
    "dataset.\n",
    "\n",
    "Sample Mean Formula\n",
    "\n",
    "x̄ = ( Σ xi ) / n\n",
    "\n",
    "Where X̄ = Simple average or Mean \n",
    "\n",
    "X = variable with different values, and\n",
    "\n",
    "N= total number of variable observations\n",
    "\n",
    "Example: Find the sample mean of 60, 57, 109, 50.\n",
    "\n",
    "Solution: \n",
    " Sample mean\n",
    "\n",
    "Sum of terms = 60 + 57 + 109 + 50 = 276\n",
    "\n",
    "Number of terms = 4\n",
    "\n",
    "Using sample mean formula,\n",
    "mean = (sum of terms)/(number of terms)\n",
    "mean = 276/4 = 69\n"
   ]
  },
  {
   "cell_type": "markdown",
   "id": "d31bc6a5-965d-42ee-b587-03da873c7852",
   "metadata": {},
   "source": [
    "Q12. For a normal distribution data what is the relationship between its measure of central tendency?"
   ]
  },
  {
   "cell_type": "markdown",
   "id": "9994ae91-3887-413b-a3bb-3cb98b53e43f",
   "metadata": {},
   "source": [
    "n a normal distribution, data is symmetrically distributed with no skew. Most values cluster around a central region, with values tapering off as they go further away from the center. The mean, mode and median are exactly the same in a normal distribution."
   ]
  },
  {
   "cell_type": "markdown",
   "id": "ca4ca8e5-1361-41fe-beff-96ddc85206d3",
   "metadata": {},
   "source": [
    "Q13. How is covariance different from correlation?"
   ]
  },
  {
   "cell_type": "markdown",
   "id": "d73fb593-5207-4a09-9770-a8ea0f24114e",
   "metadata": {},
   "source": [
    "\n",
    "\n",
    "Covariance and correlation are two terms that are opposed and are both used in statistics. Covariance shows you how the two variables differ, whereas correlation shows you how the two variables are related."
   ]
  },
  {
   "cell_type": "markdown",
   "id": "915010b2-6dbb-4ecb-87d2-d5c7ff4a389c",
   "metadata": {},
   "source": [
    "Q14. How do outliers affect measures of central tendency and dispersion? Provide an example.\n",
    "\n",
    "Outliers Measures of central tendency and dispersion can give misleading impressions of a data set if the set contains one or more outliers. An outlier is a value that is much greater than or much less than most of the other values in a data set.\n",
    "\n",
    "\n",
    "\n"
   ]
  },
  {
   "cell_type": "code",
   "execution_count": 1,
   "id": "504926b2-2524-4ea5-b03c-b094851889b4",
   "metadata": {},
   "outputs": [],
   "source": [
    "x=1,2,3,4,5,6"
   ]
  },
  {
   "cell_type": "code",
   "execution_count": 3,
   "id": "775d7503-39df-469a-b858-b45c555f72a0",
   "metadata": {},
   "outputs": [
    {
     "data": {
      "text/plain": [
       "3.5"
      ]
     },
     "execution_count": 3,
     "metadata": {},
     "output_type": "execute_result"
    }
   ],
   "source": [
    "import numpy as np\n",
    "np.mean(x)"
   ]
  },
  {
   "cell_type": "code",
   "execution_count": 4,
   "id": "9e535c7f-688e-48c4-bd18-9409e15ff360",
   "metadata": {},
   "outputs": [],
   "source": [
    "x=1,2,3,4,5,6,100"
   ]
  },
  {
   "cell_type": "code",
   "execution_count": 5,
   "id": "8701d109-1438-43b3-9c01-2be6c40f7abc",
   "metadata": {},
   "outputs": [
    {
     "data": {
      "text/plain": [
       "17.285714285714285"
      ]
     },
     "execution_count": 5,
     "metadata": {},
     "output_type": "execute_result"
    }
   ],
   "source": [
    "import numpy as np\n",
    "np.mean(x)"
   ]
  },
  {
   "cell_type": "markdown",
   "id": "8ecd49c3-a3ac-4b29-87e4-de56978161bc",
   "metadata": {},
   "source": [
    "Outlier is 100 affect the mean.These outlier is causing the mean to increase."
   ]
  },
  {
   "cell_type": "code",
   "execution_count": 6,
   "id": "1d52d733-dfc5-40a0-8255-b383ba665005",
   "metadata": {},
   "outputs": [],
   "source": [
    "x=1,2,3,4,5,6"
   ]
  },
  {
   "cell_type": "code",
   "execution_count": 7,
   "id": "87d4d81e-5cc7-4635-82a3-efacc1ae8355",
   "metadata": {},
   "outputs": [],
   "source": [
    "std=np.std(x)"
   ]
  },
  {
   "cell_type": "code",
   "execution_count": 8,
   "id": "026ef68a-ccb9-4095-9b68-1d3ddc526895",
   "metadata": {},
   "outputs": [
    {
     "data": {
      "text/plain": [
       "1.707825127659933"
      ]
     },
     "execution_count": 8,
     "metadata": {},
     "output_type": "execute_result"
    }
   ],
   "source": [
    "std"
   ]
  },
  {
   "cell_type": "code",
   "execution_count": null,
   "id": "1e6d0a33-1a46-440f-9e0b-9e2fd662a633",
   "metadata": {},
   "outputs": [],
   "source": [
    "x=1,2,3,4,5,6,"
   ]
  }
 ],
 "metadata": {
  "kernelspec": {
   "display_name": "Python 3 (ipykernel)",
   "language": "python",
   "name": "python3"
  },
  "language_info": {
   "codemirror_mode": {
    "name": "ipython",
    "version": 3
   },
   "file_extension": ".py",
   "mimetype": "text/x-python",
   "name": "python",
   "nbconvert_exporter": "python",
   "pygments_lexer": "ipython3",
   "version": "3.10.8"
  }
 },
 "nbformat": 4,
 "nbformat_minor": 5
}
