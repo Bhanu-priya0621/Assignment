{
 "cells": [
  {
   "cell_type": "markdown",
   "id": "fd32ab9b-d236-4398-886f-a5b7f4589fe5",
   "metadata": {},
   "source": [
    "Q1. Explain the concept of homogeneity and completeness in clustering evaluation. How are they\n",
    "calculated?\n",
    "\n",
    "\n",
    "Homogeneity and completeness are evaluation metrics used to assess the quality of clustering results with respect to a known ground truth or reference clustering.\n",
    "\n",
    "Homogeneity measures the extent to which each cluster contains only samples from a single class or category. It evaluates the purity of clusters by assessing how well they align with the ground truth labels. A clustering result is considered homogeneous when all clusters consist of samples from a single class.\n",
    "\n",
    "Completeness measures the extent to which all samples from the same class are assigned to the same cluster. It evaluates the comprehensiveness of clusters by assessing how well they capture all samples belonging to the same class. A clustering result is considered complete when all samples from a given class are grouped together in a single cluster.\n",
    "\n",
    "Homogeneity and completeness scores range from 0 to 1, with higher values indicating better performance. A score of 1 represents perfect homogeneity or completeness, meaning that all clusters are pure or all samples from the same class are grouped together.\n",
    "\n",
    "To calculate these metrics, we need a ground truth or reference clustering that provides the true class labels for the samples. Given the ground truth labels and the cluster labels assigned by a clustering algorithm, we can use the scikit-learn library in Python to calculate homogeneity and completeness scores:"
   ]
  },
  {
   "cell_type": "code",
   "execution_count": 1,
   "id": "9485af4b-6000-4940-9587-9bce2e2509d7",
   "metadata": {},
   "outputs": [
    {
     "name": "stdout",
     "output_type": "stream",
     "text": [
      "Homogeneity: 1.0\n",
      "Completeness: 1.0\n"
     ]
    }
   ],
   "source": [
    "from sklearn.metrics import homogeneity_score, completeness_score\n",
    "\n",
    "# True labels (ground truth)\n",
    "true_labels = [0, 0, 1, 1, 2, 2]\n",
    "\n",
    "# Cluster labels\n",
    "cluster_labels = [1, 1, 0, 0, 2, 2]\n",
    "\n",
    "# Calculate homogeneity score\n",
    "homogeneity = homogeneity_score(true_labels, cluster_labels)\n",
    "\n",
    "# Calculate completeness score\n",
    "completeness = completeness_score(true_labels, cluster_labels)\n",
    "\n",
    "print(f\"Homogeneity: {homogeneity}\")\n",
    "print(f\"Completeness: {completeness}\")\n"
   ]
  },
  {
   "cell_type": "markdown",
   "id": "f5b7b908-1646-41f6-aefc-d7c4e6e88b0b",
   "metadata": {},
   "source": [
    "Q2. What is the V-measure in clustering evaluation? How is it related to homogeneity and completeness?\n",
    "\n",
    "The V-measure is a clustering evaluation metric that combines the concepts of homogeneity and completeness into a single score. It provides a balanced measure of clustering quality by considering both the extent to which clusters are pure (homogeneity) and the extent to which they capture all samples from the same class (completeness).\n",
    "\n",
    "The V-measure is calculated as the harmonic mean of homogeneity and completeness:\n",
    "\n",
    "V-measure = (2 * homogeneity * completeness) / (homogeneity + completeness)\n",
    "\n",
    "The V-measure ranges from 0 to 1, with 1 indicating a perfect clustering result where all clusters are pure and all samples from the same class are grouped together. A score of 0 indicates a random or poorly performing clustering result.\n",
    "\n",
    "The V-measure can be seen as a balance between homogeneity and completeness. It rewards clustering results that have high values for both metrics. If either homogeneity or completeness is low, the V-measure will be lower as well.\n",
    "\n",
    "By combining homogeneity and completeness into a single score, the V-measure provides a more comprehensive evaluation of clustering results compared to considering each metric individually. It allows for a more balanced assessment of clustering quality, taking into account both the purity of clusters and the comprehensiveness in capturing class information."
   ]
  },
  {
   "cell_type": "markdown",
   "id": "a90c617d-bc4e-4813-bc6a-f49abaa2d80a",
   "metadata": {},
   "source": [
    "Q3. How is the Silhouette Coefficient used to evaluate the quality of a clustering result? What is the range\n",
    "of its values?\n",
    "\n",
    "The Silhouette Coefficient is a popular metric used to evaluate the quality of a clustering result. It measures the compactness of clusters and the separation between clusters.\n",
    "\n",
    "To calculate the Silhouette Coefficient for a single sample, the following steps are performed:\n",
    "\n",
    "Calculate the average distance between the sample and all other points in the same cluster. This represents the cohesion or similarity of the sample with its cluster.\n",
    "\n",
    "Calculate the average distance between the sample and all points in the nearest neighboring cluster. This represents the separation or dissimilarity of the sample from neighboring clusters.\n",
    "\n",
    "Compute the Silhouette Coefficient for the sample using the formula:\n",
    "\n",
    "Silhouette Coefficient = (separation - cohesion) / max(separation, cohesion)\n",
    "\n",
    "The Silhouette Coefficient ranges from -1 to 1:\n",
    "\n",
    "A value close to +1 indicates that the sample is well-matched to its own cluster and well-separated from other clusters. This indicates a good clustering result.\n",
    "\n",
    "A value close to 0 indicates that the sample is on or very close to the decision boundary between two neighboring clusters.\n",
    "\n",
    "A value close to -1 indicates that the sample is assigned to the wrong cluster and is more similar to points in other clusters.\n",
    "\n",
    "The overall Silhouette Coefficient for a clustering result is calculated as the average of the Silhouette Coefficients for all samples in the dataset.\n",
    "\n",
    "In general, higher Silhouette Coefficients indicate better clustering results with well-separated and compact clusters, while lower values suggest overlapping clusters or misassignments. A negative Silhouette Coefficient indicates significant overlap or incorrect clustering. However, it's important to note that the interpretation of the Silhouette Coefficient depends on the specific dataset and domain, and it should be used in combination with other evaluation metrics for a comprehensive assessment of clustering quality."
   ]
  },
  {
   "cell_type": "markdown",
   "id": "70c20b6c-0ae2-439d-8927-f9b68da59696",
   "metadata": {},
   "source": [
    "Q4. How is the Davies-Bouldin Index used to evaluate the quality of a clustering result? What is the range\n",
    "of its values?\n",
    "\n",
    "The Davies-Bouldin Index (DBI) is a metric used to evaluate the quality of a clustering result. It measures the average dissimilarity between clusters, taking into account both the within-cluster dispersion and the between-cluster separation.\n",
    "\n",
    "To calculate the DBI for a clustering result, the following steps are performed:\n",
    "\n",
    "For each cluster, calculate the average distance between each point in the cluster and the centroid of the cluster. This represents the within-cluster dispersion.\n",
    "\n",
    "For each pair of clusters, calculate the distance between their centroids. This represents the between-cluster separation.\n",
    "\n",
    "Compute the DBI as the average of the ratios of within-cluster dispersion to between-cluster separation for all clusters:\n",
    "\n",
    "DBI = (1 / k) * Σ(max(DB(i,j))), where i ≠ j and k is the number of clusters.\n",
    "\n",
    "The DBI ranges from 0 to infinity, with lower values indicating better clustering results. A DBI of 0 indicates perfectly separated and compact clusters, where the within-cluster dispersion is minimal compared to the between-cluster separation. The closer the DBI is to 0, the better the clustering result.\n",
    "\n",
    "However, it's important to note that the interpretation of the DBI depends on the specific dataset and domain. In some cases, a higher DBI may still be acceptable if the clusters have a clear separation and distinct characteristics. It's recommended to compare the DBI of different clustering results on the same dataset to determine the best solution.\n",
    "\n",
    "The DBI is one of several evaluation metrics used in clustering, and it should be used in conjunction with other metrics and domain knowledge for a comprehensive assessment of clustering quality."
   ]
  },
  {
   "cell_type": "markdown",
   "id": "0f319418-0026-4449-9174-a7de6b3c8ab3",
   "metadata": {},
   "source": [
    "Q5. Can a clustering result have a high homogeneity but low completeness? Explain with an example.\n",
    "\n",
    "\n",
    "\n",
    "Yes, it is possible for a clustering result to have a high homogeneity but low completeness. To understand this, let's consider an example:\n",
    "\n",
    "Suppose we have a dataset of animals, and the task is to cluster them into two groups: mammals and birds. The ground truth labels for the dataset are accurately assigned as either \"mammal\" or \"bird.\"\n",
    "\n",
    "Now, let's say we apply a clustering algorithm and obtain the following clusters:\n",
    "\n",
    "Cluster 1: {Dog, Cat, Cow}\n",
    "Cluster 2: {Sparrow, Eagle, Pigeon}\n",
    "\n",
    "In this case, Cluster 1 consists entirely of mammals, and Cluster 2 consists entirely of birds. The clustering result shows high homogeneity because each cluster is internally consistent, containing only one type of animal (either mammals or birds).\n",
    "\n",
    "However, the completeness of this clustering result is low. Completeness measures the extent to which all instances of a particular class (mammals or birds) are assigned to the same cluster. In our example, the mammals are split across two clusters, with Cow in Cluster 1 and the other two mammals (Dog and Cat) in the incorrect Cluster 2. Similarly, the birds are split across two clusters, with Eagle and Pigeon in Cluster 2 and Sparrow in the incorrect Cluster 1.\n",
    "\n",
    "Due to this splitting of the ground truth classes across clusters, the completeness is low, indicating that the clustering result does not fully capture the complete membership of each class.\n",
    "\n",
    "This example illustrates that high homogeneity (each cluster representing a single class) does not necessarily guarantee high completeness (all instances of a class assigned to the same cluster). The homogeneity and completeness measures capture different aspects of clustering evaluation, and it's important to consider both metrics to assess the quality of a clustering result comprehensively."
   ]
  },
  {
   "cell_type": "markdown",
   "id": "b97b1e33-0849-48db-8ba7-1fe4b07d16d0",
   "metadata": {},
   "source": [
    "Q6. How can the V-measure be used to determine the optimal number of clusters in a clustering\n",
    "algorithm?\n",
    "\n",
    "The V-measure is a clustering evaluation metric that combines the concepts of homogeneity and completeness into a single score. It can be used to assess the quality of a clustering result and compare different clustering algorithms or different parameter settings. However, it is not specifically designed to determine the optimal number of clusters in a clustering algorithm.\n",
    "\n",
    "To determine the optimal number of clusters, other techniques such as the Elbow method or the Silhouette score are commonly used. The Elbow method involves plotting the clustering score (e.g., Sum of Squared Errors for k-means) against the number of clusters and identifying the \"elbow\" point where the improvement in score starts to diminish significantly. This point is considered as a potential optimal number of clusters.\n",
    "\n",
    "The Silhouette score measures the compactness and separation of clusters and can be used to evaluate clustering results for different numbers of clusters. The optimal number of clusters corresponds to the value that maximizes the Silhouette score.\n",
    "\n",
    "While the V-measure can provide insights into the overall quality of a clustering result, it is not typically used as the primary metric for determining the optimal number of clusters. It is more commonly used for assessing the overall performance of a clustering algorithm in terms of capturing the ground truth classes or for comparing different clustering algorithms."
   ]
  },
  {
   "cell_type": "markdown",
   "id": "e992bce2-d1aa-4e8a-a829-59b18c88b511",
   "metadata": {},
   "source": [
    "Q7. What are some advantages and disadvantages of using the Silhouette Coefficient to evaluate a\n",
    "clustering result?\n",
    "\n",
    "dvantages of using the Silhouette Coefficient to evaluate a clustering result include:\n",
    "\n",
    "Intuitive Interpretation: The Silhouette Coefficient provides a measure of how well each data point fits into its assigned cluster. It ranges from -1 to 1, where values close to 1 indicate well-clustered data points, values close to 0 indicate overlapping or ambiguous clusters, and values close to -1 indicate misclassified or poorly-clustered data points. This intuitive interpretation makes it easy to understand the quality of the clustering result.\n",
    "\n",
    "Evaluation of Individual Data Points: The Silhouette Coefficient is calculated for each data point individually, allowing for a detailed analysis of the clustering performance at the individual level. This can be helpful in identifying outliers or data points that are poorly assigned to clusters.\n",
    "\n",
    "Agnostic to Cluster Shape: The Silhouette Coefficient is not affected by the shape of the clusters. It can handle clusters of any shape, including non-linear or irregular shapes.\n",
    "\n",
    "However, there are also some limitations and disadvantages of using the Silhouette Coefficient:\n",
    "\n",
    "Sensitivity to Distance Metric: The Silhouette Coefficient is sensitive to the choice of distance metric used to calculate the pairwise distances between data points. Different distance metrics can yield different Silhouette Coefficient values, which makes it important to choose an appropriate distance metric for the specific dataset and clustering task.\n",
    "\n",
    "Inability to Handle Imbalanced Clusters: The Silhouette Coefficient does not consider the imbalance in cluster sizes. It treats each data point equally, regardless of the cluster size. This can lead to misleading results in the presence of imbalanced clusters, where small clusters may have a disproportionately large impact on the overall Silhouette Coefficient.\n",
    "\n",
    "Lack of Robustness to Noise and Outliers: The Silhouette Coefficient is influenced by noise and outliers in the data. Outliers or noisy data points can significantly affect the calculation of the pairwise distances and distort the overall Silhouette Coefficient value.\n",
    "\n",
    "Overall, while the Silhouette Coefficient is a widely used and informative metric for evaluating clustering results, it is important to consider its limitations and complement it with other evaluation metrics to obtain a comprehensive understanding of the clustering performance."
   ]
  },
  {
   "cell_type": "markdown",
   "id": "43adcff6-1b8d-44c4-881f-54189f921a64",
   "metadata": {},
   "source": [
    "Q8. What are some limitations of the Davies-Bouldin Index as a clustering evaluation metric? How can\n",
    "they be overcome?\n",
    "\n",
    "The Davies-Bouldin Index (DBI) is a clustering evaluation metric that measures the compactness and separation of clusters in a clustering result. While DBI provides valuable insights into the quality of a clustering result, it also has some limitations:\n",
    "\n",
    "Sensitivity to the Number of Clusters: DBI assumes that the true number of clusters is known or provided as input. If the number of clusters is incorrectly specified, the DBI values may not accurately reflect the quality of the clustering result. This makes it important to have prior knowledge or use other techniques to determine the appropriate number of clusters.\n",
    "\n",
    "Dependency on Distance Metric: DBI's calculation relies on a chosen distance metric to measure the dissimilarity between data points. Different distance metrics may yield different DBI values, leading to varying interpretations of the clustering quality. It is crucial to carefully select an appropriate distance metric that suits the specific characteristics of the data.\n",
    "\n",
    "Lack of Robustness to Noise and Outliers: DBI is sensitive to noise and outliers present in the dataset. Outliers can significantly impact the calculation of cluster compactness and separation, potentially leading to distorted DBI values. Preprocessing steps such as outlier removal or noise handling techniques can be employed to mitigate this issue.\n",
    "\n",
    "Assumption of Cluster Convexity: DBI assumes that clusters are convex in shape. If the clusters are non-convex or have complex shapes, the DBI may not accurately reflect the quality of the clustering result. In such cases, alternative evaluation metrics that consider the specific characteristics of the clusters, such as density-based metrics, may be more appropriate.\n",
    "\n",
    "To overcome these limitations, it is recommended to use DBI in conjunction with other evaluation metrics. By considering multiple metrics, including those that account for different aspects of clustering quality, a more comprehensive and robust evaluation of clustering results can be obtained. Additionally, it is important to carefully preprocess the data, choose suitable distance metrics, and validate the number of clusters to ensure meaningful interpretations of DBI values."
   ]
  },
  {
   "cell_type": "markdown",
   "id": "d6d65305-fc1a-4775-b458-d9d75aed7010",
   "metadata": {},
   "source": [
    "Q9. What is the relationship between homogeneity, completeness, and the V-measure? Can they have\n",
    "different values for the same clustering result?\n",
    "\n",
    "Homogeneity, completeness, and the V-measure are evaluation metrics used to assess the quality of clustering results, particularly when there is a ground truth or known class labels available for comparison. While they are related to each other, they capture different aspects of clustering performance.\n",
    "\n",
    "Homogeneity measures the extent to which each cluster contains only data points that belong to a single class or category. It evaluates the purity of clusters in terms of class labels. Higher homogeneity indicates that clusters are composed of data points from the same class.\n",
    "\n",
    "Completeness measures the extent to which all data points of a given class are assigned to the same cluster. It evaluates how well clusters capture all the data points of a specific class. Higher completeness indicates that all data points of the same class are assigned to the same cluster.\n",
    "\n",
    "The V-measure combines both homogeneity and completeness into a single score. It computes the harmonic mean of homogeneity and completeness, giving equal importance to both metrics. The V-measure provides an overall assessment of clustering performance, taking into account both the purity of clusters (homogeneity) and the coverage of data points of a class (completeness). A higher V-measure indicates better clustering performance.\n",
    "\n",
    "It is possible for homogeneity and completeness to have different values for the same clustering result. This can occur when the clustering algorithm is more successful in capturing the purity of clusters (homogeneity) but may not accurately capture the complete coverage of data points of a class (completeness). Similarly, if the algorithm performs well in capturing the completeness of clusters but fails to achieve high purity, homogeneity may be high while completeness may be lower. The V-measure considers both metrics and provides a balanced evaluation by taking their harmonic mean, giving a more comprehensive assessment of clustering performance."
   ]
  },
  {
   "cell_type": "markdown",
   "id": "c8e2b9e8-4a65-471c-a86c-785f12e4c8ed",
   "metadata": {},
   "source": [
    "Q10. How can the Silhouette Coefficient be used to compare the quality of different clustering algorithms\n",
    "on the same dataset? What are some potential issues to watch out for?\n",
    "\n",
    "The Silhouette Coefficient is a metric that measures the quality of individual data point assignments to clusters in a clustering algorithm. It can be used to compare the performance of different clustering algorithms on the same dataset by computing the average Silhouette Coefficient across all data points for each algorithm.\n",
    "\n",
    "To compare clustering algorithms using the Silhouette Coefficient, you can follow these steps:\n",
    "\n",
    "Apply different clustering algorithms to the same dataset.\n",
    "For each algorithm, compute the Silhouette Coefficient for each data point, which requires calculating the average distance to other data points within the same cluster (a) and the average distance to data points in the nearest neighboring cluster (b).\n",
    "Compute the average Silhouette Coefficient across all data points for each algorithm.\n",
    "Compare the average Silhouette Coefficients of different algorithms. A higher value indicates better separation and well-defined clusters.\n",
    "However, there are some potential issues to watch out for when comparing clustering algorithms using the Silhouette Coefficient:\n",
    "\n",
    "Different algorithms may have different assumptions and characteristics. The Silhouette Coefficient is sensitive to the shape and density of clusters. If the clustering algorithms have different capabilities in handling certain cluster shapes or densities, the comparison based solely on the Silhouette Coefficient may not be fair.\n",
    "\n",
    "The Silhouette Coefficient depends on the choice of distance metric. Different distance metrics can lead to different results. Ensure that the distance metric used is appropriate for the dataset and the clustering algorithm being evaluated.\n",
    "\n",
    "The interpretation of the Silhouette Coefficient values is relative and dependent on the specific dataset. A high Silhouette Coefficient does not necessarily imply that the clustering result is optimal or meaningful in an absolute sense. It is important to consider domain knowledge and other evaluation metrics to gain a comprehensive understanding of the clustering quality.\n",
    "\n",
    "To mitigate these issues, it is recommended to use multiple evaluation metrics and consider the characteristics of the dataset and the specific problem domain when comparing the quality of different clustering algorithms."
   ]
  },
  {
   "cell_type": "markdown",
   "id": "de99b110-34fa-4e24-870d-bd17b8840f06",
   "metadata": {},
   "source": [
    "Q11. How does the Davies-Bouldin Index measure the separation and compactness of clusters? What are\n",
    "some assumptions it makes about the data and the clusters?\n",
    "\n",
    "The Davies-Bouldin Index (DBI) is a clustering evaluation metric that measures the quality of a clustering result by considering both the separation and compactness of clusters. It quantifies the average dissimilarity between clusters and uses the within-cluster scatter to assess their compactness.\n",
    "\n",
    "The DBI is calculated using the following steps:\n",
    "\n",
    "For each cluster, compute its centroid (center) as the average of the feature values of its data points.\n",
    "For each cluster, compute the average dissimilarity between its data points and the centroid. This dissimilarity can be measured using various distance metrics, such as Euclidean distance or cosine similarity.\n",
    "For each cluster, find the cluster with the highest dissimilarity to it, and calculate the sum of the average dissimilarity of the two clusters.\n",
    "Normalize the sum of the average dissimilarity by dividing it by the maximum within-cluster scatter among all clusters.\n",
    "Repeat steps 3 and 4 for all clusters.\n",
    "Compute the average of the normalized sums of average dissimilarity for all clusters to obtain the DBI.\n",
    "The DBI assumes that clusters that have low within-cluster scatter and high between-cluster dissimilarity are of good quality. A lower DBI value indicates better clustering, where clusters are well-separated and compact.\n",
    "\n",
    "However, the DBI also makes some assumptions about the data and the clusters:\n",
    "\n",
    "Assumption of spherical clusters: The DBI assumes that clusters are approximately spherical in shape and have similar sizes. This assumption may not hold for datasets with irregularly shaped or overlapping clusters.\n",
    "\n",
    "Assumption of Euclidean distance: The DBI assumes the use of Euclidean distance as the dissimilarity measure. If the data requires a different distance metric for meaningful clustering, the DBI may not be suitable.\n",
    "\n",
    "Equal cluster importance: The DBI assumes that each cluster contributes equally to the overall evaluation. However, in some cases, certain clusters may be more important or have different characteristics, and the DBI does not account for such variations.\n",
    "\n",
    "Despite these assumptions, the DBI can still provide valuable insights into the separation and compactness of clusters. It can be used as a guideline for comparing different clustering results or tuning parameters to improve the clustering quality. However, it is important to interpret the DBI results in conjunction with other evaluation metrics and consider the specific characteristics and requirements of the dataset and the problem at hand."
   ]
  },
  {
   "cell_type": "markdown",
   "id": "1306acf9-ab51-4b4d-ae1d-b102633c3a16",
   "metadata": {},
   "source": [
    "Q12. Can the Silhouette Coefficient be used to evaluate hierarchical clustering algorithms? If so, how?\n",
    "\n",
    "Yes, the Silhouette Coefficient can be used to evaluate hierarchical clustering algorithms. The Silhouette Coefficient measures the quality of clustering by assessing the cohesion and separation of data points within clusters. It provides an indication of how well each data point fits within its assigned cluster compared to neighboring clusters.\n",
    "\n",
    "To evaluate hierarchical clustering using the Silhouette Coefficient, you can follow these steps:\n",
    "\n",
    "Perform hierarchical clustering on your dataset using a specific linkage method (e.g., single linkage, complete linkage, average linkage).\n",
    "Based on the hierarchical clustering results, assign each data point to a cluster at a desired level of the dendrogram.\n",
    "Calculate the Silhouette Coefficient for each data point using the assigned clusters.\n",
    "Compute the average Silhouette Coefficient for the entire dataset.\n",
    "The Silhouette Coefficient ranges from -1 to 1, where a value close to 1 indicates that data points are well-clustered and properly assigned to their clusters, a value close to 0 indicates overlapping clusters or data points on cluster boundaries, and a negative value indicates that data points may be assigned to incorrect clusters.\n",
    "\n",
    "In hierarchical clustering, the choice of clustering level at which the Silhouette Coefficient is calculated is crucial. It depends on the desired granularity of clusters and the level of detail you want to evaluate. You can choose a specific level based on the dendrogram or explore multiple levels to find the one that yields the highest average Silhouette Coefficient.\n",
    "\n",
    "By evaluating the Silhouette Coefficient at different levels of the hierarchical clustering, you can assess the quality and consistency of the clustering across different levels of granularity. It can help you determine the optimal level or cut-off point for obtaining well-separated and internally cohesive clusters."
   ]
  },
  {
   "cell_type": "code",
   "execution_count": null,
   "id": "fb1803d4-2112-4928-8c6f-5364d3bf5ef5",
   "metadata": {},
   "outputs": [],
   "source": []
  }
 ],
 "metadata": {
  "kernelspec": {
   "display_name": "Python 3 (ipykernel)",
   "language": "python",
   "name": "python3"
  },
  "language_info": {
   "codemirror_mode": {
    "name": "ipython",
    "version": 3
   },
   "file_extension": ".py",
   "mimetype": "text/x-python",
   "name": "python",
   "nbconvert_exporter": "python",
   "pygments_lexer": "ipython3",
   "version": "3.10.8"
  }
 },
 "nbformat": 4,
 "nbformat_minor": 5
}
