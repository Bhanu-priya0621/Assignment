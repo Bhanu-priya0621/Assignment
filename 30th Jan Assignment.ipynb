{
 "cells": [
  {
   "cell_type": "markdown",
   "id": "34a794a7-db06-41c1-be19-5593fce5eb1c",
   "metadata": {},
   "source": [
    "1. Write a program to accept percentage from the user and display the grade according to the following criteria:\n",
    "\n",
    "Mark                  Grade\n",
    "\n",
    ">90                    A\n",
    "\n",
    ">80 and <=90           B\n",
    "\n",
    ">=60 and <=80          C\n",
    "\n",
    "below 60               D"
   ]
  },
  {
   "cell_type": "code",
   "execution_count": 1,
   "id": "d5cb6a48-a032-45e7-b3c8-96b08be61c3c",
   "metadata": {},
   "outputs": [
    {
     "name": "stdin",
     "output_type": "stream",
     "text": [
      "Enter your percentage:  67\n"
     ]
    },
    {
     "name": "stdout",
     "output_type": "stream",
     "text": [
      "Your grade is C\n"
     ]
    }
   ],
   "source": [
    "percentage = float(input(\"Enter your percentage: \"))\n",
    "\n",
    "if percentage >= 90:\n",
    "    print(\"Your grade is A\")\n",
    "elif percentage >= 80:\n",
    "    print(\"Your grade is B\")\n",
    "elif percentage >= 60:\n",
    "    print(\"Your grade is C\")\n",
    "else:\n",
    "    print(\"Your grade is D\")\n"
   ]
  },
  {
   "cell_type": "markdown",
   "id": "261a3e06-ecaf-4bf8-88e9-b33c4e0f9b9a",
   "metadata": {},
   "source": [
    "Q2.Write a program to accept the cost price of a bike and display the read tax to be paid according to the following criteria:-\n",
    "\n",
    "\n",
    "Tax                                                           Cost Price\n",
    "\n",
    "15%                                                             >100000\n",
    "\n",
    "10%                                                             >50000 and <= 100000\n",
    "\n",
    "5%                                                              <=50000"
   ]
  },
  {
   "cell_type": "code",
   "execution_count": 2,
   "id": "72943c48-606f-4fc4-a3ad-903b00af699a",
   "metadata": {},
   "outputs": [
    {
     "name": "stdin",
     "output_type": "stream",
     "text": [
      "Enter the cost price of the bike:  110000\n"
     ]
    },
    {
     "name": "stdout",
     "output_type": "stream",
     "text": [
      "The tax to be paid is: Rs. 16500.0\n"
     ]
    }
   ],
   "source": [
    "cost_price = float(input(\"Enter the cost price of the bike: \"))\n",
    "\n",
    "if cost_price > 100000:\n",
    "    tax = cost_price * 0.15\n",
    "elif cost_price > 50000:\n",
    "    tax = cost_price * 0.1\n",
    "else:\n",
    "    tax = cost_price * 0.05\n",
    "\n",
    "print(\"The tax to be paid is: Rs.\", tax)\n"
   ]
  },
  {
   "cell_type": "markdown",
   "id": "a84f216e-3020-43cb-a035-1d7efb8c1a49",
   "metadata": {},
   "source": [
    "3. Accept any city from user and display monuments of that city\n",
    "\n",
    "\n",
    "City                                        Monument\n",
    "\n",
    "Delhi                                      Red Fort\n",
    "\n",
    "Agra                                       Taj Mahal\n",
    "\n",
    "Jaipur                                     Jal Mahal"
   ]
  },
  {
   "cell_type": "code",
   "execution_count": 3,
   "id": "fe104dae-8cd8-4a8d-ad78-62cc372f2e49",
   "metadata": {},
   "outputs": [
    {
     "name": "stdin",
     "output_type": "stream",
     "text": [
      "Enter a city:  Delhi\n"
     ]
    },
    {
     "name": "stdout",
     "output_type": "stream",
     "text": [
      "The monument in Delhi is Red Fort.\n"
     ]
    }
   ],
   "source": [
    "city = input(\"Enter a city: \")\n",
    "\n",
    "if city.lower() == \"delhi\":\n",
    "    monument = \"Red Fort\"\n",
    "elif city.lower() == \"agra\":\n",
    "    monument = \"Taj Mahal\"\n",
    "elif city.lower() == \"jaipur\":\n",
    "    monument = \"Jal Mahal\"\n",
    "else:\n",
    "    monument = \"Unknown\"\n",
    "\n",
    "if monument == \"Unknown\":\n",
    "    print(\"Sorry, we don't have information about monuments in this city.\")\n",
    "else:\n",
    "    print(f\"The monument in {city.title()} is {monument}.\")\n"
   ]
  },
  {
   "cell_type": "markdown",
   "id": "4750f844-fa5f-43e3-9cd2-d58fab2a5d70",
   "metadata": {},
   "source": [
    "Q4.Check how many times a given number can be divided by 3 before it is less than or equal to 10."
   ]
  },
  {
   "cell_type": "code",
   "execution_count": 4,
   "id": "c056a9d3-143f-411f-8559-f5f3cce3154d",
   "metadata": {},
   "outputs": [
    {
     "name": "stdin",
     "output_type": "stream",
     "text": [
      "Enter a number:  60\n"
     ]
    },
    {
     "name": "stdout",
     "output_type": "stream",
     "text": [
      "The number can be divided by 3 2 times before it is less than or equal to 10.\n"
     ]
    }
   ],
   "source": [
    "num = int(input(\"Enter a number: \"))\n",
    "count = 0\n",
    "\n",
    "while num > 10:\n",
    "    num = num // 3\n",
    "    count += 1\n",
    "\n",
    "print(f\"The number can be divided by 3 {count} times before it is less than or equal to 10.\")\n"
   ]
  },
  {
   "cell_type": "markdown",
   "id": "e0ac0c59-d3a2-4550-83ed-ea9e9e2360e8",
   "metadata": {},
   "source": [
    "Q5. Why and When to use while loop in Python give a detailed description with example.\n",
    "\n",
    "\n",
    "The while loop in Python is used to repeatedly execute a block of code as long as a certain condition is true. It is useful when we want to repeat a specific task until a desired outcome is achieved, or when we want to continuously perform some action until a condition is met.\n",
    "\n",
    "The basic syntax of a while loop in Python is as follows:\n",
    "\n"
   ]
  },
  {
   "cell_type": "markdown",
   "id": "75031e3d-93a1-4bab-a052-fc645cd79f9f",
   "metadata": {},
   "source": [
    "while condition:\n",
    "   \n",
    "    code to be executed\n",
    "    \n",
    "    \n",
    "    Here, condition is an expression that is evaluated at the beginning of each loop iteration. If the condition is true, the code inside the loop is executed. This process is repeated until the condition becomes false, at which point the loop is exited and the program continues executing the code that comes after the loop.\n",
    "\n",
    "Let's take an example to illustrate the use of while loop in Python. Suppose we want to write a program that asks the user to enter a positive integer, and then computes the sum of all integers from 1 to that number. We can use a while loop to repeatedly add the next integer until we reach the user's input.\n",
    "\n",
    "Here's the code for the program:\n",
    "    \n"
   ]
  },
  {
   "cell_type": "code",
   "execution_count": 7,
   "id": "f9de8b91-7257-4ff5-932b-02108b30827b",
   "metadata": {},
   "outputs": [
    {
     "name": "stdin",
     "output_type": "stream",
     "text": [
      "Enter a positive integer:  67\n"
     ]
    },
    {
     "name": "stdout",
     "output_type": "stream",
     "text": [
      "The sum of all integers from 1 to 67 is 2278.\n"
     ]
    }
   ],
   "source": [
    "num = int(input(\"Enter a positive integer: \"))\n",
    "sum = 0\n",
    "i = 1\n",
    "\n",
    "while i <= num:\n",
    "    sum += i\n",
    "    i += 1\n",
    "\n",
    "print(f\"The sum of all integers from 1 to {num} is {sum}.\")\n"
   ]
  },
  {
   "cell_type": "markdown",
   "id": "5793f470-e916-49c1-a731-ba6307183ef4",
   "metadata": {},
   "source": [
    "In this program, we first accept a positive integer from the user using the input() function and convert it to an integer using the int() function. Then we initialize a variable sum to 0 and another variable i to 1.\n",
    "\n",
    "Next, we use a while loop to repeatedly add the value of i to sum as long as i is less than or equal to num. Inside the loop, we use the += operator to add the value of i to sum, and increment the value of i by 1 using the += operator.\n",
    "\n",
    "Finally, once the loop has finished, we print out a message using f-strings that displays the sum of all integers from 1 to the user's input.\n",
    "\n",
    "In this example, the while loop is useful because we don't know in advance how many iterations we need to perform. We need to keep adding the integers until we reach the user's input, and a while loop allows us to do that easily."
   ]
  },
  {
   "cell_type": "markdown",
   "id": "16057cd3-dc48-45bb-9978-e6cc8872de58",
   "metadata": {},
   "source": [
    "Q6. Use nested while loop to print 3 different pattern"
   ]
  },
  {
   "cell_type": "markdown",
   "id": "17994630-284f-4829-a159-9fb5815f2cf8",
   "metadata": {},
   "source": [
    "Sure, here are three different patterns that can be printed using nested while loops:"
   ]
  },
  {
   "cell_type": "code",
   "execution_count": 11,
   "id": "8bd0822a-66dc-44b1-ac4a-2d75e58e50e1",
   "metadata": {},
   "outputs": [
    {
     "name": "stdout",
     "output_type": "stream",
     "text": [
      "*\n",
      "**\n",
      "***\n",
      "****\n",
      "*****\n"
     ]
    }
   ],
   "source": [
    "i = 1\n",
    "while i <= 5:\n",
    "    j = 1\n",
    "    while j <= i:\n",
    "        print(\"*\", end=\"\")\n",
    "        j += 1\n",
    "    print()\n",
    "    i += 1\n"
   ]
  },
  {
   "cell_type": "code",
   "execution_count": 12,
   "id": "07eb46ae-c7ce-4311-8b32-9d60377716d6",
   "metadata": {},
   "outputs": [
    {
     "name": "stdout",
     "output_type": "stream",
     "text": [
      "*****\n",
      "****\n",
      "***\n",
      "**\n",
      "*\n"
     ]
    }
   ],
   "source": [
    "i = 5\n",
    "while i >= 1:\n",
    "    j = 1\n",
    "    while j <= i:\n",
    "        print(\"*\", end=\"\")\n",
    "        j += 1\n",
    "    print()\n",
    "    i -= 1\n"
   ]
  },
  {
   "cell_type": "code",
   "execution_count": 13,
   "id": "06c444f4-e5cd-468b-9ee1-9ac1a1bebfc8",
   "metadata": {},
   "outputs": [
    {
     "name": "stdout",
     "output_type": "stream",
     "text": [
      "   *\n",
      "  **\n",
      " ***\n",
      "****\n",
      " ***\n",
      "  **\n",
      "   *\n"
     ]
    }
   ],
   "source": [
    "i = 1\n",
    "while i <= 4:\n",
    "    j = 1\n",
    "    while j <= 4 - i:\n",
    "        print(\" \", end=\"\")\n",
    "        j += 1\n",
    "    k = 1\n",
    "    while k <= i:\n",
    "        print(\"*\", end=\"\")\n",
    "        k += 1\n",
    "    print()\n",
    "    i += 1\n",
    "\n",
    "i = 3\n",
    "while i >= 1:\n",
    "    j = 1\n",
    "    while j <= 4 - i:\n",
    "        print(\" \", end=\"\")\n",
    "        j += 1\n",
    "    k = 1\n",
    "    while k <= i:\n",
    "        print(\"*\", end=\"\")\n",
    "        k += 1\n",
    "    print()\n",
    "    i -= 1\n"
   ]
  },
  {
   "cell_type": "markdown",
   "id": "d93ae808-217b-46ed-9c9e-ecb164608505",
   "metadata": {},
   "source": [
    "Q7. Reverse a while loop to display numbers from 10 to 1\n",
    "\n"
   ]
  },
  {
   "cell_type": "code",
   "execution_count": 14,
   "id": "a3543459-f040-4bcb-9e47-392d6dbd50bd",
   "metadata": {},
   "outputs": [
    {
     "name": "stdout",
     "output_type": "stream",
     "text": [
      "10\n",
      "9\n",
      "8\n",
      "7\n",
      "6\n",
      "5\n",
      "4\n",
      "3\n",
      "2\n",
      "1\n"
     ]
    }
   ],
   "source": [
    "i = 10\n",
    "while i >= 1:\n",
    "    print(i)\n",
    "    i -= 1\n"
   ]
  },
  {
   "cell_type": "markdown",
   "id": "e749dc85-768f-4bc9-ac7a-f16e1b33a43e",
   "metadata": {},
   "source": [
    "Q8. Reverse a while loop to display number from 10 to 1"
   ]
  },
  {
   "cell_type": "code",
   "execution_count": 15,
   "id": "015423bf-5018-4fe0-a8f3-04216ef2719f",
   "metadata": {},
   "outputs": [
    {
     "name": "stdout",
     "output_type": "stream",
     "text": [
      "10\n",
      "9\n",
      "8\n",
      "7\n",
      "6\n",
      "5\n",
      "4\n",
      "3\n",
      "2\n",
      "1\n"
     ]
    }
   ],
   "source": [
    "i = 10\n",
    "while i >= 1:\n",
    "    print(i)\n",
    "    i -= 1\n"
   ]
  },
  {
   "cell_type": "code",
   "execution_count": null,
   "id": "49f167a8-047b-4592-b576-df41b8d4014f",
   "metadata": {},
   "outputs": [],
   "source": []
  }
 ],
 "metadata": {
  "kernelspec": {
   "display_name": "Python 3 (ipykernel)",
   "language": "python",
   "name": "python3"
  },
  "language_info": {
   "codemirror_mode": {
    "name": "ipython",
    "version": 3
   },
   "file_extension": ".py",
   "mimetype": "text/x-python",
   "name": "python",
   "nbconvert_exporter": "python",
   "pygments_lexer": "ipython3",
   "version": "3.10.8"
  }
 },
 "nbformat": 4,
 "nbformat_minor": 5
}
