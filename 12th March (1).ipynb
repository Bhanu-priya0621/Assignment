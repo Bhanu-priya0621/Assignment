{
 "cells": [
  {
   "cell_type": "markdown",
   "id": "2a6233f7-80d9-4e63-aa2b-6efebb0464f6",
   "metadata": {},
   "source": [
    "Q1. Calculate the 95% confidence interval for a sample of data with a mean of 50 and a standard deviation\n",
    "of 5 using Python. Interpret the results."
   ]
  },
  {
   "cell_type": "code",
   "execution_count": 1,
   "id": "2a62f5b6-75e3-4838-a062-909afc750f2e",
   "metadata": {},
   "outputs": [
    {
     "name": "stdout",
     "output_type": "stream",
     "text": [
      "95% Confidence Interval: (48.61, 51.39)\n"
     ]
    }
   ],
   "source": [
    "import numpy as np\n",
    "from scipy.stats import norm\n",
    "\n",
    "# Define sample statistics\n",
    "mean = 50\n",
    "std_dev = 5\n",
    "sample_size = 50\n",
    "alpha = 0.05\n",
    "\n",
    "# Calculate standard error\n",
    "std_error = std_dev / np.sqrt(sample_size)\n",
    "\n",
    "# Calculate margin of error\n",
    "margin_of_error = norm.ppf(1 - alpha / 2) * std_error\n",
    "\n",
    "# Calculate confidence interval\n",
    "lower_ci = mean - margin_of_error\n",
    "upper_ci = mean + margin_of_error\n",
    "\n",
    "# Print results\n",
    "print(f\"95% Confidence Interval: ({lower_ci:.2f}, {upper_ci:.2f})\")\n"
   ]
  },
  {
   "cell_type": "markdown",
   "id": "2f00b80a-5622-4e6a-a6da-60bb00b3b14f",
   "metadata": {},
   "source": [
    "Q2. Conduct a chi-square goodness of fit test to determine if the distribution of colors of M&Ms in a bag\n",
    "matches the expected distribution of 20% blue, 20% orange, 20% green, 10% yellow, 10% red, and 20%\n",
    "brown. Use Python to perform the test with a significance level of 0.05."
   ]
  },
  {
   "cell_type": "code",
   "execution_count": 3,
   "id": "f3124f0c-a3b4-4c80-989a-26b065dad1ae",
   "metadata": {},
   "outputs": [
    {
     "name": "stdout",
     "output_type": "stream",
     "text": [
      "The distribution of colors in the bag of M&Ms matches the expected distribution.\n",
      "The distribution of colors in the bag of M&Ms matches the expected distribution.\n"
     ]
    }
   ],
   "source": [
    "import numpy as np\n",
    "from scipy.stats import chisquare\n",
    "\n",
    "##We also need to define the observed frequencies of the colors in the bag of M&Ms. Let's assume that we have a sample of 200 M&Ms and the observed frequencies are\n",
    "\n",
    "observed_frequencies = [40, 40, 30, 20, 20, 50]\n",
    "\n",
    "expected_frequencies = [0.2*200, 0.2*200, 0.2*200, 0.1*200, 0.1*200, 0.2*200]\n",
    "\n",
    "\n",
    "statistic, p_value = chisquare(observed_frequencies, expected_frequencies)\n",
    "\n",
    "##Finally, we can compare the p-value to the significance level (0.05) to determine whether to reject or fail to reject the null hypothesis:\n",
    "\n",
    "if p_value < 0.05:\n",
    "    print(\"The distribution of colors in the bag of M&Ms does not match the expected distribution.\")\n",
    "else:\n",
    "    print(\"The distribution of colors in the bag of M&Ms matches the expected distribution.\")\n",
    "    \n",
    "import numpy as np\n",
    "from scipy.stats import chisquare\n",
    "\n",
    "observed_frequencies = [40, 40, 30, 20, 20, 50]\n",
    "expected_frequencies = [0.2*200, 0.2*200, 0.2*200, 0.1*200, 0.1*200, 0.2*200]\n",
    "\n",
    "statistic, p_value = chisquare(observed_frequencies, expected_frequencies)\n",
    "\n",
    "if p_value < 0.05:\n",
    "    print(\"The distribution of colors in the bag of M&Ms does not match the expected distribution.\")\n",
    "else:\n",
    "    print(\"The distribution of colors in the bag of M&Ms matches the expected distribution.\")\n",
    "\n",
    "\n"
   ]
  },
  {
   "cell_type": "markdown",
   "id": "f0f8ff4e-61a9-43e7-8485-274d8b303b8c",
   "metadata": {},
   "source": [
    "This means that we do not have sufficient evidence to reject the null hypothesis, and we can conclude that the distribution of colors in the bag of M&Ms matches the expected distribution at the 0.05 significance level."
   ]
  },
  {
   "cell_type": "markdown",
   "id": "e94e4c8c-3fbd-4a2e-9a8b-9c1df8f47083",
   "metadata": {},
   "source": [
    "Q3. Use Python to calculate the chi-square statistic and p-value for a contingency table with the following\n",
    "data:\n",
    "\n",
    "\n",
    "Outcome 1             20        15\n",
    "\n",
    "Outcome 2             10        25\n",
    "\n",
    "Outcome 3             15        20\n",
    "\n",
    "Interpret the results of the test."
   ]
  },
  {
   "cell_type": "code",
   "execution_count": 4,
   "id": "4a1e3869-55b6-4055-9eb6-1f60eb6c4508",
   "metadata": {},
   "outputs": [
    {
     "name": "stdout",
     "output_type": "stream",
     "text": [
      "Chi-square statistic: 5.833333333333334\n",
      "P-value: 0.05411376622282158\n",
      "Degrees of freedom: 2\n",
      "Expected frequencies:\n",
      " [[15. 20.]\n",
      " [15. 20.]\n",
      " [15. 20.]]\n"
     ]
    }
   ],
   "source": [
    "import numpy as np\n",
    "\n",
    "observed = np.array([[20, 15],\n",
    "                     [10, 25],\n",
    "                     [15, 20]])\n",
    "\n",
    "from scipy.stats import chi2_contingency\n",
    "\n",
    "statistic, p_value, dof, expected = chi2_contingency(observed)\n",
    "\n",
    "##assuming a significance level of 0.05\n",
    "\n",
    "print(\"Chi-square statistic:\", statistic)\n",
    "print(\"P-value:\", p_value)\n",
    "print(\"Degrees of freedom:\", dof)\n",
    "print(\"Expected frequencies:\\n\", expected)\n"
   ]
  },
  {
   "cell_type": "markdown",
   "id": "3699e329-fb32-4e34-9da4-d44331b80ac7",
   "metadata": {},
   "source": [
    "The p-value is less than 0.05, indicating that we can reject the null hypothesis of independence and conclude that there is a statistically significant association between the two variables. "
   ]
  },
  {
   "cell_type": "markdown",
   "id": "5d38dda3-9df6-405e-ae52-d98b6a1ef55b",
   "metadata": {},
   "source": [
    "Q4. A study of the prevalence of smoking in a population of 500 individuals found that 60 individuals\n",
    "smoked. Use Python to calculate the 95% confidence interval for the true proportion of individuals in the\n",
    "population who smoke."
   ]
  },
  {
   "cell_type": "code",
   "execution_count": 1,
   "id": "e3d5482f-acfc-4e36-9b6a-e99f41b624c3",
   "metadata": {},
   "outputs": [
    {
     "name": "stdout",
     "output_type": "stream",
     "text": [
      "The 95% confidence interval for the proportion of individuals who smoke is [0.092, 0.148].\n"
     ]
    }
   ],
   "source": [
    "import math\n",
    "from scipy.stats import norm\n",
    "\n",
    "# sample size\n",
    "n = 500\n",
    "\n",
    "# number of smokers in sample\n",
    "x = 60\n",
    "\n",
    "# proportion of smokers in sample\n",
    "p = x / n\n",
    "\n",
    "# z-score for 95% confidence interval\n",
    "z = norm.ppf(0.975)\n",
    "\n",
    "# margin of error\n",
    "moe = z * math.sqrt(p * (1 - p) / n)\n",
    "\n",
    "# lower and upper bounds of confidence interval\n",
    "lower = p - moe\n",
    "upper = p + moe\n",
    "\n",
    "print(f\"The 95% confidence interval for the proportion of individuals who smoke is [{lower:.3f}, {upper:.3f}].\")\n"
   ]
  },
  {
   "cell_type": "markdown",
   "id": "cd8689da-a281-4fc2-b5fb-3e930aa49f81",
   "metadata": {},
   "source": [
    "Q5. Calculate the 90% confidence interval for a sample of data with a mean of 75 and a standard deviation\n",
    "of 12 using Python. Interpret the results."
   ]
  },
  {
   "cell_type": "code",
   "execution_count": 2,
   "id": "53afe58d-a033-42b0-9880-800e4f905875",
   "metadata": {},
   "outputs": [
    {
     "name": "stdout",
     "output_type": "stream",
     "text": [
      "The 90% confidence interval is [73.03, 76.97].\n"
     ]
    }
   ],
   "source": [
    "import math\n",
    "from scipy.stats import norm\n",
    "\n",
    "# sample mean\n",
    "x_bar = 75\n",
    "\n",
    "# sample standard deviation\n",
    "s = 12\n",
    "\n",
    "# sample size\n",
    "n = 100\n",
    "\n",
    "# z-score for 90% confidence interval\n",
    "z = norm.ppf(0.95)\n",
    "\n",
    "# margin of error\n",
    "moe = z * s / math.sqrt(n)\n",
    "\n",
    "# lower and upper bounds of confidence interval\n",
    "lower = x_bar - moe\n",
    "upper = x_bar + moe\n",
    "\n",
    "print(f\"The 90% confidence interval is [{lower:.2f}, {upper:.2f}].\")\n"
   ]
  },
  {
   "cell_type": "markdown",
   "id": "0b5155e2-b56e-4224-88da-61286f492507",
   "metadata": {},
   "source": [
    "Q6. Use Python to plot the chi-square distribution with 10 degrees of freedom. Label the axes and shade the\n",
    "area corresponding to a chi-square statistic of 15."
   ]
  },
  {
   "cell_type": "code",
   "execution_count": 3,
   "id": "1949b980-d188-412a-af45-3ff0180c8022",
   "metadata": {},
   "outputs": [
    {
     "data": {
      "image/png": "[encoded data removed]",
      "text/plain": [
       "<Figure size 640x480 with 1 Axes>"
      ]
     },
     "metadata": {},
     "output_type": "display_data"
    }
   ],
   "source": [
    "import numpy as np\n",
    "import matplotlib.pyplot as plt\n",
    "from scipy.stats import chi2\n",
    "\n",
    "# degrees of freedom\n",
    "df = 10\n",
    "\n",
    "# create x-axis values\n",
    "x = np.linspace(0, 25, 500)\n",
    "\n",
    "# create chi-square distribution object\n",
    "dist = chi2(df)\n",
    "\n",
    "# plot the chi-square distribution\n",
    "plt.plot(x, dist.pdf(x))\n",
    "\n",
    "# shade the area corresponding to a chi-square statistic of 15\n",
    "x_shade = np.linspace(15, 25, 500)\n",
    "y_shade = dist.pdf(x_shade)\n",
    "plt.fill_between(x_shade, y_shade, color='gray')\n",
    "\n",
    "# label the axes\n",
    "plt.xlabel('Chi-square statistic')\n",
    "plt.ylabel('Probability density')\n",
    "plt.title(f'Chi-square Distribution with {df} Degrees of Freedom')\n",
    "\n",
    "# show the plot\n",
    "plt.show()\n"
   ]
  },
  {
   "cell_type": "markdown",
   "id": "9355eccb-482b-4582-be02-3d121517c947",
   "metadata": {},
   "source": [
    "Q7. A random sample of 1000 people was asked if they preferred Coke or Pepsi. Of the sample, 520\n",
    "preferred Coke. Calculate a 99% confidence interval for the true proportion of people in the population who\n",
    "prefer Coke."
   ]
  },
  {
   "cell_type": "code",
   "execution_count": 4,
   "id": "ac8a383c-72d3-47e3-9680-3c772bf68db0",
   "metadata": {},
   "outputs": [
    {
     "name": "stdout",
     "output_type": "stream",
     "text": [
      "The 99% confidence interval for the proportion of people who prefer Coke is [0.479, 0.561].\n"
     ]
    }
   ],
   "source": [
    "import math\n",
    "from scipy.stats import norm\n",
    "\n",
    "# sample size\n",
    "n = 1000\n",
    "\n",
    "# number of people who prefer Coke in sample\n",
    "x = 520\n",
    "\n",
    "# proportion of people who prefer Coke in sample\n",
    "p = x / n\n",
    "\n",
    "# z-score for 99% confidence interval\n",
    "z = norm.ppf(0.995)\n",
    "\n",
    "# margin of error\n",
    "moe = z * math.sqrt(p * (1 - p) / n)\n",
    "\n",
    "# lower and upper bounds of confidence interval\n",
    "lower = p - moe\n",
    "upper = p + moe\n",
    "\n",
    "print(f\"The 99% confidence interval for the proportion of people who prefer Coke is [{lower:.3f}, {upper:.3f}].\")\n"
   ]
  },
  {
   "cell_type": "markdown",
   "id": "dafc02fe-ee60-43f3-aac3-326e7c022c19",
   "metadata": {},
   "source": [
    "Q8. A researcher hypothesizes that a coin is biased towards tails. They flip the coin 100 times and observe\n",
    "45 tails. Conduct a chi-square goodness of fit test to determine if the observed frequencies match the\n",
    "expected frequencies of a fair coin. Use a significance level of 0.05."
   ]
  },
  {
   "cell_type": "markdown",
   "id": "9c63737d-33a3-4876-9797-a05d964e5b4e",
   "metadata": {},
   "source": [
    "Step 1: State the hypotheses\n",
    "\n",
    "The null hypothesis (H0): The coin is fair and not biased towards tails.\n",
    "The alternative hypothesis (H1): The coin is biased towards tails.\n",
    "\n",
    "Step 2: Set the significance level\n",
    "\n",
    "The significance level (α) is given as 0.05.\n",
    "\n",
    "Step 3: Calculate the expected frequencies\n",
    "\n",
    "If the coin is fair, we would expect a probability of 0.5 for each outcome (heads or tails) in each flip. Thus, for 100 flips, we would expect 50 tails and 50 heads.\n",
    "\n",
    "Step 4: Calculate the test statistic\n",
    "\n",
    "We can calculate the chi-square test statistic using the following formula:\n",
    "\n",
    "χ2 = Σ ((Oi - Ei)2 / Ei)\n",
    "\n",
    "Where:\n",
    "Oi = Observed frequency of tails (45)\n",
    "Ei = Expected frequency of tails (50)\n",
    "\n",
    "Calculating χ2, we get:\n",
    "\n",
    "χ2 = ((45 - 50)2 / 50) + ((55 - 50)2 / 50)\n",
    "= (52.5 / 50)\n",
    "= 1.05\n",
    "\n",
    "Step 5: Determine the critical value\n",
    "\n",
    "Using a significance level of 0.05 and degrees of freedom (df) = 1 (since there are only two possible outcomes for each flip), we can look up the critical value in a chi-square distribution table or use a calculator. The critical value is 3.84.\n",
    "\n",
    "Step 6: Make a decision\n",
    "\n",
    "Since the calculated χ2 value of 1.05 is less than the critical value of 3.84, we fail to reject the null hypothesis. We do not have enough evidence to conclude that the coin is biased towards tails. Therefore, we can say that the observed frequencies match the expected frequencies of a fair coin.\n",
    "\n",
    "Conclusion: The data does not provide enough evidence to support the hypothesis that the coin is biased towards tails."
   ]
  },
  {
   "cell_type": "markdown",
   "id": "3b4d3840-759c-4e94-9ed7-ae53578370b5",
   "metadata": {},
   "source": [
    "Q9. A study was conducted to determine if there is an association between smoking status (smoker or\n",
    "non-smoker) and lung cancer diagnosis (yes or no). The results are shown in the contingency table below.\n",
    "Conduct a chi-square test for independence to determine if there is a significant association between\n",
    "smoking status and lung cancer diagnosis.\n",
    "\n",
    "\n",
    "\n",
    "                      Lung Cancer: Yes         Lung Cancer: No\n",
    "\n",
    "Smoker                      60                    140\n",
    "\n",
    "\n",
    "Non-smoker                  30                    170\n",
    "\n",
    "\n",
    "\n",
    "Use a significance level of 0.05.\n",
    "                                         \n",
    "                                "
   ]
  },
  {
   "cell_type": "markdown",
   "id": "5f96b253-4de3-4206-80b4-6c97f72e86a8",
   "metadata": {},
   "source": [
    "The null hypothesis (H0): There is no significant association between smoking status and lung cancer diagnosis.\n",
    "The alternative hypothesis (H1): There is a significant association between smoking status and lung cancer diagnosis.\n",
    "\n",
    "Step 2: Set the significance level\n",
    "\n",
    "The significance level (α) is given as 0.05.\n",
    "\n",
    "Step 3: Create a contingency table and calculate the expected frequencies\n",
    "\n",
    "yaml\n",
    "Copy code\n",
    "              Lung Cancer: Yes         Lung Cancer: No           Total\n",
    "Smoker             60                      140                    200\n",
    "\n",
    "Non-smoker         30                      170                    200\n",
    "\n",
    "Total              90                      310                    400\n",
    "\n",
    "To calculate the expected frequencies, we can use the formula:\n",
    "\n",
    "Expected frequency = (row total x column total) / grand total\n",
    "\n",
    "For example, the expected frequency for the cell with smokers and lung cancer diagnosis is:\n",
    "\n",
    "Expected frequency = (200 x 90) / 400 = 45\n",
    "\n",
    "We can repeat this calculation for all cells to obtain the following table of expected frequencies:\n",
    "\n",
    "yaml\n",
    "Copy code\n",
    "              Lung Cancer: Yes         Lung Cancer: No           Total\n",
    "Smoker 45 155 200\n",
    "\n",
    "Non-smoker 45 155 200\n",
    "\n",
    "Total 90 310 400\n",
    "\n",
    "Step 4: Calculate the test statistic\n",
    "\n",
    "We can calculate the chi-square test statistic using the following formula:\n",
    "\n",
    "χ2 = Σ ((Oi - Ei)2 / Ei)\n",
    "\n",
    "Where:\n",
    "Oi = Observed frequency\n",
    "Ei = Expected frequency\n",
    "\n",
    "Calculating χ2, we get:\n",
    "\n",
    "χ2 = ((60 - 45)2 / 45) + ((140 - 155)2 / 155) + ((30 - 45)2 / 45) + ((170 - 155)2 / 155)\n",
    "= 5.67\n",
    "\n",
    "Step 5: Determine the critical value\n",
    "\n",
    "Using a significance level of 0.05 and degrees of freedom (df) = 1 ((2-1) x (2-1)), we can look up the critical value in a chi-square distribution table or use a calculator. The critical value is 3.84.\n",
    "\n",
    "Step 6: Make a decision\n",
    "\n",
    "Since the calculated χ2 value of 5.67 is greater than the critical value of 3.84, we reject the null hypothesis. We have enough evidence to conclude that there is a significant association between smoking status and lung cancer diagnosis.\n",
    "\n",
    "Conclusion: The data provides evidence that there is a significant association between smoking status and lung cancer diagnosis. Smokers are more likely to be diagnosed with lung cancer compared to non-smokers.\n",
    "\n",
    "\n",
    "\n"
   ]
  },
  {
   "cell_type": "markdown",
   "id": "c12f9f1e-9940-428b-a978-b46e3f3e4500",
   "metadata": {},
   "source": [
    "Q10. A study was conducted to determine if the proportion of people who prefer milk chocolate, dark\n",
    "chocolate, or white chocolate is different in the U.S. versus the U.K. A random sample of 500 people from\n",
    "the U.S. and a random sample of 500 people from the U.K. were surveyed. The results are shown in the\n",
    "contingency table below. Conduct a chi-square test for independence to determine if there is a significant\n",
    "association between chocolate preference and country of origin.\n",
    "\n",
    "\n",
    "\n",
    "                       Milk Chocolate  Dark Chocolate   White Chocolate\n",
    "\n",
    "U.S. (n=500)                  200           150             150\n",
    "U.K. (n=500)                  225           175             100\n",
    "\n",
    "\n",
    "Use a significance level of 0.01."
   ]
  },
  {
   "cell_type": "markdown",
   "id": "7fb574af-1d33-4a6f-9e09-4ebfd14eef4e",
   "metadata": {},
   "source": [
    "To conduct a chi-square test for independence, we need to calculate the expected frequencies assuming that there is no association between chocolate preference and country of origin.\n",
    "\n",
    "First, we calculate the row totals and column totals:\n",
    "\n",
    "markdown\n",
    "Copy code\n",
    "                    Milk Chocolate.       Dark Chocolate.   White Chocolate.  Row Total\n",
    "U.S. (n=500) 200 150 150 500\n",
    "U.K. (n=500) 225 175 100 500\n",
    "Column Total 425 325 250 1000\n",
    "\n",
    "Next, we can calculate the expected frequencies by multiplying the row total and column total and dividing by the grand total:\n",
    "\n",
    "markdown\n",
    "Copy code\n",
    "                    Milk Chocolate.       Dark Chocolate.   White Chocolate. \n",
    "U.S. (n=500) 212.5 162.5 125\n",
    "U.K. (n=500) 212.5 162.5 125\n",
    "\n",
    "We can now calculate the chi-square test statistic:\n",
    "\n",
    "χ^2 = Σ (observed - expected)^2 / expected\n",
    "\n",
    "χ^2 = [(200-212.5)^2/212.5 + (150-162.5)^2/162.5 + (150-125)^2/125 + (225-212.5)^2/212.5 + (175-162.5)^2/162.5 + (100-125)^2/125]\n",
    "\n",
    "χ^2 = 13.2\n",
    "\n",
    "Degrees of freedom = (number of rows - 1) x (number of columns - 1) = (2-1) x (3-1) = 2\n",
    "\n",
    "Using a significance level of 0.01 and consulting a chi-square distribution table with 2 degrees of freedom, the critical value is 9.21. Since our calculated χ^2 value of 13.2 is greater than the critical value, we reject the null hypothesis that there is no association between chocolate preference and country of origin.\n",
    "\n",
    "Therefore, we can conclude that there is a significant association between chocolate preference and country of origin."
   ]
  },
  {
   "cell_type": "markdown",
   "id": "f927e0b5-9718-4b87-803e-676db03dd40d",
   "metadata": {},
   "source": [
    "Q11. A random sample of 30 people was selected from a population with an unknown mean and standard\n",
    "deviation. The sample mean was found to be 72 and the sample standard deviation was found to be 10.\n",
    "Conduct a hypothesis test to determine if the population mean is significantly different from 70. Use a\n",
    "significance level of 0.05."
   ]
  },
  {
   "cell_type": "markdown",
   "id": "9178a265-f0b0-4907-b59b-830b21770792",
   "metadata": {},
   "source": [
    "To conduct a hypothesis test for the population mean, we will use a one-sample t-test since the population standard deviation is unknown.\n",
    "\n",
    "The null hypothesis (H0) is that the population mean is equal to 70:\n",
    "\n",
    "H0: µ = 70\n",
    "\n",
    "The alternative hypothesis (Ha) is that the population mean is significantly different from 70:\n",
    "\n",
    "Ha: µ ≠ 70\n",
    "\n",
    "The significance level is 0.05, which means we want to be 95% confident in our decision.\n",
    "\n",
    "The t-statistic can be calculated as:\n",
    "\n",
    "t = (sample mean - hypothesized mean) / (sample standard deviation / sqrt(sample size))\n",
    "\n",
    "t = (72 - 70) / (10 / sqrt(30))\n",
    "\n",
    "t = 1.095\n",
    "\n",
    "Using a t-distribution table with 29 degrees of freedom (sample size - 1), the critical values for a two-tailed test at a significance level of 0.05 are -2.045 and 2.045. Since our calculated t-value of 1.095 is between these two critical values, we fail to reject the null hypothesis.\n",
    "\n",
    "Therefore, we can conclude that there is not enough evidence to suggest that the population mean is significantly different from 70 at the 0.05 significance level."
   ]
  },
  {
   "cell_type": "code",
   "execution_count": null,
   "id": "1775b5e9-a8cb-4bc2-911c-795e23621dc2",
   "metadata": {},
   "outputs": [],
   "source": []
  }
 ],
 "metadata": {
  "kernelspec": {
   "display_name": "Python 3 (ipykernel)",
   "language": "python",
   "name": "python3"
  },
  "language_info": {
   "codemirror_mode": {
    "name": "ipython",
    "version": 3
   },
   "file_extension": ".py",
   "mimetype": "text/x-python",
   "name": "python",
   "nbconvert_exporter": "python",
   "pygments_lexer": "ipython3",
   "version": "3.10.8"
  }
 },
 "nbformat": 4,
 "nbformat_minor": 5
}
