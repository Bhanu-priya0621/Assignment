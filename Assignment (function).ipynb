{
 "cells": [
  {
   "cell_type": "markdown",
   "id": "92672c6f-17f2-4d46-aed1-ccd0aaf8c6e0",
   "metadata": {},
   "source": [
    "Q1. Which keyword is used to create a function? Create a function to return a list of odd numbers in the\n",
    "range of 1 to 25."
   ]
  },
  {
   "cell_type": "markdown",
   "id": "055493a5-4e3a-445f-aae3-1a8e5972bb0f",
   "metadata": {},
   "source": [
    "The def keyword is used to create a function."
   ]
  },
  {
   "cell_type": "code",
   "execution_count": 10,
   "id": "3373bceb-331b-426e-8a12-f5dda67c0837",
   "metadata": {},
   "outputs": [],
   "source": [
    " def oddnumbers(a,b):\n",
    "        odd = []\n",
    "        for i in range(1,20):\n",
    "            if i % 2 != 0:\n",
    "                odd.append(i)\n",
    "        return odd\n",
    "        \n",
    "\n",
    "\n"
   ]
  },
  {
   "cell_type": "code",
   "execution_count": 15,
   "id": "75187006-129b-4ea5-8975-f42a805a27d2",
   "metadata": {},
   "outputs": [
    {
     "data": {
      "text/plain": [
       "[1, 3, 5, 7, 9, 11, 13, 15, 17, 19]"
      ]
     },
     "execution_count": 15,
     "metadata": {},
     "output_type": "execute_result"
    }
   ],
   "source": [
    "oddnumbers(1,20)"
   ]
  },
  {
   "cell_type": "markdown",
   "id": "4393a262-a730-417d-a99b-d4674ea0e50d",
   "metadata": {},
   "source": [
    "Q2. Why *args and **kwargs is used in some functions? Create a function each for *args and **kwargs to\n",
    "demonstrate their use."
   ]
  },
  {
   "cell_type": "markdown",
   "id": "3da6298e-c059-4e0c-894a-a694a4d53401",
   "metadata": {},
   "source": [
    "We use *args and **kwargs as an argument when we are unsure about the number of arguments to pass in the functions."
   ]
  },
  {
   "cell_type": "markdown",
   "id": "99dbc425-cb96-4bc0-b405-39448567523e",
   "metadata": {},
   "source": [
    "*args allows us to pass a variable number of non-keyword arguments to a python function"
   ]
  },
  {
   "cell_type": "code",
   "execution_count": 16,
   "id": "b48b029d-202e-4c28-b76f-90461d679ba4",
   "metadata": {},
   "outputs": [],
   "source": [
    "def test1(*args):\n",
    "    return args"
   ]
  },
  {
   "cell_type": "code",
   "execution_count": 17,
   "id": "c2936c84-8798-4393-8c94-781122653c70",
   "metadata": {},
   "outputs": [
    {
     "data": {
      "text/plain": [
       "(1, 2, 3, 4)"
      ]
     },
     "execution_count": 17,
     "metadata": {},
     "output_type": "execute_result"
    }
   ],
   "source": [
    "test1(1,2,3,4)"
   ]
  },
  {
   "cell_type": "code",
   "execution_count": 1,
   "id": "79931aeb-eee2-45ea-8801-af2f7f55be75",
   "metadata": {},
   "outputs": [],
   "source": [
    "def test5(**kwargs):\n",
    "    return kwargs"
   ]
  },
  {
   "cell_type": "code",
   "execution_count": 2,
   "id": "60674562-34ec-436e-b05d-52253f61b1e8",
   "metadata": {},
   "outputs": [
    {
     "data": {
      "text/plain": [
       "{'a': 34, 'b': 23, 'c': [1, 2, 3, 4], 'd': ('sudh', 'pwskills')}"
      ]
     },
     "execution_count": 2,
     "metadata": {},
     "output_type": "execute_result"
    }
   ],
   "source": [
    "test5(a=34,b=23,c=[1,2,3,4],d=(\"sudh\",\"pwskills\"))"
   ]
  },
  {
   "cell_type": "markdown",
   "id": "63a0df37-8441-489a-bc4a-ed21b268cdaf",
   "metadata": {},
   "source": [
    "**kwargs allow us to pass a variable number of keyword arguments to a python function. In the function,we use double-asterisk\n",
    "(**) before the parametre name to denote this type of arguments."
   ]
  },
  {
   "cell_type": "markdown",
   "id": "c5468262-f4a4-494e-863c-7f0abff91f1c",
   "metadata": {},
   "source": [
    "Q3. What is an iterator in python? Name the method used to initialise the iterator object and the method\n",
    "used for iteration. Use these methods to print the first five elements of the given list [2, 4, 6, 8, 10, 12, 14, 16,\n",
    "18, 20]."
   ]
  },
  {
   "cell_type": "markdown",
   "id": "aa655c3f-d8b8-4504-b851-c6ed8d508e16",
   "metadata": {},
   "source": [
    "An iterator is an object that contains a countable number of values. An iterator is an object that can be iterated upon,meaning that you can traverse through all the values."
   ]
  },
  {
   "cell_type": "markdown",
   "id": "f6131d1c-9539-462b-ab6e-84ea6f459160",
   "metadata": {},
   "source": [
    "The iterator object is initialized using the iter()  and next() method for iteration."
   ]
  },
  {
   "cell_type": "code",
   "execution_count": 6,
   "id": "800524a7-6985-463e-a49a-c22b4a2ca33b",
   "metadata": {},
   "outputs": [
    {
     "name": "stdout",
     "output_type": "stream",
     "text": [
      "2\n",
      "4\n",
      "6\n",
      "8\n",
      "10\n"
     ]
    }
   ],
   "source": [
    " test_list=[2, 4, 6, 8, 10, 12, 14, 16, 18, 20]\n",
    " N=5\n",
    "for  i in range(N):\n",
    "    print(test_list[i])"
   ]
  },
  {
   "cell_type": "markdown",
   "id": "9a146646-b238-4dd4-b595-4d62de5fcb94",
   "metadata": {},
   "source": [
    "Q4. What is a generator function in python? Why yield keyword is used? Give an example of a generator\n",
    "function."
   ]
  },
  {
   "cell_type": "markdown",
   "id": "138cdae3-6fdd-4ce2-98a8-e0562772d2e4",
   "metadata": {},
   "source": [
    "A python generator function allow you to declare a function that behaves like an iterator,providing a faster and easier way to create iterator."
   ]
  },
  {
   "cell_type": "markdown",
   "id": "6e12562c-ac98-4728-9d96-f16afb3d139a",
   "metadata": {},
   "source": [
    "Yield keyword is used to create a generator function. A type of function that is memory efficient and can be used like an iterator object."
   ]
  },
  {
   "cell_type": "code",
   "execution_count": 7,
   "id": "5eaa49a2-7704-41c4-80c3-850ba9f4427a",
   "metadata": {},
   "outputs": [],
   "source": [
    "def test_fib(n):\n",
    "    a,b = 0,1\n",
    "    for i in range(n):\n",
    "        yield a\n",
    "        a,b=b,a+b"
   ]
  },
  {
   "cell_type": "code",
   "execution_count": 8,
   "id": "8bec4c4d-08a7-4a6d-86f4-c51babe0b698",
   "metadata": {},
   "outputs": [
    {
     "name": "stdout",
     "output_type": "stream",
     "text": [
      "0\n",
      "1\n",
      "1\n",
      "2\n",
      "3\n",
      "5\n",
      "8\n",
      "13\n",
      "21\n",
      "34\n"
     ]
    }
   ],
   "source": [
    "for i in test_fib(10):\n",
    "    print(i)"
   ]
  },
  {
   "cell_type": "markdown",
   "id": "53bdd488-4283-4f93-9e7e-a47ab1eeb723",
   "metadata": {},
   "source": [
    "Q5. Create a generator function for prime numbers less than 1000. Use the next() method to print the\n",
    "first 20 prime numbers."
   ]
  },
  {
   "cell_type": "code",
   "execution_count": 25,
   "id": "38a98204-9a32-40aa-96de-45e42bca87d7",
   "metadata": {},
   "outputs": [],
   "source": [
    "def primes():\n",
    "   # Initialize a list of True values indicating that each number is prime\n",
    "   is_prime = [True] * 1000\n",
    "   # Set 0 and 1 to False since they are not prime\n",
    "   is_prime[0] = is_prime[1] = False\n",
    "   # Iterate over all numbers up to 1000\n",
    "   for i in range(2, 1000):\n",
    "       # If the current number is prime, yield it and mark all its multiples as not prime\n",
    "       if is_prime[i]:\n",
    "\n",
    "        yield i\n",
    "        for j in range(i*i, 1000, i):\n",
    "            is_prime[j] = False"
   ]
  },
  {
   "cell_type": "code",
   "execution_count": 27,
   "id": "92104a0e-8be2-4d4a-af66-a67103c7fb50",
   "metadata": {},
   "outputs": [],
   "source": [
    "prime_gen = primes()"
   ]
  },
  {
   "cell_type": "code",
   "execution_count": 28,
   "id": "c55d98a2-4a24-4ec7-a714-f82566db3233",
   "metadata": {},
   "outputs": [
    {
     "name": "stdout",
     "output_type": "stream",
     "text": [
      "2\n",
      "3\n",
      "5\n",
      "7\n",
      "11\n",
      "13\n",
      "17\n",
      "19\n",
      "23\n",
      "29\n",
      "31\n",
      "37\n",
      "41\n",
      "43\n",
      "47\n",
      "53\n",
      "59\n",
      "61\n",
      "67\n",
      "71\n"
     ]
    }
   ],
   "source": [
    "for i in range(20):\n",
    "    print(next(prime_gen))"
   ]
  },
  {
   "cell_type": "code",
   "execution_count": null,
   "id": "cda77b0b-dcae-4813-bb70-f6acbef54e6b",
   "metadata": {},
   "outputs": [],
   "source": []
  },
  {
   "cell_type": "code",
   "execution_count": null,
   "id": "6846af81-400a-4eac-ab02-5b19b3e4e1fb",
   "metadata": {},
   "outputs": [],
   "source": []
  },
  {
   "cell_type": "code",
   "execution_count": null,
   "id": "b07105d8-37cf-482c-b92c-aa2220a2ce34",
   "metadata": {},
   "outputs": [],
   "source": []
  }
 ],
 "metadata": {
  "kernelspec": {
   "display_name": "Python 3 (ipykernel)",
   "language": "python",
   "name": "python3"
  },
  "language_info": {
   "codemirror_mode": {
    "name": "ipython",
    "version": 3
   },
   "file_extension": ".py",
   "mimetype": "text/x-python",
   "name": "python",
   "nbconvert_exporter": "python",
   "pygments_lexer": "ipython3",
   "version": "3.10.8"
  }
 },
 "nbformat": 4,
 "nbformat_minor": 5
}
