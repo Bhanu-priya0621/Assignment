{
 "cells": [
  {
   "cell_type": "markdown",
   "id": "7dbca456-c942-4321-973a-077811902c19",
   "metadata": {},
   "source": [
    "1. What is multithreading in python? hy is it used? Name the module used to handle threads in python."
   ]
  },
  {
   "cell_type": "markdown",
   "id": "26c5fe80-82a9-4ee5-9ba0-b9b512c720e5",
   "metadata": {},
   "source": [
    "Mulithreading refers to concurrently executing multiple thread by rapidly switching the control of the CPU between threads.Python multithreading used to  enables efficient utilization of the resource as the thread share the data space and memory.\n",
    "Threading Module is used to handle threads in python."
   ]
  },
  {
   "cell_type": "markdown",
   "id": "4a17444b-6f8f-4fe9-a83b-937c465800e4",
   "metadata": {},
   "source": [
    "2. Why threading module used? Write the use of the following functions:\n",
    " 1. activeCount()\n",
    " 2.currentThread()\n",
    " 3.enumerate()"
   ]
  },
  {
   "cell_type": "markdown",
   "id": "914d69f1-638f-4e5b-a2cf-8e99e908895d",
   "metadata": {},
   "source": [
    "Threading module is used for creating,controlling and managing thread in python.The threading module exposes all the methods of the thread module and provides some additional methods-\n",
    "1.threading.activeCount()-Return the number of thread objects that are active.\n",
    "\n",
    "2.threading.currentThread-Return the number of thread objects in the caller's thread control.\n",
    "\n",
    "3.threading.enumerate - Returns a list of all thread objects that are active."
   ]
  },
  {
   "cell_type": "markdown",
   "id": "e2879bcb-f779-465b-9bec-dd4a9133f0cb",
   "metadata": {},
   "source": [
    "3. Explain the following functions\n",
    " \n",
    " 1. run\n",
    " \n",
    " 2.start\n",
    " \n",
    " 3.join\n",
    " \n",
    " 4.isAlive)"
   ]
  },
  {
   "cell_type": "markdown",
   "id": "00e3cd78-28d9-40a7-b4c3-bb2d423224a9",
   "metadata": {},
   "source": [
    "\n",
    "1. run()- The run() method is the entry point for a thread .\n",
    "\n",
    "2. start()- The start () method start a thread by calling run.\n",
    "\n",
    "3. join()- The join() waits for thread to terminate .\n",
    "\n",
    "4. isAlive - The isAlive  method checks whether a thread is still executing."
   ]
  },
  {
   "cell_type": "markdown",
   "id": "fb8a0403-de51-408e-b89a-5c846bd8e0bc",
   "metadata": {},
   "source": [
    "4. Write a python program to create two threads. Thread one must print the list of squares and thread\n",
    "two must print the list of cubes."
   ]
  },
  {
   "cell_type": "code",
   "execution_count": 1,
   "id": "4b886e52-f23d-4a23-b895-ded56198a26d",
   "metadata": {},
   "outputs": [],
   "source": [
    "import threading"
   ]
  },
  {
   "cell_type": "code",
   "execution_count": 2,
   "id": "f2dec1c4-6d87-4ebd-8556-18dc6793f4b0",
   "metadata": {},
   "outputs": [],
   "source": [
    "def print_square(num):\n",
    "    print(\"square :{}\".format(num*num))\n",
    "def print_cube(num):\n",
    "    print(\"cube :{}\".format(num*num*num))\n",
    "    "
   ]
  },
  {
   "cell_type": "code",
   "execution_count": 4,
   "id": "4129172a-29b8-402f-8bee-c48dfdc68c8d",
   "metadata": {},
   "outputs": [],
   "source": [
    "t1=[threading.Thread(target=print_square,args=(i,)) for i in [10]]\n",
    "t2= [threading.Thread(target = print_cube,args=(i,)) for i in [10]]"
   ]
  },
  {
   "cell_type": "code",
   "execution_count": 5,
   "id": "52ebd582-60d9-4478-882b-7499fd97dc57",
   "metadata": {},
   "outputs": [
    {
     "name": "stdout",
     "output_type": "stream",
     "text": [
      "square :100\n"
     ]
    }
   ],
   "source": [
    "for t in t1:\n",
    "    t.start()"
   ]
  },
  {
   "cell_type": "code",
   "execution_count": 6,
   "id": "157e7fb3-18e9-4fb3-a9f8-0af220eab6a3",
   "metadata": {},
   "outputs": [
    {
     "name": "stdout",
     "output_type": "stream",
     "text": [
      "cube :1000\n"
     ]
    }
   ],
   "source": [
    "for t in t2:\n",
    "    t.start()"
   ]
  },
  {
   "cell_type": "markdown",
   "id": "ffe4ef35-2be8-4c8c-9bad-2665d2ca58a8",
   "metadata": {},
   "source": [
    "5. State advantages and disadvantages of multithreading"
   ]
  },
  {
   "cell_type": "markdown",
   "id": "c2b64428-a53b-42c2-91b7-a22888637faf",
   "metadata": {},
   "source": [
    "Advantages of Python multithreading\n",
    "Multithreading in Python offers many advantages that make it a good choice and a widely popular approach. Here are the main advantages:\n",
    "\n",
    "\n",
    "1. Effective utilization of resources\n",
    "2. More responsive\n",
    "3. Resource sharing makes it more economical\n",
    "4. Effective use of Multiprocessor architecture due to parallelism\n",
    "5. Saves time\n",
    "6. Threads (since part of the same process) communicate with each other more easily than if they were separate processes\n",
    "7. They do not require much memory overhead\n",
    "8. Multi-threaded servers and interactive GUIs use multithreading exclusively."
   ]
  },
  {
   "cell_type": "markdown",
   "id": "9bff1b1c-1a08-4e82-ac46-58ae73627205",
   "metadata": {},
   "source": [
    "Disadvantages of Multi-threading:\n",
    "\n",
    "1.Increases the complexity of the program.\n",
    "\n",
    "2.Synchronization of shared resources (objects, data) is necessary.\n",
    "\n",
    "3.Difficult to debug unpredictable results\n",
    "\n",
    "4.Constructing and synchronizing threads is CPU/memory intensive"
   ]
  },
  {
   "cell_type": "markdown",
   "id": "0bf268eb-d709-42e4-b8b1-55c75359859e",
   "metadata": {},
   "source": [
    "6. Explain deadlocks and race conditions."
   ]
  },
  {
   "cell_type": "markdown",
   "id": "66bd5479-4cba-44d2-88c8-0d3356776977",
   "metadata": {},
   "source": [
    "Race Condition\n",
    "\n",
    "When two processes are competing with each other causing data corruption."
   ]
  },
  {
   "cell_type": "markdown",
   "id": "ccd4da52-6770-43a7-ae9f-e4b220d35887",
   "metadata": {},
   "source": [
    "When two processes are waiting for each other directly or indirectly, it is called deadlock"
   ]
  },
  {
   "cell_type": "markdown",
   "id": "11cefc61-33a6-4653-a547-2a4d6d1bf942",
   "metadata": {},
   "source": []
  }
 ],
 "metadata": {
  "kernelspec": {
   "display_name": "Python 3 (ipykernel)",
   "language": "python",
   "name": "python3"
  },
  "language_info": {
   "codemirror_mode": {
    "name": "ipython",
    "version": 3
   },
   "file_extension": ".py",
   "mimetype": "text/x-python",
   "name": "python",
   "nbconvert_exporter": "python",
   "pygments_lexer": "ipython3",
   "version": "3.10.8"
  }
 },
 "nbformat": 4,
 "nbformat_minor": 5
}
