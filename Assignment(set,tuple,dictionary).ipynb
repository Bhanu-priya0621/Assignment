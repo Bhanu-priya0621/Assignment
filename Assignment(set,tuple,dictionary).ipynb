{
 "cells": [
  {
   "cell_type": "markdown",
   "id": "cc3904d7-9660-4793-8a39-11fffca957ce",
   "metadata": {},
   "source": [
    "Q1. What are the characteristics of the tuples? Is tuple immutable?"
   ]
  },
  {
   "cell_type": "markdown",
   "id": "bb55c0b5-8e9f-436f-ae86-9b62cbe8e538",
   "metadata": {},
   "source": [
    "Tuples have the given characteristics :\n",
    "-They are indexed \n",
    "-Tuples are ordered\n",
    "-Tuples are immutable\n",
    "-They can contain duplicate"
   ]
  },
  {
   "cell_type": "markdown",
   "id": "ba3dba66-ee6a-4630-b7a1-f6957ef21b64",
   "metadata": {},
   "source": [
    "Q2. What are the two tuple methods in python? Give an example of each method. Give a reason why\n",
    "tuples have only two in-built methods as compared to Lists."
   ]
  },
  {
   "cell_type": "markdown",
   "id": "8f521066-2109-4920-9d91-ec0b67b7d092",
   "metadata": {},
   "source": [
    "There are only two tuple methods count() and index() that a tuple object can call.\n"
   ]
  },
  {
   "cell_type": "code",
   "execution_count": 9,
   "id": "f695d916-1c19-46d5-b612-975547a13d05",
   "metadata": {},
   "outputs": [],
   "source": [
    "t1 = (1, 2, 3, 4, 48+9j, \"priya\", False)"
   ]
  },
  {
   "cell_type": "code",
   "execution_count": 10,
   "id": "efa85e86-d8f5-4398-b8e4-a391d2ae7108",
   "metadata": {},
   "outputs": [
    {
     "data": {
      "text/plain": [
       "(1, 2, 3, 4, (48+9j), 'priya', False)"
      ]
     },
     "execution_count": 10,
     "metadata": {},
     "output_type": "execute_result"
    }
   ],
   "source": [
    "t1"
   ]
  },
  {
   "cell_type": "code",
   "execution_count": 12,
   "id": "fab5443a-eb0e-4eed-a0a6-7a99366016a6",
   "metadata": {},
   "outputs": [
    {
     "data": {
      "text/plain": [
       "3"
      ]
     },
     "execution_count": 12,
     "metadata": {},
     "output_type": "execute_result"
    }
   ],
   "source": [
    "t1.index(4)"
   ]
  },
  {
   "cell_type": "code",
   "execution_count": 17,
   "id": "de86c913-fb6b-4473-85ee-4aa8f643adbe",
   "metadata": {},
   "outputs": [
    {
     "data": {
      "text/plain": [
       "1"
      ]
     },
     "execution_count": 17,
     "metadata": {},
     "output_type": "execute_result"
    }
   ],
   "source": [
    "t1.count(4)"
   ]
  },
  {
   "cell_type": "markdown",
   "id": "ca0f22cc-e7ec-40ff-a7f0-8cbfc5ab7c75",
   "metadata": {},
   "source": [
    "The tuples have only two in-built method as compared to list the reason is simple.Tuple are immutable. You cannot change their contents after they are created.The length of tuples is also mixed."
   ]
  },
  {
   "cell_type": "markdown",
   "id": "cba232e0-1d80-4415-a2ba-ad2ef09d8ad3",
   "metadata": {},
   "source": [
    "Q3. Which collection datatypes in python do not allow duplicate items? Write a code using a set to remove\n",
    "duplicates from the given list.\n",
    "   List = [1, 1, 1, 2, 1, 3, 1, 4, 2, 1, 2, 2, 2, 3, 2, 4, 3, 1, 3, 2, 3, 3, 3, 4, 4, 1, 4, 2, 4, 3, 4, 4]"
   ]
  },
  {
   "cell_type": "markdown",
   "id": "0800b402-5eeb-4791-af37-7febb6d27915",
   "metadata": {},
   "source": [
    "Set  is collection of datatypes in python donot allow duplicate item.\n"
   ]
  },
  {
   "cell_type": "code",
   "execution_count": 18,
   "id": "d9e278f8-8117-4af6-89f5-36351c4108f2",
   "metadata": {},
   "outputs": [],
   "source": [
    " List = [1, 1, 1, 2, 1, 3, 1, 4, 2, 1, 2, 2, 2, 3, 2, 4, 3, 1, 3, 2, 3, 3, 3, 4, 4, 1, 4, 2, 4, 3, 4, 4]"
   ]
  },
  {
   "cell_type": "code",
   "execution_count": 21,
   "id": "6a776e79-7a95-42ec-83ae-28d1df3ede96",
   "metadata": {},
   "outputs": [],
   "source": [
    "my_list=[1, 1, 1, 2, 1, 3, 1, 4, 2, 1, 2, 2, 2, 3, 2, 4, 3, 1, 3, 2, 3, 3, 3, 4, 4, 1, 4, 2, 4, 3, 4, 4]\n",
    "my_final_list = set(my_list)\n"
   ]
  },
  {
   "cell_type": "code",
   "execution_count": 22,
   "id": "40dc3d85-6473-4caf-a84f-0a7e73989f56",
   "metadata": {},
   "outputs": [
    {
     "name": "stdout",
     "output_type": "stream",
     "text": [
      "{1, 2, 3, 4}\n"
     ]
    }
   ],
   "source": [
    "print(my_final_list)"
   ]
  },
  {
   "cell_type": "markdown",
   "id": "d4e8f123-861a-4ad8-b942-a4e92e4dafed",
   "metadata": {},
   "source": [
    "Q4. Explain the difference between the union() and update() methods for a set. Give an example of\n",
    "each method."
   ]
  },
  {
   "cell_type": "markdown",
   "id": "baa9e2e5-3c8e-4f0f-ab3e-1ab42c612caa",
   "metadata": {},
   "source": [
    "update() add all the missing elements to the set.union() creates a new set."
   ]
  },
  {
   "cell_type": "code",
   "execution_count": 31,
   "id": "933d8f96-f530-4764-924f-3705e9820973",
   "metadata": {},
   "outputs": [],
   "source": [
    "s={1,2,3}\n",
    "s1={4,5,6}\n"
   ]
  },
  {
   "cell_type": "code",
   "execution_count": 40,
   "id": "07ec9765-ba4f-43aa-8b92-ac388bffbf65",
   "metadata": {},
   "outputs": [],
   "source": [
    "s.update(s1)"
   ]
  },
  {
   "cell_type": "code",
   "execution_count": 41,
   "id": "5c1959ae-4756-42dd-b82d-c754a47cf2a4",
   "metadata": {},
   "outputs": [
    {
     "data": {
      "text/plain": [
       "{1, 2, 3, 4, 5, 6}"
      ]
     },
     "execution_count": 41,
     "metadata": {},
     "output_type": "execute_result"
    }
   ],
   "source": [
    "s"
   ]
  },
  {
   "cell_type": "code",
   "execution_count": 42,
   "id": "bbf60918-ddca-4516-a9f2-9b6be4e15d09",
   "metadata": {},
   "outputs": [
    {
     "data": {
      "text/plain": [
       "{1, 2, 3, 4, 5, 6}"
      ]
     },
     "execution_count": 42,
     "metadata": {},
     "output_type": "execute_result"
    }
   ],
   "source": [
    "s.union(s1)"
   ]
  },
  {
   "cell_type": "markdown",
   "id": "0eccc282-0e3f-400a-adca-206842ac372c",
   "metadata": {},
   "source": [
    "Q5. What is a dictionary? Give an example. Also, state whether a dictionary is ordered or unordered."
   ]
  },
  {
   "cell_type": "markdown",
   "id": "b5d722d4-cacb-44f2-ba26-134a877ae295",
   "metadata": {},
   "source": [
    "Dictionary are used to store data values in key:value pairs. A dictionary is a collection which is ordered,changeable and donot allow duplicates."
   ]
  },
  {
   "cell_type": "code",
   "execution_count": 43,
   "id": "32921980-decc-490e-adff-d7ddbbeea767",
   "metadata": {},
   "outputs": [],
   "source": [
    "dic= {\"name\" : \"sudha\" , \"email_id\" : \"ss@gmail.com\" , \"number\" : 234324}"
   ]
  },
  {
   "cell_type": "code",
   "execution_count": 44,
   "id": "9769e29b-6e5a-49db-b288-d2a63581a331",
   "metadata": {},
   "outputs": [
    {
     "data": {
      "text/plain": [
       "{'name': 'sudha', 'email_id': 'ss@gmail.com', 'number': 234324}"
      ]
     },
     "execution_count": 44,
     "metadata": {},
     "output_type": "execute_result"
    }
   ],
   "source": [
    "dic"
   ]
  },
  {
   "cell_type": "markdown",
   "id": "698b8b3f-8a3b-4391-bda5-05c77db96be1",
   "metadata": {},
   "source": [
    "Dictionary is ordered."
   ]
  },
  {
   "cell_type": "markdown",
   "id": "c41384c3-e097-4ec8-8577-e0deafddd4cb",
   "metadata": {},
   "source": [
    "Q6. Can we create a nested dictionary? If so, please give an example by creating a simple one-level\n",
    "nested dictionary."
   ]
  },
  {
   "cell_type": "markdown",
   "id": "9a5fc771-c0d9-4ce8-8c28-bfb251379ebd",
   "metadata": {},
   "source": [
    "Yes, we can created a nested dictionary.\n"
   ]
  },
  {
   "cell_type": "code",
   "execution_count": 46,
   "id": "a018c392-5b90-4c90-9ce9-ae2738c4ea50",
   "metadata": {},
   "outputs": [],
   "source": [
    "Dic= {\"key\" : {\"name\" : \"priya\" , \"class\" : \"pwskills\"}}"
   ]
  },
  {
   "cell_type": "code",
   "execution_count": 47,
   "id": "1088751b-9f61-4941-bc11-8a5e8862544a",
   "metadata": {},
   "outputs": [
    {
     "data": {
      "text/plain": [
       "{'key': {'name': 'priya', 'class': 'pwskills'}}"
      ]
     },
     "execution_count": 47,
     "metadata": {},
     "output_type": "execute_result"
    }
   ],
   "source": [
    "Dic"
   ]
  },
  {
   "cell_type": "markdown",
   "id": "9ea8edcb-94ab-4902-bb78-e424bb37902c",
   "metadata": {},
   "source": [
    "Q7. Using setdefault() method, create key named topics in the given dictionary and also add the value of\n",
    "the key as this list ['Python', 'Machine Learning’, 'Deep Learning']\n",
    "dict1 = {'language' : 'Python', 'course': 'Data Science Masters'}"
   ]
  },
  {
   "cell_type": "markdown",
   "id": "b51466b1-74a9-4cb1-8353-c8749d096b78",
   "metadata": {},
   "source": [
    " list ['Python', 'Machine Learning’, 'Deep Learning'] \n",
    "dict1 = {'language' : 'Python', 'course': 'Data Science Masters'}"
   ]
  },
  {
   "cell_type": "code",
   "execution_count": 10,
   "id": "0a0a7430-ef0e-4607-9e09-f2907c48c28d",
   "metadata": {},
   "outputs": [],
   "source": [
    "d= ['Python' ,'Machine Learning' , 'Deep Learning']"
   ]
  },
  {
   "cell_type": "code",
   "execution_count": 24,
   "id": "f6ea861e-2371-4c70-a75e-b28484e9bb7c",
   "metadata": {},
   "outputs": [],
   "source": [
    "dict2 = {'language' : 'Python', 'course': 'Data Science Masters'}"
   ]
  },
  {
   "cell_type": "code",
   "execution_count": 27,
   "id": "c50e4850-bb74-4a86-ad7a-1355ba93cf94",
   "metadata": {},
   "outputs": [],
   "source": [
    "temp = dict2.setdefault('Machine Learning','Deep Learning')"
   ]
  },
  {
   "cell_type": "code",
   "execution_count": 28,
   "id": "dce615fb-6cd1-40ef-b432-79c12b4b13d0",
   "metadata": {},
   "outputs": [
    {
     "data": {
      "text/plain": [
       "{'language': 'Python',\n",
       " 'course': 'Data Science Masters',\n",
       " 'Machine Learning': 'Deep Learning'}"
      ]
     },
     "execution_count": 28,
     "metadata": {},
     "output_type": "execute_result"
    }
   ],
   "source": [
    "dict2"
   ]
  },
  {
   "cell_type": "markdown",
   "id": "a90c25f1-ba5c-43ac-a686-aec8255a74c3",
   "metadata": {},
   "source": [
    "Q8. What are the three view objects in dictionaries? Use the three in-built methods in python to display\n",
    "these three view objects for the given dictionary.\n",
    "dict1 = {'Sport': 'Cricket' , 'Teams': ['India', 'Australia', 'England', 'South Africa', 'Sri Lanka', 'New Zealand']}"
   ]
  },
  {
   "cell_type": "markdown",
   "id": "1931c169-990d-40e7-bc28-7e0bdb655a83",
   "metadata": {},
   "source": [
    "The three view objects in dictionaries are keys,value and items."
   ]
  },
  {
   "cell_type": "code",
   "execution_count": 13,
   "id": "f6a1cb4e-09ca-430b-b639-f986a233a75e",
   "metadata": {},
   "outputs": [],
   "source": [
    "dict1 = {'Sport': 'Cricket' , 'Teams': ['India', 'Australia', 'England', 'South Africa', 'Sri Lanka', 'New Zealand']}"
   ]
  },
  {
   "cell_type": "code",
   "execution_count": 14,
   "id": "bfc55f56-cc67-40dd-b927-2d0123e71fc2",
   "metadata": {},
   "outputs": [
    {
     "name": "stdout",
     "output_type": "stream",
     "text": [
      "dict_items([('Sport', 'Cricket'), ('Teams', ['India', 'Australia', 'England', 'South Africa', 'Sri Lanka', 'New Zealand'])])\n"
     ]
    }
   ],
   "source": [
    "print(dict1.items())"
   ]
  },
  {
   "cell_type": "code",
   "execution_count": 15,
   "id": "480ccd0b-681e-4f24-bf66-36efd5a5c614",
   "metadata": {},
   "outputs": [
    {
     "name": "stdout",
     "output_type": "stream",
     "text": [
      "dict_keys(['Sport', 'Teams'])\n"
     ]
    }
   ],
   "source": [
    "print(dict1.keys())"
   ]
  },
  {
   "cell_type": "code",
   "execution_count": 16,
   "id": "ea7224fe-e607-46da-8379-d1953980a99c",
   "metadata": {},
   "outputs": [
    {
     "data": {
      "text/plain": [
       "dict_values(['Cricket', ['India', 'Australia', 'England', 'South Africa', 'Sri Lanka', 'New Zealand']])"
      ]
     },
     "execution_count": 16,
     "metadata": {},
     "output_type": "execute_result"
    }
   ],
   "source": [
    "dict1.values()"
   ]
  },
  {
   "cell_type": "code",
   "execution_count": null,
   "id": "962e368f-4189-41e3-b07c-f38cde02228d",
   "metadata": {},
   "outputs": [],
   "source": []
  }
 ],
 "metadata": {
  "kernelspec": {
   "display_name": "Python 3 (ipykernel)",
   "language": "python",
   "name": "python3"
  },
  "language_info": {
   "codemirror_mode": {
    "name": "ipython",
    "version": 3
   },
   "file_extension": ".py",
   "mimetype": "text/x-python",
   "name": "python",
   "nbconvert_exporter": "python",
   "pygments_lexer": "ipython3",
   "version": "3.10.8"
  }
 },
 "nbformat": 4,
 "nbformat_minor": 5
}
