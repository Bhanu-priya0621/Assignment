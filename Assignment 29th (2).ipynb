{
 "cells": [
  {
   "cell_type": "markdown",
   "id": "b9e9fb45-e266-42f9-b071-44f674d044d5",
   "metadata": {},
   "source": [
    "1 . Who developed python programming Language?"
   ]
  },
  {
   "cell_type": "markdown",
   "id": "1ba8db25-4089-42bd-8a4b-28f1aee7d588",
   "metadata": {},
   "source": [
    "Guido van Rossum developed python pragramming Language."
   ]
  },
  {
   "cell_type": "markdown",
   "id": "174f1aad-c6da-45b6-84fe-b508a8552d47",
   "metadata": {},
   "source": [
    "2. Which type of programming does python support?"
   ]
  },
  {
   "cell_type": "markdown",
   "id": "d0483ff1-c768-40b4-bb03-41a0ac45da02",
   "metadata": {},
   "source": [
    "Python is an interpreted programming language,supporting object-oriented,structure, and functional programming."
   ]
  },
  {
   "cell_type": "markdown",
   "id": "7ec24a92-5082-4da4-9298-23dc1d2d4275",
   "metadata": {},
   "source": [
    "3. Is python case sensitive when dealing with identifiers?"
   ]
  },
  {
   "cell_type": "markdown",
   "id": "b5b1f48a-1674-42d9-b408-7cd1169a4990",
   "metadata": {},
   "source": [
    "Yes, Python is a case-sensitive language.It treat uppercase and lowercase character differently."
   ]
  },
  {
   "cell_type": "markdown",
   "id": "2a0dd404-5516-42de-8fca-05d97d93e403",
   "metadata": {},
   "source": [
    "4.What is the correct extension of the  python file?"
   ]
  },
  {
   "cell_type": "markdown",
   "id": "aea0a8c2-94f5-477d-ae94-680ad187060e",
   "metadata": {},
   "source": [
    "The extensions of the python files are py,.pyi,.pyc,.pyd,.pyo,.pyw, and .pyz"
   ]
  },
  {
   "cell_type": "markdown",
   "id": "09cfa7c1-8cfa-4c3c-b963-adc68874c3ac",
   "metadata": {},
   "source": [
    "5.Is Python code compiled or interpreted?"
   ]
  },
  {
   "cell_type": "markdown",
   "id": "ed61da9f-4547-46c1-b6ac-c9b95407b7bd",
   "metadata": {},
   "source": [
    "Python is an interpreted language."
   ]
  },
  {
   "cell_type": "markdown",
   "id": "8896f695-ab5d-4320-b499-6d07184ca1aa",
   "metadata": {},
   "source": [
    "6.Name a few blocks of code used to define in python language?"
   ]
  },
  {
   "cell_type": "markdown",
   "id": "601ebab4-3ca8-483d-a4b9-c8298d688d52",
   "metadata": {},
   "source": [
    "The following are blocks:- a module, a function body , and a class definition."
   ]
  },
  {
   "cell_type": "markdown",
   "id": "cc932a2f-7a19-46c5-92f0-84bf0fd0790e",
   "metadata": {},
   "source": [
    "7.State a character used to  give single line comments in python?"
   ]
  },
  {
   "cell_type": "markdown",
   "id": "0f2c037d-ec8d-4147-8aea-a6436a9119e0",
   "metadata": {},
   "source": [
    " \"#\" is used to give single line comments in python."
   ]
  },
  {
   "cell_type": "markdown",
   "id": "87c3d0c5-5f83-4687-8fd1-e8ac3a3d19c7",
   "metadata": {},
   "source": [
    "8.Mention function which can help us to find the version of python that we are currently working on?"
   ]
  },
  {
   "cell_type": "markdown",
   "id": "b33245f6-5192-438e-a2c6-0177e38a25f1",
   "metadata": {},
   "source": [
    "sys.version is function which can help us to find the version of python that we are currently working on."
   ]
  },
  {
   "cell_type": "markdown",
   "id": "4ecb608c-3580-4158-8b17-eee772501be6",
   "metadata": {},
   "source": [
    "9.Python supports the creation of anonymous function at runtime ,using a construct called__________________."
   ]
  },
  {
   "cell_type": "markdown",
   "id": "4f0d0ad7-2634-4f24-849e-32a54705f198",
   "metadata": {},
   "source": [
    "lambda"
   ]
  },
  {
   "cell_type": "markdown",
   "id": "8fd4f55a-e799-4d45-9d07-12abfa2d87ee",
   "metadata": {},
   "source": [
    "10.What does pip stand for python?"
   ]
  },
  {
   "cell_type": "markdown",
   "id": "ef6e7e08-cd52-4813-bb1e-dbca72b4098d",
   "metadata": {},
   "source": [
    "pip stand for \"preferred Installer program."
   ]
  },
  {
   "cell_type": "markdown",
   "id": "bd73ee7f-b2ac-47f4-a9ed-745bb2fabd2c",
   "metadata": {},
   "source": [
    "11.Mention a few bult in function in python?"
   ]
  },
  {
   "cell_type": "markdown",
   "id": "ef95f65b-a4fc-41d0-bea8-6d61a327aa45",
   "metadata": {},
   "source": [
    "There are 68 built-in python function.\n",
    "\n",
    "Few Python built-in functions are :-\n",
    "\n",
    "\n",
    "1. print()function\n",
    "\n",
    "2. type()function \n",
    "\n",
    "3. input()function\n",
    "\n",
    "4.dir()function\n",
    "\n",
    "5.sorted()function\n",
    "\n",
    "6.max()function\n",
    "\n",
    "7.len()function\n",
    "\n",
    "8. sum()function\n",
    "\n",
    "9.sorted()function\n",
    "\n",
    "10.divmod()function.\n"
   ]
  },
  {
   "cell_type": "markdown",
   "id": "da18277c-b58f-4d22-a208-0ef36b98287f",
   "metadata": {},
   "source": [
    "12.What is the  maximum possible length of identifier in python?"
   ]
  },
  {
   "cell_type": "markdown",
   "id": "30d0bfde-d147-4cb9-82a2-8a7f571a0d75",
   "metadata": {},
   "source": [
    "An identifier can have  a maximum length of 79 character in python."
   ]
  },
  {
   "cell_type": "markdown",
   "id": "52c57676-16f2-4b7f-a009-c4b2da663c38",
   "metadata": {},
   "source": [
    "13.What are the benefits of using Python?"
   ]
  },
  {
   "cell_type": "markdown",
   "id": "6540176a-e979-40f2-86e6-95e795c4ea2a",
   "metadata": {},
   "source": [
    "Advantages  using of Python\n",
    "\n",
    "\n",
    "1.Simple to Use and Understand\n",
    "\n",
    "2.Free and Open-Source\n",
    "\n",
    "3.Productivity has Increased\n",
    "\n",
    "4.Extensive library\n",
    "\n",
    "5.Interpreted Language\n",
    "\n",
    "6.Dynamically Typed"
   ]
  },
  {
   "cell_type": "markdown",
   "id": "ed369a2b-f1fa-4912-acef-b15181073b70",
   "metadata": {},
   "source": [
    "An identifier  can have a maximum length  of 79 characters in python."
   ]
  },
  {
   "cell_type": "markdown",
   "id": "eea92038-9ecf-46b8-9fcd-8d36fbbf531f",
   "metadata": {},
   "source": [
    "14.How is memory managed in python?"
   ]
  },
  {
   "cell_type": "markdown",
   "id": "cc055583-ba9c-4e34-8ead-16ca3b5d0afc",
   "metadata": {},
   "source": [
    "The Python memory manager  uses  API method to handle the allocation  and deallocation of this heap space."
   ]
  },
  {
   "cell_type": "markdown",
   "id": "64b12c33-50a8-455b-9376-e9a698806f59",
   "metadata": {},
   "source": [
    "15.How to install python on windows  and set path variables?"
   ]
  },
  {
   "cell_type": "markdown",
   "id": "880f745e-28f3-49b5-b7eb-2439d5822795",
   "metadata": {},
   "source": [
    "1.Open a browser to the python website and download the windows installer.\n",
    "\n",
    "2. Double click on the downloaded file and install python for all user,and ensure that python is added to your path.Click on install now to begin.\n",
    "\n",
    "\n",
    "3.After the installation is complete ,click Disable path length limit and then close.\n",
    "\n",
    "\n",
    "4.Click Close to end the installation."
   ]
  },
  {
   "cell_type": "markdown",
   "id": "daff3553-0171-4da5-8c4b-029eeb85cd61",
   "metadata": {},
   "source": [
    "Path will be set for executing Python program :-\n",
    "\n",
    "1.Right  click on My computer and click on properties.\n",
    "\n",
    "2.Click on Advanced system setting.\n",
    "\n",
    "3.Click on Environment Variable tab\n",
    "\n",
    "4.Click on new tab of user variables\n",
    "\n",
    "5.Write path in variable name\n",
    "\n",
    "6.copy the path of python folder\n",
    "\n",
    "7.Paste path of python in variable value.\n",
    "\n",
    "8.Click on Ok button\n"
   ]
  },
  {
   "cell_type": "markdown",
   "id": "074b4552-8781-4500-945a-c2f19380c89d",
   "metadata": {},
   "source": [
    "16.Is indentation required in python ?"
   ]
  },
  {
   "cell_type": "markdown",
   "id": "a64cec31-3a88-4e53-988c-7bab1b7ccb22",
   "metadata": {},
   "source": [
    "Yes, the indentation in python is very important."
   ]
  },
  {
   "cell_type": "code",
   "execution_count": null,
   "id": "c7df391a-0a3f-46e1-a9b3-a1629c5894de",
   "metadata": {},
   "outputs": [],
   "source": []
  }
 ],
 "metadata": {
  "kernelspec": {
   "display_name": "Python 3 (ipykernel)",
   "language": "python",
   "name": "python3"
  },
  "language_info": {
   "codemirror_mode": {
    "name": "ipython",
    "version": 3
   },
   "file_extension": ".py",
   "mimetype": "text/x-python",
   "name": "python",
   "nbconvert_exporter": "python",
   "pygments_lexer": "ipython3",
   "version": "3.10.8"
  }
 },
 "nbformat": 4,
 "nbformat_minor": 5
}
