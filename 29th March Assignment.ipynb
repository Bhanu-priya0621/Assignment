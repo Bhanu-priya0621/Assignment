{
 "cells": [
  {
   "cell_type": "markdown",
   "id": "d6dd5990-5c93-4cdf-8a36-96edb4548e0c",
   "metadata": {},
   "source": [
    "Q1. What is Lasso Regression, and how does it differ from other regression techniques?\n",
    "\n",
    "\n",
    "Lasso Regression is a type of linear regression that adds a penalty term to the cost function. The penalty term is the L1 norm of the model coefficients, and it helps to reduce the complexity of the model by shrinking the coefficients towards zero. Lasso Regression differs from other regression techniques in that it can perform variable selection by setting some of the coefficients to exactly zero. This means that it can be used to identify the most important features in the dataset and to eliminate the less important ones, leading to a simpler and more interpretable model. In contrast, other regression techniques, such as ordinary least squares and ridge regression, do not perform variable selection and may include all features in the model, leading to a more complex and potentially less interpretable model."
   ]
  },
  {
   "cell_type": "markdown",
   "id": "bee33102-ee4e-4036-8257-1ee34b30d4a6",
   "metadata": {},
   "source": [
    "Q2. What is the main advantage of using Lasso Regression in feature selection?\n",
    "\n",
    "The main advantage of using Lasso Regression in feature selection is that it can automatically select the most important features in a dataset and set the coefficients of the unimportant features to zero. This helps in reducing the complexity of the model, improving its interpretability, and preventing overfitting. Additionally, Lasso Regression can handle datasets with a large number of features and is computationally efficient."
   ]
  },
  {
   "cell_type": "markdown",
   "id": "82cf4a65-a429-4120-b256-fc56e2d3c846",
   "metadata": {},
   "source": [
    "Q3. How do you interpret the coefficients of a Lasso Regression model?\n",
    "\n",
    "In Lasso Regression, the coefficients of the model represent the degree of impact that each independent variable has on the dependent variable. However, due to the L1 penalty term in the cost function, the coefficients of some variables may be shrunk towards zero, resulting in sparse coefficients. The size of the coefficients indicates the degree of impact on the dependent variable, with larger coefficients indicating a stronger impact. Additionally, the sign of the coefficient (positive or negative) indicates the direction of the relationship between the independent variable and the dependent variable."
   ]
  },
  {
   "cell_type": "markdown",
   "id": "53b366f3-7a07-4c73-8ece-01f9b242ceed",
   "metadata": {},
   "source": [
    "Q4. What are the tuning parameters that can be adjusted in Lasso Regression, and how do they affect the\n",
    "model's performance?\n",
    "\n",
    "In Lasso Regression, there is only one tuning parameter, which is the regularization parameter (lambda or alpha). This parameter controls the amount of regularization applied to the model, which determines the strength of the penalty term in the objective function.\n",
    "\n",
    "Increasing the value of lambda increases the amount of regularization and reduces the complexity of the model. This, in turn, reduces the variance and prevents overfitting. However, if lambda is set too high, the model may underfit the data and the predictive performance may suffer.\n",
    "\n",
    "On the other hand, decreasing the value of lambda decreases the amount of regularization and increases the complexity of the model. This can lead to overfitting, which causes the model to fit too closely to the training data and perform poorly on new data.\n",
    "\n",
    "Therefore, the choice of the regularization parameter in Lasso Regression is crucial in balancing the trade-off between bias and variance and achieving optimal predictive performance.\n"
   ]
  },
  {
   "cell_type": "markdown",
   "id": "8ed477d6-3de2-4276-a38d-4c83722d31b2",
   "metadata": {},
   "source": [
    "Q5. Can Lasso Regression be used for non-linear regression problems? If yes, how?\n",
    "\n",
    "Lasso Regression is primarily used for linear regression problems. However, it can be extended to non-linear regression problems by using a technique called kernel trick. The kernel trick involves transforming the original feature space into a higher-dimensional space, where non-linear relationships between the features and the target variable can be captured using a linear regression model. This allows Lasso Regression to handle non-linear regression problems as well. However, choosing the appropriate kernel function is critical to the performance of the model."
   ]
  },
  {
   "cell_type": "markdown",
   "id": "16eb778c-f8ee-4206-bf97-a0e6b3a5bd07",
   "metadata": {},
   "source": [
    "Q6. What is the difference between Ridge Regression and Lasso Regression?\n",
    "\n",
    "The main difference between Ridge Regression and Lasso Regression is in the way they perform regularization.\n",
    "\n",
    "Ridge Regression adds a penalty term proportional to the square of the magnitude of the coefficients (L2 norm) to the least squares objective function. This penalty term shrinks the coefficients towards zero but never actually sets them to zero, meaning that all features remain in the model. This makes Ridge Regression more suitable when we want to reduce the impact of multicollinearity on the model, as it will shrink all the coefficients by the same proportion.\n",
    "\n",
    "Lasso Regression, on the other hand, adds a penalty term proportional to the absolute value of the coefficients (L1 norm) to the least squares objective function. This penalty term not only shrinks the coefficients but can also set some of them exactly to zero, effectively removing the corresponding features from the model. This makes Lasso Regression more suitable when we want to perform feature selection and select the most important features in the model."
   ]
  },
  {
   "cell_type": "markdown",
   "id": "0c45b7ef-c58b-4883-bdb2-54fd00806e8f",
   "metadata": {},
   "source": [
    "Q7. Can Lasso Regression handle multicollinearity in the input features? If yes, how?\n",
    "\n",
    "Yes, Lasso Regression can handle multicollinearity in the input features. In fact, it is one of the advantages of using Lasso Regression over other regression techniques. Lasso Regression uses L1 regularization, which shrinks the coefficients of less important features to zero. This can effectively eliminate highly correlated features that contribute little to the overall model performance. However, it should be noted that if the multicollinearity is too high, even Lasso Regression may not be able to completely eliminate it, and it may still lead to unstable or unreliable coefficient estimates. In such cases, other techniques like Principal Component Regression (PCR) or Partial Least Squares Regression (PLS) may be more appropriate."
   ]
  },
  {
   "cell_type": "markdown",
   "id": "f5febe85-0685-41be-b05b-3a69bec2ee0a",
   "metadata": {},
   "source": [
    "Q8. How do you choose the optimal value of the regularization parameter (lambda) in Lasso Regression?\n",
    "\n",
    "The optimal value of the regularization parameter (lambda) in Lasso Regression can be chosen through a process called cross-validation. In this process, the dataset is divided into multiple folds, and the model is trained on each fold and tested on the remaining folds. The value of lambda that gives the best performance on the test data is chosen as the optimal value. This process can be repeated multiple times to ensure that the chosen value of lambda is robust and not specific to a particular set of data. Another method to choose the optimal value of lambda is to use information criterion such as Akaike Information Criterion (AIC) or Bayesian Information Criterion (BIC) that help in selecting the model with the best balance between accuracy and complexity."
   ]
  },
  {
   "cell_type": "code",
   "execution_count": null,
   "id": "24c27ae6-6e7f-4f9a-aeb8-1fa3b172d1f1",
   "metadata": {},
   "outputs": [],
   "source": []
  }
 ],
 "metadata": {
  "kernelspec": {
   "display_name": "Python 3 (ipykernel)",
   "language": "python",
   "name": "python3"
  },
  "language_info": {
   "codemirror_mode": {
    "name": "ipython",
    "version": 3
   },
   "file_extension": ".py",
   "mimetype": "text/x-python",
   "name": "python",
   "nbconvert_exporter": "python",
   "pygments_lexer": "ipython3",
   "version": "3.10.8"
  }
 },
 "nbformat": 4,
 "nbformat_minor": 5
}
