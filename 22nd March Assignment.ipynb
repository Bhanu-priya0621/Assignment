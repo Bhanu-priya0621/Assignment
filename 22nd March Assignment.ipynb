{
 "cells": [
  {
   "cell_type": "markdown",
   "id": "27f34a5a-a582-416e-973b-7305b78507eb",
   "metadata": {},
   "source": [
    "Q1. Pearson correlation coefficient is a measure of the linear relationship between two variables. Suppose\n",
    "you have collected data on the amount of time students spend studying for an exam and their final exam\n",
    "scores. Calculate the Pearson correlation coefficient between these two variables and interpret the result.\n",
    "\n",
    "\n",
    "\n",
    "To calculate the Pearson correlation coefficient between the amount of time students spend studying for an exam and their final exam scores, you would first need to calculate the covariance and standard deviation for both variables. Then, you can use the formula for Pearson correlation coefficient, which is:\n",
    "\n",
    "r = covariance / (standard deviation of variable 1 * standard deviation of variable 2)\n",
    "\n",
    "Once you have computed r, you can interpret the result using the following guidelines:\n",
    "\n",
    "If r is close to 1, there is a strong positive linear relationship between the two variables. This means that as the amount of time spent studying increases, the final exam scores also tend to increase.\n",
    "\n",
    "If r is close to -1, there is a strong negative linear relationship between the two variables. This means that as the amount of time spent studying increases, the final exam scores tend to decrease.\n",
    "\n",
    "If r is close to 0, there is no linear relationship between the two variables. This means that the amount of time spent studying does not predict final exam scores.\n",
    "\n",
    "For example, if the Pearson correlation coefficient is calculated to be r = 0.8, this would indicate a strong positive linear relationship between the amount of time spent studying and the final exam scores. In other words, students who spend more time studying tend to earn higher exam scores."
   ]
  },
  {
   "cell_type": "markdown",
   "id": "4a3ca5ff-01c1-4605-8b1d-4935c1a49e84",
   "metadata": {},
   "source": [
    "Q2. Spearman's rank correlation is a measure of the monotonic relationship between two variables.\n",
    "Suppose you have collected data on the amount of sleep individuals get each night and their overall job\n",
    "satisfaction level on a scale of 1 to 10. Calculate the Spearman's rank correlation between these two\n",
    "variables and interpret the result.\n",
    "\n",
    "\n",
    "To calculate the Spearman's rank correlation between the amount of sleep individuals get each night and their overall job satisfaction level, you would first need to rank both variables. Then, you can use the formula for Spearman's rank correlation, which is:\n",
    "\n",
    "rs = 1 - (6 * sum of squared differences between ranks) / (n * (n^2 - 1))\n",
    "\n",
    "where n is the number of observations.\n",
    "\n",
    "Once you have computed rs, you can interpret the result using the following guidelines:\n",
    "\n",
    "If rs is close to 1, there is a strong monotonic relationship between the two variables. This means that as the amount of sleep individuals get each night increases, their overall job satisfaction tends to increase as well (or vice versa).\n",
    "\n",
    "If rs is close to -1, there is a strong monotonic relationship between the two variables, but in the opposite direction. This means that as the amount of sleep individuals get each night increases, their overall job satisfaction tends to decrease (or vice versa).\n",
    "\n",
    "If rs is close to 0, there is no monotonic relationship between the two variables. This means that the amount of sleep individuals get each night does not predict their overall job satisfaction.\n",
    "\n",
    "For example, if the Spearman's rank correlation is calculated to be rs = 0.6, this would indicate a moderate positive monotonic relationship between the amount of sleep individuals get each night and their overall job satisfaction. In other words, individuals who get more sleep tend to have higher job satisfaction levels on average."
   ]
  },
  {
   "cell_type": "markdown",
   "id": "546822db-0d00-42bc-b6b2-b6f678404fa9",
   "metadata": {},
   "source": [
    "Q3. Suppose you are conducting a study to examine the relationship between the number of hours of\n",
    "exercise per week and body mass index (BMI) in a sample of adults. You collected data on both variables\n",
    "for 50 participants. Calculate the Pearson correlation coefficient and the Spearman's rank correlation\n",
    "between these two variables and compare the results.\n",
    "\n",
    "\n",
    "\n",
    "To calculate the Pearson correlation coefficient and the Spearman's rank correlation between the number of hours of exercise per week and body mass index (BMI) in a sample of 50 adults, you would first need to calculate the covariance and standard deviation for both variables, and then rank the data for the Spearman's rank correlation. Then, you can use the following formulas:\n",
    "\n",
    "Pearson correlation coefficient: r = covariance / (standard deviation of exercise hours * standard deviation of BMI)\n",
    "\n",
    "Spearman's rank correlation: rs = 1 - (6 * sum of squared differences between ranks) / (n * (n^2 - 1))\n",
    "\n",
    "where n is the number of observations.\n",
    "\n",
    "Once you have computed both coefficients, you can compare the results using the following guidelines:\n",
    "\n",
    "If the Pearson correlation coefficient and the Spearman's rank correlation both indicate a strong or moderate relationship between the two variables, this suggests that the relationship is likely to be linear.\n",
    "\n",
    "If the Pearson correlation coefficient is strong, but the Spearman's rank correlation is weak or not statistically significant, this suggests that the relationship is likely to be nonlinear or that outliers may be influencing the results.\n",
    "\n",
    "If the Spearman's rank correlation is strong, but the Pearson correlation coefficient is weak or not statistically significant, this suggests that the relationship may be monotonic, but not necessarily linear.\n",
    "\n",
    "For example, if the Pearson correlation coefficient is calculated to be r = -0.5 and the Spearman's rank correlation is calculated to be rs = -0.6, this would indicate a moderate negative relationship between the number of hours of exercise per week and BMI, with both coefficients suggesting a similar magnitude of association. However, if the Pearson correlation coefficient is calculated to be r = 0.3 and the Spearman's rank correlation is not statistically significant, this suggests that the relationship may be weak or nonlinear, and further investigation may be needed to fully understand the nature of the relationship."
   ]
  },
  {
   "cell_type": "markdown",
   "id": "aa4e2d14-5f80-41ae-97ea-91b2e7c37898",
   "metadata": {},
   "source": [
    "Q4. A researcher is interested in examining the relationship between the number of hours individuals\n",
    "spend watching television per day and their level of physical activity. The researcher collected data on\n",
    "both variables from a sample of 50 participants. Calculate the Pearson correlation coefficient between\n",
    "these two variables.\n",
    "\n",
    "To calculate the Pearson correlation coefficient between the number of hours individuals spend watching television per day and their level of physical activity in a sample of 50 participants, you would first need to calculate the covariance and standard deviation for both variables. Then, you can use the formula for Pearson correlation coefficient, which is:\n",
    "\n",
    "r = covariance / (standard deviation of TV watching hours * standard deviation of physical activity)\n",
    "\n",
    "Once you have computed r, you can interpret the result using the following guidelines:\n",
    "\n",
    "If r is close to 1, there is a strong positive linear relationship between the two variables. This means that as the number of hours individuals spend watching television per day increases, their level of physical activity tends to decrease (or vice versa).\n",
    "\n",
    "If r is close to -1, there is a strong negative linear relationship between the two variables. This means that as the number of hours individuals spend watching television per day increases, their level of physical activity tends to increase (or vice versa).\n",
    "\n",
    "If r is close to 0, there is no linear relationship between the two variables. This means that the number of hours individuals spend watching television per day does not predict their level of physical activity.\n",
    "\n",
    "For example, if the Pearson correlation coefficient is calculated to be r = -0.4, this would indicate a moderate negative linear relationship between the number of hours individuals spend watching television per day and their level of physical activity. In other words, individuals who spend more time watching television tend to have lower levels of physical activity on average. However, it is important to note that correlation does not imply causation, and further research would be needed to establish a causal relationship between these variables."
   ]
  },
  {
   "cell_type": "markdown",
   "id": "f916c717-b454-49ca-bba2-b9338f69aa34",
   "metadata": {},
   "source": [
    "Q5. A survey was conducted to examine the relationship between age and preference for a particular\n",
    "brand of soft drink. The survey results are shown below:\n",
    "\n",
    "\n",
    "\n",
    "Age(Years)                  Soft drink Preference         \n",
    "\n",
    "25                          Coke\n",
    "\n",
    "42                          Pepsi\n",
    "\n",
    "37                          Mountain dew\n",
    "\n",
    "19                          Coke\n",
    "\n",
    "31                          Pepsi\n",
    "\n",
    "28                           Coke\n",
    "\n"
   ]
  },
  {
   "cell_type": "markdown",
   "id": "05c3ebe2-423c-4e2a-bbee-5838807c9d89",
   "metadata": {},
   "source": [
    "The survey results show the following:\n",
    "\n",
    "Age                         \tSoft drink Preference\n",
    "\n",
    "25\t                            Coke\n",
    "\n",
    "\n",
    "42\t                            Pepsi\n",
    "\n",
    "\n",
    "37\t                            Mountain Dew\n",
    "\n",
    "\n",
    "19\t                            Coke\n",
    "\n",
    "\n",
    "31                              Pepsi\n",
    "\n",
    "\n",
    "28\t                            Coke"
   ]
  },
  {
   "cell_type": "markdown",
   "id": "7d0b3584-a93a-4b20-812a-083cd71d9850",
   "metadata": {},
   "source": [
    "The survey results show the following:\n",
    "\n",
    "Age (Years)\tSoft drink Preference\n",
    "25\tCoke\n",
    "42\tPepsi\n",
    "37\tMountain Dew\n",
    "19\tCoke\n",
    "31\tPepsi\n",
    "28\tCoke\n",
    "\n",
    "\n",
    "\n",
    "From the data, we can see that there are three different soft drink preferences: Coke, Pepsi, and Mountain Dew. The ages of the respondents range from 19 to 42 years old.\n",
    "\n",
    "To analyze the relationship between age and soft drink preference, we can create a frequency table that shows the number of respondents who prefer each soft drink for each age group. For example:\n",
    "\n",
    "\n",
    "Age       (Years)\tCoke\tPepsi\tMountain Dew\n",
    "\n",
    "19\t                  1\t      0         0\n",
    "\n",
    "25                     1\t  0\t        0\n",
    "\n",
    "\n",
    "28\t                   1    \t0\t    0\n",
    "\n",
    "\n",
    "31\t                   0\t    1\t    0\n",
    "\n",
    "\n",
    "37                     0\t     0\t    1\n",
    "\n",
    "\n",
    "42\t                   0\t    1\t    0\n",
    "\n",
    "\n",
    "\n",
    "\n",
    "From the frequency table, we can see that there is no clear relationship between age and soft drink preference. Each soft drink is preferred by at least one respondent in each age group, and there is no consistent pattern of preference based on age. Therefore, we can conclude that age does not have a significant influence on soft drink preference based on this survey data. However, it is important to note that this conclusion is based on a small sample size, and a larger survey may reveal different results."
   ]
  },
  {
   "cell_type": "markdown",
   "id": "38e4bd80-be25-4a84-8c3b-0fd27fb87bac",
   "metadata": {},
   "source": [
    "Q6. A company is interested in examining the relationship between the number of sales calls made per day\n",
    "and the number of sales made per week. The company collected data on both variables from a sample of\n",
    "30 sales representatives. Calculate the Pearson correlation coefficient between these two variables.\n",
    "\n",
    "\n"
   ]
  },
  {
   "cell_type": "code",
   "execution_count": 10,
   "id": "33237e1a-4b34-43a2-b899-01e3122db2d7",
   "metadata": {},
   "outputs": [
    {
     "name": "stdout",
     "output_type": "stream",
     "text": [
      "The Pearson correlation coefficient is: 0.995018719601234\n"
     ]
    }
   ],
   "source": [
    "import numpy as np\n",
    "\n",
    "# Input data\n",
    "X = [20, 25, 30, 35, 40, 45, 50, 55, 60, 65, 70, 75, 80, 85, 90, 95, 100, 105, 110, 115, 120, 125, 130, 135, 140, 145, 150, 155, 160, 165, 170]\n",
    "Y = [4, 6, 8, 9, 11, 13, 14, 16, 17, 18, 20, 22, 24, 25, 27, 29, 30, 31, 32, 33, 35, 36, 37, 38, 39, 40, 41, 42, 43, 44, 45]\n",
    "\n",
    "# Calculate Pearson correlation coefficient\n",
    "r = np.corrcoef(X, Y)[0, 1]\n",
    "\n",
    "# Print the result\n",
    "print(\"The Pearson correlation coefficient is:\", r)\n"
   ]
  },
  {
   "cell_type": "markdown",
   "id": "cedbb761-9181-435a-b55a-3faae046ed58",
   "metadata": {},
   "source": [
    "The Pearson correlation coefficient is 0.98, which indicates a strong positive correlation between the number of sales calls made per day and the number of sales made per week."
   ]
  },
  {
   "cell_type": "code",
   "execution_count": null,
   "id": "fe702144-62aa-42de-96be-ef4372cfdda6",
   "metadata": {},
   "outputs": [],
   "source": []
  }
 ],
 "metadata": {
  "kernelspec": {
   "display_name": "Python 3 (ipykernel)",
   "language": "python",
   "name": "python3"
  },
  "language_info": {
   "codemirror_mode": {
    "name": "ipython",
    "version": 3
   },
   "file_extension": ".py",
   "mimetype": "text/x-python",
   "name": "python",
   "nbconvert_exporter": "python",
   "pygments_lexer": "ipython3",
   "version": "3.10.8"
  }
 },
 "nbformat": 4,
 "nbformat_minor": 5
}
