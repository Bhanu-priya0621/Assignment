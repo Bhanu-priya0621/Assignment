{
 "cells": [
  {
   "cell_type": "markdown",
   "id": "eaec0666-92a6-4ef3-9a2a-8bf670e5ea5e",
   "metadata": {},
   "source": [
    "Q1. What is Statistics?"
   ]
  },
  {
   "cell_type": "markdown",
   "id": "66bbad97-5008-44af-956d-0114efbdc146",
   "metadata": {},
   "source": [
    "Statistics is the science of collecting , organizing, and analysing the data."
   ]
  },
  {
   "cell_type": "markdown",
   "id": "9d41616a-5185-4d1f-9118-a80c7c36ce0c",
   "metadata": {},
   "source": [
    "\n",
    "Q2. Define the different types of statistics and give an example of when each type might be used."
   ]
  },
  {
   "cell_type": "markdown",
   "id": "36ef8225-af1a-42e5-b55c-824c122a2381",
   "metadata": {},
   "source": [
    " Types of Statistics\n",
    "\n",
    "1.Descriptive Statistics\n",
    "\n",
    "\n",
    "2.Inferential Statistics\n",
    "\n",
    "\n",
    "\n",
    "Descriptive Statistics\n",
    "It consists of organising and summarizing data.\n",
    "Example of descriptive statistics,student's grade point average(GPA).A GPA gathers the data points created through a large selection of grades,classes,and exams then average them together and presents a general idea of the student's mean academic performance.\n",
    "\n",
    "\n",
    "Inferential Statistics\n",
    "It consists of using data you have measured to form conclusion.\n",
    "Example: Inferential statistics You randomly select a sample of 11th graders in your state and collect data on their SAT scores and other characteristics. "
   ]
  },
  {
   "cell_type": "markdown",
   "id": "72555a9b-a87d-4f4c-869b-6ccca3c535ac",
   "metadata": {},
   "source": [
    "Q3. What are the different types of data and how do they differ from each other? Provide an example of\n",
    "each type of data."
   ]
  },
  {
   "cell_type": "markdown",
   "id": "bc580178-5a95-4258-b82e-49b243511326",
   "metadata": {},
   "source": [
    "Types of Data\n",
    "\n",
    "1.Categorical or Qualitative Data\n",
    "a.Nominal Data\n",
    "b.Ordinal Data\n",
    "\n",
    "2.Numerical or Quantative Data\n",
    "a.Discrete Data\n",
    "b.Continuous Data\n",
    "\n",
    "\n",
    "Qualitative or Categorical Data\n",
    "\n",
    "Qualitative data, also known as the categorical data, describes the data that fits into the categories. Qualitative data are not numerical. The categorical information involves categorical variables that describe the features such as a person’s gender, home town etc. Categorical measures are defined in terms of natural language specifications, but not in terms of numbers.Sometimes categorical data can hold numerical values (quantitative value), but those values do not have a mathematical sense. Examples of the categorical data are birthdate, favourite sport, school postcode. Here, the birthdate and school postcode hold the quantitative value, but it does not give numerical meaning.\n",
    "\n",
    "\n",
    "Quantitative or Numerical Data\n",
    "Quantitative data is also known as numerical data which represents the numerical value (i.e., how much, how often, how many). Numerical data gives information about the quantities of a specific thing. Some examples of numerical data are height, length, size, weight, and so on. The quantitative data can be classified into two different types based on the data sets. The two different classifications of numerical data are discrete data and continuous data."
   ]
  },
  {
   "cell_type": "markdown",
   "id": "3e84f65e-f8fb-49d1-8154-fac90395ce6c",
   "metadata": {},
   "source": [
    "Q4. Categorise the following datasets with respect to quantitative and qualitative data types:\n",
    "(i) Grading in exam: A+, A, B+, B, C+, C, D, E\n",
    "(ii) Colour of mangoes: yellow, green, orange, red\n",
    "(iii) Height data of a class: [178.9, 179, 179.5, 176, 177.2, 178.3, 175.8,...]\n",
    "(iv) Number of mangoes exported by a farm: [500, 600, 478, 672, ...]"
   ]
  },
  {
   "cell_type": "markdown",
   "id": "7ecdf007-b363-40ac-8cc1-30063bbde704",
   "metadata": {},
   "source": [
    "(i) Grading in exam: A+, A, B+, B, C+, C, D, E  - Qualitative Data\n",
    "\n",
    "(ii) Colour of mangoes: yellow, green, orange, red -Qualitative Data\n",
    "\n",
    "(iii) Height data of a class: [178.9, 179, 179.5, 176, 177.2, 178.3, 175.8,...] - Quantitative Data\n",
    "\n",
    "\n",
    "(iv) Number of mangoes exported by a farm: [500, 600, 478, 672, ...] - Quantitative Data"
   ]
  },
  {
   "cell_type": "markdown",
   "id": "f107fc5c-8939-4cde-92a1-57e131aaee97",
   "metadata": {},
   "source": [
    "Q5. Explain the concept of levels of measurement and give an example of a variable for each level."
   ]
  },
  {
   "cell_type": "markdown",
   "id": "cc91f46c-7513-4757-98e7-78529fca7b00",
   "metadata": {},
   "source": [
    "There are 4 levels of measurement:\n",
    "\n",
    "Nominal: the data can only be categorized  but there is no order between the categories.\n",
    "\n",
    "examples:- City of birth\n",
    "\n",
    "Gender\n",
    "\n",
    "Ethnicity\n",
    "\n",
    "Car brands\n",
    "\n",
    "Marital status\n",
    "\n",
    "\n",
    "Ordinal: the data can be categorized and ranked but you cannot say anything about the intervals between the rankings.\n",
    "Example:-Top 5 Olympic medallists\n",
    "\n",
    "Language ability (e.g., beginner, intermediate, fluent)\n",
    "\n",
    "\n",
    "\n",
    "Interval: the data can be categorized, ranked, and evenly spaceds but there is no true zero point.\n",
    "\n",
    "Example:-Test scores (e.g., IQ or exams)\n",
    "\n",
    "Personality inventories\n",
    "\n",
    "Temperature in Fahrenheit or Celsius\n",
    "\n",
    "\n",
    "Ratio: the data can be categorized, ranked, evenly spaced, and has a natural zero.\n",
    "Example:-Height\n",
    "\n",
    "Age\n",
    "\n",
    "Weight\n",
    "\n",
    "Temperature in Kelvin"
   ]
  },
  {
   "cell_type": "markdown",
   "id": "eacd899c-0d1b-4a6f-acbe-744bd91e7381",
   "metadata": {},
   "source": [
    "Q6. Why is it important to understand the level of measurement when analyzing data? Provide an\n",
    "example to illustrate your answer."
   ]
  },
  {
   "cell_type": "markdown",
   "id": "5048c62c-06a3-445a-bfa2-ef64ef13d943",
   "metadata": {},
   "source": [
    "\n",
    "It is important to understand the level of measurement of variables in research, because the level of measurement determines the type of statistical analysis that can be conducted, and, therefore, the type of conclusions that can be drawn from the research."
   ]
  },
  {
   "cell_type": "markdown",
   "id": "830b22e4-13c3-4f26-8949-2fe9171588c5",
   "metadata": {},
   "source": [
    "Q7. How nominal data type is different from ordinal data type."
   ]
  },
  {
   "cell_type": "markdown",
   "id": "7a0fb1b7-7fde-4305-bd70-c14b01f3402f",
   "metadata": {},
   "source": [
    "1.Nominal data is a group of non-parametric variables, whereas Ordinal data is a group of non-parametric ordered variables.\n",
    "\n",
    "2.Ordinal data is analyzed by mode, median, quartiles, and percentile, whereas nominal data is analyzed by grouping variables into categories and calculating the distribution mode.\n",
    "\n",
    "3.Nominal data are categorical, whereas Ordinal data are both categorical and quantitative.\n",
    "\n",
    "4.Both nominal and ordinal data can be analyzed using percentage and mode."
   ]
  },
  {
   "cell_type": "markdown",
   "id": "7166d91b-15bc-4f42-ab64-110d5dabd66b",
   "metadata": {},
   "source": [
    "Q8. Which type of plot can be used to display data in terms of range?"
   ]
  },
  {
   "cell_type": "markdown",
   "id": "69496129-6d40-4bbf-8661-fbf7046b23cf",
   "metadata": {},
   "source": [
    "A Range chart displays sets of data points, each of which is defined by multiple values for the same category, and emphasizes the distance between the two values.\n",
    "\n",
    "The category labels are displayed on the category axis. The plain Range chart fills in the area between the top and the bottom value for each data point.\n",
    "\n",
    "The Graph supports the following Range chart types:\n",
    "\n",
    "Column range—The Column Range chart uses columns to represent the range.\n",
    "Bar range—The Bar Range chart uses bars to represent the range.\n",
    "Smooth range—A Smooth Range chart uses curved lines to connect data points rather than straight ones."
   ]
  },
  {
   "cell_type": "markdown",
   "id": "6dcd0d11-490c-425d-8476-9ea68a46b5ec",
   "metadata": {},
   "source": [
    "Q9. Describe the difference between descriptive and inferential statistics. Give an example of each\n",
    "type of statistics and explain how they are used."
   ]
  },
  {
   "cell_type": "markdown",
   "id": "84133165-6492-4fb5-b111-a23f1ecd456d",
   "metadata": {},
   "source": [
    "Descriptive statistics allow you to describe a data set, while inferential statistics allow you to make inferences based on a data set.\n",
    "\n",
    "Descriptive statistics\n",
    "Using descriptive statistics, you can report characteristics of your data:\n",
    "\n",
    "The distribution concerns the frequency of each value.\n",
    "The central tendency concerns the averages of the values.\n",
    "The variability concerns how spread out the values are.\n",
    "\n",
    "In descriptive statistics, there is no uncertainty.\n",
    "\n",
    "Example: Descriptive statistics\n",
    "You collect data on the SAT scores of all 11th graders in a school for three years.\n",
    "You can use descriptive statistics to get a quick overview of the school’s scores in those years. You can then directly compare the mean SAT score with the mean scores of other schools\n",
    "\n",
    "\n",
    "Inferential statistics\n",
    "Most of the time, you can only acquire data from samples, because it is too difficult or expensive to collect data from the whole population that you’re interested in.\n",
    "While descriptive statistics can only summarize a sample’s characteristics, inferential statistics use your sample to make reasonable guesses about the larger population.\n",
    "\n",
    "With inferential statistics, it’s important to use random and unbiased sampling methods. If your sample isn’t representative of your population, then you can’t make valid statistical inferences or generalize.\n",
    "\n",
    "Example: Inferential statistics\n",
    "You randomly select a sample of 11th graders in your state and collect data on their SAT scores and other characteristics.\n",
    "You can use inferential statistics to make estimates and test hypotheses about the whole population of 11th graders in the state based on your sample data\n"
   ]
  },
  {
   "cell_type": "markdown",
   "id": "703d77be-c030-4355-9bfb-6564b1e7605c",
   "metadata": {},
   "source": [
    "Q10. What are some common measures of central tendency and variability used in statistics? Explain\n",
    "how each measure can be used to describe a dataset.\n",
    "\n",
    "The mean, median and mode are some measures of central tendency.\n",
    "\n",
    "Mean (Arithmetic)\n",
    "The mean (or average) is the most popular and well known measure of central tendency.\n",
    " The mean is equal to the sum of all the values in the data set divided by the number of values in the data set.\n",
    "\n",
    "Median\n",
    "The median is the middle score for a set of data that has been arranged in order of magnitude\n",
    "\n",
    "\n",
    "Mode\n",
    "The mode is the most frequent score in our data set. On a histogram it represents the highest bar in a bar chart or histogram.\n",
    "\n",
    "Variability is most commonly measured with the following descriptive statistics:\n",
    "\n",
    "Range: the difference between the highest and lowest values\n",
    "Interquartile range: the range of the middle half of a distribution\n",
    "Standard deviation: average distance from the mean\n",
    "Variance: average of squared distances from the mean\n",
    "\n",
    "\n",
    "Descriptive statistics summarizes or describes the characteristics of a data set.\n",
    "Descriptive statistics consists of three basic categories of measures: measures of central tendency, measures of variability (or spread), and frequency distribution.\n",
    "Measures of central tendency describe the center of the data set (mean, median, mode).\n",
    "Measures of variability describe the dispersion of the data set (variance, standard deviation).\n",
    "Measures of frequency distribution describe the occurrence of data within the data set (count)."
   ]
  },
  {
   "cell_type": "code",
   "execution_count": null,
   "id": "eb014c3b-2e31-4970-89f7-d0ce8ca9ff56",
   "metadata": {},
   "outputs": [],
   "source": []
  }
 ],
 "metadata": {
  "kernelspec": {
   "display_name": "Python 3 (ipykernel)",
   "language": "python",
   "name": "python3"
  },
  "language_info": {
   "codemirror_mode": {
    "name": "ipython",
    "version": 3
   },
   "file_extension": ".py",
   "mimetype": "text/x-python",
   "name": "python",
   "nbconvert_exporter": "python",
   "pygments_lexer": "ipython3",
   "version": "3.10.8"
  }
 },
 "nbformat": 4,
 "nbformat_minor": 5
}
