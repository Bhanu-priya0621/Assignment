{
 "cells": [
  {
   "cell_type": "markdown",
   "id": "71afd4b0-5d1f-4cc8-89aa-e6bc9c6eeac7",
   "metadata": {},
   "source": [
    "Q1. What is an Exception in Python ?Write the difference between Exception and syntax errors."
   ]
  },
  {
   "cell_type": "markdown",
   "id": "d1dd8e65-2a2b-4a36-950b-14dabf7deb37",
   "metadata": {},
   "source": [
    "In Python, an exception is an event that occurs during the execution of a program that disrupts the normal flow of the program's instructions. When an exception is encountered, the program terminates abruptly and generates an error message, which can be used for debugging purposes.\n",
    "\n",
    "Syntax errors, on the other hand, occur when the interpreter encounters an invalid statement or expression that violates the rules of the Python language. These errors prevent the program from executing at all and must be fixed before the program can be run.\n",
    "\n",
    "The main difference between exceptions and syntax errors is that exceptions occur during the runtime of the program, while syntax errors occur before the program even starts to execute. Exceptions are caused by various factors such as invalid user input, file I/O errors, network errors, and so on, while syntax errors are caused by improper syntax in the code, such as missing or misplaced brackets, or using incorrect keywords.\n",
    "\n",
    "Another key difference is that syntax errors can be easily detected by the interpreter, as they prevent the code from being executed at all, while exceptions can occur at any point during the program's execution and must be handled using exception handling mechanisms in the code."
   ]
  },
  {
   "cell_type": "markdown",
   "id": "1f65c21e-e6c8-41ee-bb5c-e3839c2c59af",
   "metadata": {},
   "source": [
    "2.What happens when an exception is not handled ? Explain with an example.\n",
    "\n",
    "\n",
    "When an exception is not handled in Python, the program terminates abruptly and an error message is displayed to the user. This can be problematic in situations where the program is running in a production environment, as it can cause the entire system to crash or behave unexpectedly.\n",
    "\n",
    "Here's an example to illustrate what happens when an exception is not handled:"
   ]
  },
  {
   "cell_type": "code",
   "execution_count": 1,
   "id": "8540bb65-4577-4ec3-a93e-4335715540d2",
   "metadata": {},
   "outputs": [
    {
     "ename": "ZeroDivisionError",
     "evalue": "division by zero",
     "output_type": "error",
     "traceback": [
      "\u001b[0;31m---------------------------------------------------------------------------\u001b[0m",
      "\u001b[0;31mZeroDivisionError\u001b[0m                         Traceback (most recent call last)",
      "Cell \u001b[0;32mIn[1], line 4\u001b[0m\n\u001b[1;32m      1\u001b[0m numerator \u001b[38;5;241m=\u001b[39m \u001b[38;5;241m10\u001b[39m\n\u001b[1;32m      2\u001b[0m denominator \u001b[38;5;241m=\u001b[39m \u001b[38;5;241m0\u001b[39m\n\u001b[0;32m----> 4\u001b[0m result \u001b[38;5;241m=\u001b[39m \u001b[43mnumerator\u001b[49m\u001b[43m \u001b[49m\u001b[38;5;241;43m/\u001b[39;49m\u001b[43m \u001b[49m\u001b[43mdenominator\u001b[49m\n\u001b[1;32m      6\u001b[0m \u001b[38;5;28mprint\u001b[39m(result)\n",
      "\u001b[0;31mZeroDivisionError\u001b[0m: division by zero"
     ]
    }
   ],
   "source": [
    "numerator = 10\n",
    "denominator = 0\n",
    "\n",
    "result = numerator / denominator\n",
    "\n",
    "print(result)\n"
   ]
  },
  {
   "cell_type": "markdown",
   "id": "2969d8b7-f695-4cb4-b2ae-3b65fee36a9f",
   "metadata": {},
   "source": [
    "3. Which Python statement are used to catch and handle exceptions ? Explain with an example.\n",
    "\n",
    "In Python, we can catch and handle exceptions using the try and except statements. The try statement is used to wrap a block of code that may raise an exception, while the except statement is used to handle the exception if it occurs. Here's an example:\n"
   ]
  },
  {
   "cell_type": "code",
   "execution_count": 2,
   "id": "fb4e1b66-f684-4109-8518-7192834db3fa",
   "metadata": {},
   "outputs": [
    {
     "name": "stdout",
     "output_type": "stream",
     "text": [
      "Error: Cannot divide by zero.\n"
     ]
    }
   ],
   "source": [
    "try:\n",
    "    numerator = 10\n",
    "    denominator = 0\n",
    "    result = numerator / denominator\n",
    "    print(result)\n",
    "except ZeroDivisionError:\n",
    "    print(\"Error: Cannot divide by zero.\")\n"
   ]
  },
  {
   "cell_type": "markdown",
   "id": "f136f67a-26b4-42d8-a992-f5925041ef27",
   "metadata": {},
   "source": [
    "In this example, we are trying to divide numerator by denominator, which is 0. This will result in a ZeroDivisionError exception. We have wrapped this code in a try block, and have added an except block that handles this exception by printing an error message.\n",
    "\n",
    "When we run this code, the try block is executed first. Since the result = numerator / denominator line will raise a ZeroDivisionError exception, the program jumps to the except block, which prints the error message \"Error: Cannot divide by zero.\". The program then continues running the rest of the code normally."
   ]
  },
  {
   "cell_type": "markdown",
   "id": "7ab4ed29-ef5a-4413-b4bd-31fcdeafec5c",
   "metadata": {},
   "source": [
    "Q4. Explain with an example :\n",
    "\n",
    "a) try and else\n",
    "\n",
    "\n",
    "b)finally\n",
    "\n",
    "c)raise"
   ]
  },
  {
   "cell_type": "markdown",
   "id": "7a1c332a-8f95-456e-912a-cbd31850c342",
   "metadata": {},
   "source": [
    "a) try and else are keywords in Python used for handling exceptions. The try block contains the code that may raise an exception, and the else block contains the code that will be executed if no exception is raised. If an exception is raised in the try block, the else block will be skipped. Here's an example:"
   ]
  },
  {
   "cell_type": "code",
   "execution_count": 1,
   "id": "bc14ca79-48bd-4a14-8e88-e131424a85e8",
   "metadata": {},
   "outputs": [
    {
     "name": "stdin",
     "output_type": "stream",
     "text": [
      "Enter a number:  9\n",
      "Enter another number:  0\n"
     ]
    },
    {
     "name": "stdout",
     "output_type": "stream",
     "text": [
      "You cannot divide by zero!\n"
     ]
    }
   ],
   "source": [
    "try:\n",
    "    x = int(input(\"Enter a number: \"))\n",
    "    y = int(input(\"Enter another number: \"))\n",
    "    z = x / y\n",
    "except ZeroDivisionError:\n",
    "    print(\"You cannot divide by zero!\")\n",
    "else:\n",
    "    print(\"The result of the division is:\", z)\n"
   ]
  },
  {
   "cell_type": "markdown",
   "id": "d3e7a994-5f12-4117-83a3-a455153d6937",
   "metadata": {},
   "source": [
    "b) finally is a keyword in Python used for defining a block of code that will be executed no matter what, whether an exception is raised or not. Here's an example"
   ]
  },
  {
   "cell_type": "code",
   "execution_count": 2,
   "id": "c683c983-dc96-4522-bd1a-8b26dc390714",
   "metadata": {},
   "outputs": [
    {
     "name": "stdin",
     "output_type": "stream",
     "text": [
      "Enter a number:  9\n",
      "Enter another number:  9\n"
     ]
    },
    {
     "name": "stdout",
     "output_type": "stream",
     "text": [
      "The result of the division is: 1.0\n",
      "Thank you for using this program!\n"
     ]
    }
   ],
   "source": [
    "try:\n",
    "    x = int(input(\"Enter a number: \"))\n",
    "    y = int(input(\"Enter another number: \"))\n",
    "    z = x / y\n",
    "except ZeroDivisionError:\n",
    "    print(\"You cannot divide by zero!\")\n",
    "else:\n",
    "    print(\"The result of the division is:\", z)\n",
    "finally:\n",
    "    print(\"Thank you for using this program!\")\n"
   ]
  },
  {
   "cell_type": "markdown",
   "id": "0a8828bd-5e7d-4ae6-965e-943d85db5797",
   "metadata": {},
   "source": [
    "raise is a keyword in Python used for raising an exception. You can use it to signal that something went wrong in your code. Here's an example:"
   ]
  },
  {
   "cell_type": "code",
   "execution_count": 3,
   "id": "47a915de-a5eb-439c-8ba6-fce8b6756f46",
   "metadata": {},
   "outputs": [
    {
     "name": "stdout",
     "output_type": "stream",
     "text": [
      "You are 33 years old.\n"
     ]
    }
   ],
   "source": [
    "def calculate_age(year):\n",
    "    if year > 2023:\n",
    "        raise ValueError(\"Year must be less than or equal to 2023\")\n",
    "    return 2023 - year\n",
    "\n",
    "age = calculate_age(1990)\n",
    "print(\"You are\", age, \"years old.\")\n"
   ]
  },
  {
   "cell_type": "markdown",
   "id": "8e9f2077-70d2-4373-927a-b058e7970598",
   "metadata": {},
   "source": [
    "Q6. What are Custom Exceptions in Python? Why do we need custom Exception?Explain with an Example.\n",
    "\n",
    "Custom exceptions in Python are user-defined exceptions that allow you to create your own exception hierarchy. You can use custom exceptions to add more specific error handling to your code and to create more meaningful error messages for users.\n",
    "\n",
    "We need custom exceptions in Python because the built-in exceptions provided by the language may not always be sufficient for our specific use cases. Custom exceptions can help to improve the readability of our code, make it more maintainable, and allow us to handle errors more precisely.\n",
    "\n",
    "Here's an example of a custom exception in Python:"
   ]
  },
  {
   "cell_type": "code",
   "execution_count": 5,
   "id": "b67b6c0a-6ada-4079-bc5c-a974f668fdff",
   "metadata": {},
   "outputs": [],
   "source": [
    "class InvalidPasswordException(Exception):\n",
    "    pass\n"
   ]
  },
  {
   "cell_type": "markdown",
   "id": "7b285fa0-5ddf-410f-a3a7-6a9c6ffcbba1",
   "metadata": {},
   "source": [
    "n this example, we've defined a custom exception called InvalidPasswordException. This exception inherits from the built-in Exception class in Python, and it doesn't add any additional functionality to the parent class. We can use this exception in our code to handle cases where a user enters an invalid password."
   ]
  },
  {
   "cell_type": "code",
   "execution_count": 7,
   "id": "0a6ec300-4cd3-4f24-bd46-ad3a478947d2",
   "metadata": {},
   "outputs": [],
   "source": [
    "def check_password(password):\n",
    "    if len(password) < 8:\n",
    "        raise InvalidPasswordException(\"Password must be at least 8 characters long\")\n",
    "    # Check for other password criteria here\n"
   ]
  },
  {
   "cell_type": "markdown",
   "id": "4cd6d1cc-8176-4500-b65f-ce905fc09565",
   "metadata": {},
   "source": [
    "Q6.Create a custom exception class. Use this class to handle an exception.\n",
    "\n",
    "\n",
    "Example of how to create a custom exception class and use it to handle an exception:\n",
    "class NegativeNumberException(Exception):\n",
    "    def __init__(self, value):\n",
    "        self.val\n",
    "\n",
    "\n",
    "\n"
   ]
  },
  {
   "cell_type": "code",
   "execution_count": 8,
   "id": "1f4d066c-2d95-4c80-82d1-7186bd4bfbf4",
   "metadata": {},
   "outputs": [
    {
     "name": "stdout",
     "output_type": "stream",
     "text": [
      "-9 is a negative number. Please enter a positive number.\n"
     ]
    }
   ],
   "source": [
    "class NegativeNumberException(Exception):\n",
    "    def __init__(self, value):\n",
    "        self.value = value\n",
    "    def __str__(self):\n",
    "        return f\"{self.value} is a negative number. Please enter a positive number.\"\n",
    "\n",
    "\n",
    "def calculate_square_root(number):\n",
    "    if number < 0:\n",
    "        raise NegativeNumberException(number)\n",
    "    else:\n",
    "        return number ** 0.5\n",
    "\n",
    "\n",
    "try:\n",
    "    result = calculate_square_root(-9)\n",
    "except NegativeNumberException as e:\n",
    "    print(e)\n",
    "else:\n",
    "    print(\"The square root of\", result, \"is\", result)\n"
   ]
  },
  {
   "cell_type": "markdown",
   "id": "341f67c7-6e90-450f-aac2-f68abf900d9f",
   "metadata": {},
   "source": [
    "In this example, we've defined a custom exception class called NegativeNumberException that is raised when the input number is negative. The __init__ method initializes the value of the input number, and the __str__ method returns a custom error message.\n",
    "\n",
    "We then define a calculate_square_root function that takes a number as an input and calculates its square root. If the input number is negative, the function raises a NegativeNumberException with the input number as its value.\n",
    "\n",
    "In the try block, we call the calculate_square_root function with a negative number (-9). This raises a NegativeNumberException, which is caught in the except block. The error message is printed to the console, indicating that the input number is negative. If the input number was positive, the else block would have executed and printed the square root of the number."
   ]
  },
  {
   "cell_type": "code",
   "execution_count": null,
   "id": "af72cfea-0d0e-4451-86d0-c37fd61784ae",
   "metadata": {},
   "outputs": [],
   "source": []
  }
 ],
 "metadata": {
  "kernelspec": {
   "display_name": "Python 3 (ipykernel)",
   "language": "python",
   "name": "python3"
  },
  "language_info": {
   "codemirror_mode": {
    "name": "ipython",
    "version": 3
   },
   "file_extension": ".py",
   "mimetype": "text/x-python",
   "name": "python",
   "nbconvert_exporter": "python",
   "pygments_lexer": "ipython3",
   "version": "3.10.8"
  }
 },
 "nbformat": 4,
 "nbformat_minor": 5
}
