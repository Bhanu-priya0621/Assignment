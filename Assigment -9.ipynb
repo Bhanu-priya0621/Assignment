{
 "cells": [
  {
   "cell_type": "markdown",
   "id": "42af916d-47ac-40eb-947a-ec61e67ca5ff",
   "metadata": {},
   "source": [
    "Q1, Create a vehicle class with an init method having instance variables as name_of_vehicle, max_speed\n",
    "and average_of_vehicle."
   ]
  },
  {
   "cell_type": "code",
   "execution_count": 4,
   "id": "de582ada-846d-425d-bef1-2acdda981cc6",
   "metadata": {},
   "outputs": [],
   "source": [
    "class Vehicle:\n",
    "    def __init__(self,name_of_vehicle,max_speed,average_of_vehicle):\n",
    "        self.name_of_vehicle = name_of_vehicle\n",
    "        self.max_speed = max_speed\n",
    "        self.average_of_vehicle = average_of_vehicle"
   ]
  },
  {
   "cell_type": "markdown",
   "id": "e067b49c-f56f-4e12-a49f-6bda84cd823d",
   "metadata": {},
   "source": [
    "Q2. Create a child class car from the vehicle class created in Que 1, which will inherit the vehicle class.\n",
    "Create a method named seating_capacity which takes capacity as an argument and returns the name of\n",
    "the vehicle and its seating capacity."
   ]
  },
  {
   "cell_type": "code",
   "execution_count": 6,
   "id": "1f2ce511-4690-45f1-9038-b650f00bfc37",
   "metadata": {},
   "outputs": [],
   "source": [
    "class Vehicle:\n",
    "    def __init__(self,name_of_vehicle,max_speed,average_of_vehicle):\n",
    "        self.name_of_vehicle = name_of_vehicle\n",
    "        self.max_speed = max_speed\n",
    "        self.average_of_vehicle = average_of_vehicle\n",
    "        \n",
    "    def seating_capacity(self,capacity):\n",
    "        return(f\"The seating capacity of a {self.name} is {capacity} passengers\")"
   ]
  },
  {
   "cell_type": "markdown",
   "id": "5b3796fe-7f1e-4a08-8731-c800e7f1371e",
   "metadata": {},
   "source": [
    "Q3. What is multiple inheritance? Write a python code to demonstrate multiple inheritance."
   ]
  },
  {
   "cell_type": "markdown",
   "id": "21689e77-ab89-4eb3-9fa5-7d17c4661551",
   "metadata": {},
   "source": [
    "when a class is derived from more than one base class is called multiple inheritance."
   ]
  },
  {
   "cell_type": "markdown",
   "id": "fb14deb8-2680-400d-8cd7-2a19b906a7c3",
   "metadata": {},
   "source": [
    "Multiple Heritance"
   ]
  },
  {
   "cell_type": "code",
   "execution_count": 8,
   "id": "1d1244d8-84af-4c63-bbc9-4e75a7c2d10b",
   "metadata": {},
   "outputs": [],
   "source": [
    "class class1:\n",
    "    def test_class1(self):\n",
    "        print(\"this is my class 1\")"
   ]
  },
  {
   "cell_type": "code",
   "execution_count": 9,
   "id": "cbe54c11-bae2-4082-b7ac-c1239e041fa2",
   "metadata": {},
   "outputs": [],
   "source": [
    "class class2:\n",
    "    def test_class2(self):\n",
    "        print(\"this is my class 2\")"
   ]
  },
  {
   "cell_type": "code",
   "execution_count": 21,
   "id": "fb797b89-459f-4dd2-9e73-069514b4cf2a",
   "metadata": {},
   "outputs": [],
   "source": [
    "class class3(class1 , class2):\n",
    "    pass"
   ]
  },
  {
   "cell_type": "code",
   "execution_count": 22,
   "id": "36f1c994-1c55-4d4e-ad98-b17157449bcc",
   "metadata": {},
   "outputs": [],
   "source": [
    "obj_class3=class3()"
   ]
  },
  {
   "cell_type": "code",
   "execution_count": 23,
   "id": "0659abab-dffb-45ce-b3e8-25892640f495",
   "metadata": {},
   "outputs": [
    {
     "name": "stdout",
     "output_type": "stream",
     "text": [
      "this is my class 1\n"
     ]
    }
   ],
   "source": [
    "obj_class3.test_class1()"
   ]
  },
  {
   "cell_type": "code",
   "execution_count": 24,
   "id": "323119ac-28ad-4f59-9f2e-c7f91a033ed0",
   "metadata": {},
   "outputs": [
    {
     "name": "stdout",
     "output_type": "stream",
     "text": [
      "this is my class 2\n"
     ]
    }
   ],
   "source": [
    "obj_class3.test_class2()"
   ]
  },
  {
   "cell_type": "markdown",
   "id": "6202b734-e7d2-431f-b4fc-c65ed558d1f2",
   "metadata": {},
   "source": [
    "Q4. What are getter and setter in python? Create a class and create a getter and a setter method in this\n",
    "class."
   ]
  },
  {
   "cell_type": "markdown",
   "id": "2861a2ea-877c-4193-bf31-3c7c05fd4621",
   "metadata": {},
   "source": [
    "Getters - These are the methods used in object-oriented programming which helps to access the private attributes from a class.\n",
    "\n",
    "\n",
    "Setter - These are the method used in OOPS features which helps to set the value to private attributes in a class."
   ]
  },
  {
   "cell_type": "code",
   "execution_count": 28,
   "id": "4729dfff-c6b5-49cc-a1e5-0d6d483aa893",
   "metadata": {},
   "outputs": [
    {
     "name": "stdout",
     "output_type": "stream",
     "text": [
      "21\n",
      "21\n"
     ]
    }
   ],
   "source": [
    "class Geek:\n",
    "    def __init__(self,age = 0):\n",
    "        self._age = age\n",
    "        \n",
    "    # getter method\n",
    "    def get_age(self):\n",
    "        return self._age\n",
    "    \n",
    "    # setter method\n",
    "    \n",
    "    def set_age(self , x):\n",
    "        self._age = x\n",
    "        \n",
    "raj = Geek()\n",
    "\n",
    "#setting the age using setter\n",
    "raj.set_age(21)\n",
    "\n",
    "# retrieving age using getter \n",
    "print(raj.get_age())\n",
    "\n",
    "\n",
    "print(raj._age)\n",
    "    \n",
    "    \n",
    "    "
   ]
  },
  {
   "cell_type": "markdown",
   "id": "3993e0cb-ebfc-4caf-8d17-8bddd44adbe8",
   "metadata": {},
   "source": [
    "Q5.What is method overriding in python? Write a python code to demonstrate method overriding."
   ]
  },
  {
   "cell_type": "markdown",
   "id": "6617cd95-32fc-45d7-bbea-24345930bd29",
   "metadata": {},
   "source": [
    "Method overriding is a feature of OOP language where the subclass or child class can provide the program with specific implementation process of data provided that are already defined in the parent class or superclass."
   ]
  },
  {
   "cell_type": "code",
   "execution_count": 30,
   "id": "804838b8-3f3e-40f3-b050-01f646208c82",
   "metadata": {},
   "outputs": [
    {
     "name": "stdout",
     "output_type": "stream",
     "text": [
      "The method walk here is overridden in the code\n",
      "Hello , I am the child class\n",
      "Hello , I am the parent class\n"
     ]
    }
   ],
   "source": [
    "class Animal:\n",
    "    def walk(self):\n",
    "        print(\"Hello , I am the parent class\")\n",
    "\n",
    "class Dog(Animal):\n",
    "    def walk(self):\n",
    "        print(\"Hello , I am the child class\")\n",
    "        \n",
    "print(\"The method walk here is overridden in the code\")\n",
    "   \n",
    "#Invoking     \n",
    "    \n",
    "r = Dog()\n",
    "r.walk()\n",
    "\n",
    "\n",
    "r=Animal()\n",
    "r.walk()"
   ]
  },
  {
   "cell_type": "code",
   "execution_count": null,
   "id": "668268f8-f6dd-47fb-9462-289d82ecb6c3",
   "metadata": {},
   "outputs": [],
   "source": []
  }
 ],
 "metadata": {
  "kernelspec": {
   "display_name": "Python 3 (ipykernel)",
   "language": "python",
   "name": "python3"
  },
  "language_info": {
   "codemirror_mode": {
    "name": "ipython",
    "version": 3
   },
   "file_extension": ".py",
   "mimetype": "text/x-python",
   "name": "python",
   "nbconvert_exporter": "python",
   "pygments_lexer": "ipython3",
   "version": "3.10.8"
  }
 },
 "nbformat": 4,
 "nbformat_minor": 5
}
