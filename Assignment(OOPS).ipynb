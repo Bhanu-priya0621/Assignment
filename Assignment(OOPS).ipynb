{
 "cells": [
  {
   "cell_type": "markdown",
   "id": "2ac2f9cf-1f3e-4674-8a14-e1052e2f482a",
   "metadata": {},
   "source": [
    "Q1. Explain Class and Object with respect to Object-Oriented Programming. Give a suitable example."
   ]
  },
  {
   "cell_type": "markdown",
   "id": "06a41cac-6cd6-4ec5-96c2-f8507846ca24",
   "metadata": {},
   "source": [
    "Classes are user-defined data types that act as the blueprint for individual object,attributes and methods.\n",
    "Objects are instances of class created with specifically defined data."
   ]
  },
  {
   "cell_type": "markdown",
   "id": "1cb0d49b-0757-44dd-bb97-05e55d120c78",
   "metadata": {},
   "source": [
    "Class example is CAR.\n",
    "Oject example is Jaguar, BMW,Tesla"
   ]
  },
  {
   "cell_type": "markdown",
   "id": "211a99bd-8daf-4d05-a0bb-52cbf83b7d6a",
   "metadata": {},
   "source": [
    "Q2. Name the four pillars of OOPs."
   ]
  },
  {
   "cell_type": "markdown",
   "id": "daa289a4-62c4-452a-ab75-8dc35ee8afe5",
   "metadata": {},
   "source": [
    "The four pillars of OOPs are Inheritance,Polymorphism,Encapsulation and Abstraction"
   ]
  },
  {
   "cell_type": "markdown",
   "id": "818ad41e-7b33-4540-a287-6b795095f5cf",
   "metadata": {},
   "source": [
    "Q3. Explain why the __init__() function is used. Give a suitable example."
   ]
  },
  {
   "cell_type": "markdown",
   "id": "44b9ea7c-f770-436c-ba60-a34c7d89697a",
   "metadata": {},
   "source": [
    "The __init__() function is called every time an object is created from a class.The __init__() method lets the class initialize the objects attributes and serves. It is only used within classes."
   ]
  },
  {
   "cell_type": "code",
   "execution_count": 1,
   "id": "758a1f3a-e2a5-4bb5-9975-f2fc771f5f06",
   "metadata": {},
   "outputs": [],
   "source": [
    "class pwskills1: \n",
    "    \n",
    "    def __init__(self , phone_number, email_id, student_id):\n",
    "        self.phone_number = phone_number\n",
    "        self.email_id = email_id\n",
    "        self.student_id = student_id\n",
    "        \n",
    "    def return_student_details(self):\n",
    "        return self.phone_number, self.email_id, self.student_id"
   ]
  },
  {
   "cell_type": "code",
   "execution_count": 2,
   "id": "ef4f7fe9-33fd-4368-b162-3a20a0a5bcba",
   "metadata": {},
   "outputs": [],
   "source": [
    "rohan = pwskills1(95435665, \"rohan@gmail.com\", 101)"
   ]
  },
  {
   "cell_type": "code",
   "execution_count": 3,
   "id": "24338a5e-c4e3-4e97-838e-a67fa5e58413",
   "metadata": {},
   "outputs": [
    {
     "data": {
      "text/plain": [
       "'rohan@gmail.com'"
      ]
     },
     "execution_count": 3,
     "metadata": {},
     "output_type": "execute_result"
    }
   ],
   "source": [
    "rohan.email_id"
   ]
  },
  {
   "cell_type": "markdown",
   "id": "f68206d9-5bba-4f2e-844a-8cf017b1bb19",
   "metadata": {},
   "source": [
    "Q4. Why self is used in OOPs?"
   ]
  },
  {
   "cell_type": "markdown",
   "id": "e2bc5f3d-c8c7-4f52-ad0b-477d5a287339",
   "metadata": {},
   "source": [
    "The self variable is used to represent the instance of the class which is often used in object-oriented programming.It works as a reference to the object."
   ]
  },
  {
   "cell_type": "markdown",
   "id": "a8440ec6-9e36-4554-8980-79e166aa5c67",
   "metadata": {},
   "source": [
    "Q5. What is inheritance? Give an example for each type of inheritance."
   ]
  },
  {
   "cell_type": "markdown",
   "id": "08792774-4d8e-43e9-9d94-0cda286cd704",
   "metadata": {},
   "source": [
    "Inheritance allows us to define a class that inherits all the methods and properties from another class.Parent class is the class being inherited from,also called base class.Child class is the class that inherits from another class,also called derived class."
   ]
  },
  {
   "cell_type": "markdown",
   "id": "51bc6be2-903d-4e86-89b1-a83f1cd08303",
   "metadata": {},
   "source": [
    "There are five types of inheritance.\n",
    "1. Single inheritance\n",
    "2. Multiple inheritance\n",
    "3. Multilevel inheritance\n",
    "4. Hierarchical inheritance\n",
    "5. Hybrid inheritance"
   ]
  },
  {
   "cell_type": "markdown",
   "id": "751159cb-a171-4f95-81a1-e2067b5b237e",
   "metadata": {},
   "source": [
    "Single inheritance"
   ]
  },
  {
   "cell_type": "code",
   "execution_count": 10,
   "id": "c465fba7-5ffb-4331-9c43-e8d2f292a757",
   "metadata": {},
   "outputs": [],
   "source": [
    "class parent :\n",
    "    \n",
    "    def test_parent(self) :\n",
    "        print(\"this is my parent class\")"
   ]
  },
  {
   "cell_type": "code",
   "execution_count": 11,
   "id": "d909ee0b-e0fb-4f0f-9a95-285c2f9e9bc6",
   "metadata": {},
   "outputs": [],
   "source": [
    "class child(parent):\n",
    "    pass"
   ]
  },
  {
   "cell_type": "code",
   "execution_count": 12,
   "id": "d3b77805-145a-445b-9702-7db60df465a4",
   "metadata": {},
   "outputs": [
    {
     "name": "stdout",
     "output_type": "stream",
     "text": [
      "this is my parent class\n"
     ]
    }
   ],
   "source": [
    "child_obj.test_parent()"
   ]
  },
  {
   "cell_type": "markdown",
   "id": "54b6afe8-4aad-492c-91bb-5d14b30e8109",
   "metadata": {},
   "source": [
    "Multilevel Heritances"
   ]
  },
  {
   "cell_type": "code",
   "execution_count": 5,
   "id": "ba8f6a35-b1b3-4b62-b322-088386d4fff6",
   "metadata": {},
   "outputs": [],
   "source": [
    "class class1:\n",
    "    def test_class1(self):\n",
    "        print(\"this is my class1\")"
   ]
  },
  {
   "cell_type": "code",
   "execution_count": 6,
   "id": "dce68a19-bd7c-4ab6-b6ce-70e0df4fb959",
   "metadata": {},
   "outputs": [],
   "source": [
    "class class2(class1):\n",
    "    def test_class2(self):\n",
    "        print(\"this is my class2\")"
   ]
  },
  {
   "cell_type": "code",
   "execution_count": 7,
   "id": "e27f84d6-98c9-4c66-872f-f6753042b53f",
   "metadata": {},
   "outputs": [],
   "source": [
    "class class3(class2):\n",
    "    def test_class3(self):\n",
    "        print(\"this is my class3\")"
   ]
  },
  {
   "cell_type": "code",
   "execution_count": 8,
   "id": "121fd45d-ac1b-4064-b817-fdeaede31901",
   "metadata": {},
   "outputs": [],
   "source": [
    "obj_class3 = class3()"
   ]
  },
  {
   "cell_type": "code",
   "execution_count": 9,
   "id": "3c6818be-9501-4d6b-b3c4-e2c45547bb28",
   "metadata": {},
   "outputs": [
    {
     "name": "stdout",
     "output_type": "stream",
     "text": [
      "this is my class1\n"
     ]
    }
   ],
   "source": [
    "obj_class3.test_class1()"
   ]
  },
  {
   "cell_type": "code",
   "execution_count": 10,
   "id": "4f555282-74e7-420a-8bed-f7854ee36104",
   "metadata": {},
   "outputs": [
    {
     "name": "stdout",
     "output_type": "stream",
     "text": [
      "this is my class2\n"
     ]
    }
   ],
   "source": [
    "obj_class3.test_class2()"
   ]
  },
  {
   "cell_type": "code",
   "execution_count": 11,
   "id": "61251769-f10b-4ea3-b698-ccd0c231e556",
   "metadata": {},
   "outputs": [
    {
     "name": "stdout",
     "output_type": "stream",
     "text": [
      "this is my class3\n"
     ]
    }
   ],
   "source": [
    "obj_class3.test_class3()"
   ]
  },
  {
   "cell_type": "markdown",
   "id": "042fc5c6-0fc8-4866-ae39-54521816627c",
   "metadata": {},
   "source": [
    "Multiple Heritance"
   ]
  },
  {
   "cell_type": "code",
   "execution_count": 14,
   "id": "1687e2ea-3230-4182-a405-61b3dd36e6f4",
   "metadata": {},
   "outputs": [],
   "source": [
    "class class1:\n",
    "    def test_class1(self):\n",
    "        print(\"this is my class 1\")"
   ]
  },
  {
   "cell_type": "code",
   "execution_count": 15,
   "id": "e6f7dfaa-f738-4c9c-ae5c-e15d24cbcf76",
   "metadata": {},
   "outputs": [],
   "source": [
    "class class2:\n",
    "    def test_class2(self):\n",
    "        print(\"this is my class 2\")"
   ]
  },
  {
   "cell_type": "code",
   "execution_count": 16,
   "id": "cbace635-6887-4643-8b27-2071cf5da8a3",
   "metadata": {},
   "outputs": [],
   "source": [
    "class class3(class1 , class2):\n",
    "    pass"
   ]
  },
  {
   "cell_type": "code",
   "execution_count": 17,
   "id": "ddda10ed-c930-44fe-9636-cb20866af383",
   "metadata": {},
   "outputs": [
    {
     "name": "stdout",
     "output_type": "stream",
     "text": [
      "this is my class1\n"
     ]
    }
   ],
   "source": [
    "obj_class3.test_class1()"
   ]
  },
  {
   "cell_type": "code",
   "execution_count": 18,
   "id": "dadbdefb-6a00-4a0a-b2f1-98e24befd3a5",
   "metadata": {},
   "outputs": [
    {
     "name": "stdout",
     "output_type": "stream",
     "text": [
      "this is my class2\n"
     ]
    }
   ],
   "source": [
    "obj_class3.test_class2()"
   ]
  },
  {
   "cell_type": "markdown",
   "id": "a62462b7-7225-4574-9a94-f858b7bbe5ef",
   "metadata": {},
   "source": [
    "Hierarchical inheritance"
   ]
  },
  {
   "cell_type": "code",
   "execution_count": 19,
   "id": "fcc72143-a11a-4c99-8e09-6faf2d9bbfec",
   "metadata": {},
   "outputs": [],
   "source": [
    "class parent:\n",
    "    def func1(self):\n",
    "        print(\"this function is in parent class.\")"
   ]
  },
  {
   "cell_type": "code",
   "execution_count": 20,
   "id": "20f6fc02-266c-4ead-b303-4df515f89c4a",
   "metadata": {},
   "outputs": [],
   "source": [
    "class child1(parent):\n",
    "    def func2(self):\n",
    "        print(\"this function is in child 1.\")"
   ]
  },
  {
   "cell_type": "code",
   "execution_count": 21,
   "id": "2952e3c5-750c-4d32-b31d-c3727870ed5c",
   "metadata": {},
   "outputs": [],
   "source": [
    "class child2(parent):\n",
    "    def func3(self):\n",
    "        print(\"this function is in child 2.\")"
   ]
  },
  {
   "cell_type": "code",
   "execution_count": 22,
   "id": "88366e8c-7bf8-43ce-bc13-7e696bffcefa",
   "metadata": {},
   "outputs": [],
   "source": [
    "obj_1 = child1()"
   ]
  },
  {
   "cell_type": "code",
   "execution_count": 23,
   "id": "6da05b5b-1efb-45f6-a78c-635abb97c281",
   "metadata": {},
   "outputs": [],
   "source": [
    "obj_2 = child2()"
   ]
  },
  {
   "cell_type": "code",
   "execution_count": 24,
   "id": "da267738-0fb2-4152-b7bc-842e36efb127",
   "metadata": {},
   "outputs": [
    {
     "name": "stdout",
     "output_type": "stream",
     "text": [
      "this function is in parent class.\n"
     ]
    }
   ],
   "source": [
    "obj_1.func1()"
   ]
  },
  {
   "cell_type": "code",
   "execution_count": 25,
   "id": "7a5c612d-a828-4c78-803a-c0c5a44dc512",
   "metadata": {},
   "outputs": [
    {
     "name": "stdout",
     "output_type": "stream",
     "text": [
      "this function is in child 1.\n"
     ]
    }
   ],
   "source": [
    "obj_1.func2()"
   ]
  },
  {
   "cell_type": "code",
   "execution_count": 27,
   "id": "efd5e61b-f4ca-4c26-a4ca-6c1bbd75cc0f",
   "metadata": {},
   "outputs": [
    {
     "name": "stdout",
     "output_type": "stream",
     "text": [
      "this function is in parent class.\n"
     ]
    }
   ],
   "source": [
    "obj_2.func1()"
   ]
  },
  {
   "cell_type": "code",
   "execution_count": 29,
   "id": "ccb9548e-795b-413d-8493-dc934db37f8e",
   "metadata": {},
   "outputs": [
    {
     "name": "stdout",
     "output_type": "stream",
     "text": [
      "this function is in child 2.\n"
     ]
    }
   ],
   "source": [
    "obj_2.func3()"
   ]
  },
  {
   "cell_type": "markdown",
   "id": "43d28cc1-8b92-474a-8b11-8cb43ee573e9",
   "metadata": {},
   "source": [
    "Hybrid Inheritance"
   ]
  },
  {
   "cell_type": "code",
   "execution_count": 30,
   "id": "a019643d-1170-4a2e-9f77-98a82e9b47a0",
   "metadata": {},
   "outputs": [],
   "source": [
    "class class1:\n",
    "    def test_class1(self):\n",
    "        print(\"this is my class1\")"
   ]
  },
  {
   "cell_type": "code",
   "execution_count": 31,
   "id": "bcb9cead-b16b-4c8d-ad14-61058cd9d92e",
   "metadata": {},
   "outputs": [],
   "source": [
    "class class2(class1):\n",
    "    def test_class2(self):\n",
    "        print(\"this is my class2\")"
   ]
  },
  {
   "cell_type": "code",
   "execution_count": 32,
   "id": "2489cad8-4aae-4dea-97a1-4a06f78c48ad",
   "metadata": {},
   "outputs": [],
   "source": [
    "class class3(class2):\n",
    "    def test_class3(self):\n",
    "        print(\"this is my class3\")"
   ]
  },
  {
   "cell_type": "code",
   "execution_count": 36,
   "id": "ab72c7b2-54ed-4aa0-909c-682fbe1dc322",
   "metadata": {},
   "outputs": [],
   "source": [
    "class class4(class2,class1):\n",
    "    def test_class4(self):\n",
    "        print(\"this is my class4\")"
   ]
  },
  {
   "cell_type": "code",
   "execution_count": 39,
   "id": "8a9776e1-6a53-4f1f-afcb-52d570d5f04d",
   "metadata": {},
   "outputs": [],
   "source": [
    "object = class4()"
   ]
  },
  {
   "cell_type": "code",
   "execution_count": 40,
   "id": "899e37bd-9b28-4917-83dc-3bb7eadd12e2",
   "metadata": {},
   "outputs": [
    {
     "name": "stdout",
     "output_type": "stream",
     "text": [
      "this is my class1\n"
     ]
    }
   ],
   "source": [
    "object.test_class1()"
   ]
  },
  {
   "cell_type": "code",
   "execution_count": 41,
   "id": "b059cfd6-49cc-467a-9916-71ab01f7631b",
   "metadata": {},
   "outputs": [
    {
     "name": "stdout",
     "output_type": "stream",
     "text": [
      "this is my class2\n"
     ]
    }
   ],
   "source": [
    "object.test_class2()"
   ]
  },
  {
   "cell_type": "code",
   "execution_count": null,
   "id": "a4a95d04-4f78-4c39-ac4c-3b008202b314",
   "metadata": {},
   "outputs": [],
   "source": []
  }
 ],
 "metadata": {
  "kernelspec": {
   "display_name": "Python 3 (ipykernel)",
   "language": "python",
   "name": "python3"
  },
  "language_info": {
   "codemirror_mode": {
    "name": "ipython",
    "version": 3
   },
   "file_extension": ".py",
   "mimetype": "text/x-python",
   "name": "python",
   "nbconvert_exporter": "python",
   "pygments_lexer": "ipython3",
   "version": "3.10.8"
  }
 },
 "nbformat": 4,
 "nbformat_minor": 5
}
