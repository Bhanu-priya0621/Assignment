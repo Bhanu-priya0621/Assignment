{
 "cells": [
  {
   "cell_type": "markdown",
   "id": "1210f279-6d1f-4f65-afbd-2d58d5c8e28e",
   "metadata": {},
   "source": [
    "Q1. What is an API? Give an example, where an API is used in real life.Weather data is a popular API example that we come across regularly. Rich weather snippets appear ubiquitous, appearing on all platforms such as Google Search, Apple's Weather app, and even your smart home device"
   ]
  },
  {
   "cell_type": "markdown",
   "id": "bbcb5e2d-5ddb-4c47-95f9-9da2a3effa57",
   "metadata": {},
   "source": [
    "\n",
    "API stands for Application Programming Interface.An application programming interface (API) is code that enables two software programs to communicate.Application Programming Interface (API) is a software interface that allows two applications to interact with each other without any user intervention."
   ]
  },
  {
   "cell_type": "markdown",
   "id": "4e5ebbfe-c88d-4491-8df6-b775518a1905",
   "metadata": {},
   "source": [
    "Weather data is a popular API example that we come across regularly. Rich weather snippets appear ubiquitous, appearing on all platforms such as Google Search, Apple's Weather app, and even your smart home device."
   ]
  },
  {
   "cell_type": "markdown",
   "id": "bdb73b88-624f-4899-8a7d-f22deb7fc0c6",
   "metadata": {},
   "source": [
    "Another well-known API example usage is the log in with Facebook/Twitter/Google/GitHub."
   ]
  },
  {
   "cell_type": "markdown",
   "id": "56be745a-35d5-44fb-b2ba-9dbe4dabb933",
   "metadata": {},
   "source": [
    "Q2. Give advantages and disadvantages of using API."
   ]
  },
  {
   "cell_type": "markdown",
   "id": "64a234be-6b12-48c3-8ac4-56766736ec2f",
   "metadata": {},
   "source": [
    "Some of the benefits of using API are:\n",
    "\n",
    "1.Applications: Access to APIs ensures more flexibility in information-transfer processes.\n",
    "\n",
    "\n",
    "2.Efficiency: When you have content that is automatically published and made available on different channels simultaneously, APIs allow for more efficient data distribution.\n",
    "\n",
    "\n",
    "3.Reach: APIs let you create layers in apps in order to distribute information to different audiences.\n",
    "\n",
    "4.Ease of integration. An API is a component that allows different platforms, applications and systems to connect and share information with each other and carry out diverse types of tasks.\n",
    "\n",
    "5.Better integration.\n",
    "\n",
    "6.Automating tasks.\n",
    "\n",
    "7..Improved services."
   ]
  },
  {
   "cell_type": "markdown",
   "id": "4f81248b-8f0b-4e98-b7b5-a66769163778",
   "metadata": {},
   "source": [
    "The disadvantages of API include:\n",
    "\n",
    "1.Implementing and providing API capabilities can be costly in terms of development times, ongoing maintenance requirements, and providing support.\n",
    "\n",
    "\n",
    "2.APIs require extensive programming knowledge and the learning curve can fairly steep when understanding how to program APIs."
   ]
  },
  {
   "cell_type": "markdown",
   "id": "b7ded186-0ffa-4036-a0e1-4a23ccca042c",
   "metadata": {},
   "source": [
    "Q3. What is a Web API? Differentiate between API and Web API."
   ]
  },
  {
   "cell_type": "markdown",
   "id": "c8182aa8-89ab-4459-8249-42e76d4b76d0",
   "metadata": {},
   "source": [
    "Web API is an API as the name suggests, it can be accessed over the web using the HTTP protocol. It is a framework that helps you to create and develop HTTP based RESTFUL services.\n",
    "Web API is used in either a web server or a web browser."
   ]
  },
  {
   "cell_type": "markdown",
   "id": "8842bcfc-1edb-4004-8ca4-fd3497221874",
   "metadata": {},
   "source": [
    "Web Serviced                                                       API\n",
    "\n",
    "1. All web services are APIs.                               1.All APIs are not web services\n",
    "\n",
    "2.It supports XML                                           2.Responses are formatted using Web API’s MediaTypeFormatter into   \n",
    "                                                             XML, JSON, or any other given format.\n",
    "\n",
    "3.You need a SOAP protocol to send or receive and data        3.API has a light-weight architecture.\n",
    "over the network.Therefore it does not have                                                                                    light-weight architecture.\n",
    "\n",
    "\n",
    "4.t provides supports only for the HTTP protocol.                  4.It provides support for the HTTP/s protocol: URL Request/Response                                                           Headers, etc."
   ]
  },
  {
   "cell_type": "markdown",
   "id": "e73b221e-d5eb-488c-8c0f-b2f269f59193",
   "metadata": {},
   "source": [
    "Q4. Explain REST and SOAP Architecture. Mention shortcomings of SOAP."
   ]
  },
  {
   "cell_type": "markdown",
   "id": "32c45da8-6783-4d51-b2e3-90b20685650b",
   "metadata": {},
   "source": [
    "\n",
    "SOAP is a protocol which was designed before REST and came into the picture. The main idea behind designing SOAP was to ensure that programs built on different platforms and programming languages could exchange data in an easy manner. SOAP stands for Simple Object Access Protocol.\n",
    "\n",
    "\n",
    "\n",
    "REST was designed specifically for working with components such as media components, files, or even objects on a particular hardware device. Any web service that is defined on the principles of REST can be called a RestFul web service. A Restful service would use the normal HTTP verbs of GET, POST, PUT and DELETE for working with the required components. REST stands for Representational State Transfer."
   ]
  },
  {
   "cell_type": "markdown",
   "id": "e7bf6eb4-7f06-4f67-ac59-3dd9d5b0a9a6",
   "metadata": {},
   "source": [
    "\n",
    "Challenges/limitations in SOAP\n",
    "\n",
    "As SOAP can only transfer messages as XML files, your SOAP API will be less performant, as XML is a verbose format compared to JSON. API calls made to your server will need more bandwidth and it will take more time to process the request and transfer the response back to the client."
   ]
  },
  {
   "cell_type": "markdown",
   "id": "e51ee9eb-bf91-4469-a8b3-98c0a3c3c7a5",
   "metadata": {},
   "source": [
    "Q5. Differentiate between REST and SOAP."
   ]
  },
  {
   "cell_type": "markdown",
   "id": "c466d92b-1e73-44f2-a91e-d453279a945a",
   "metadata": {},
   "source": [
    "1.Rest is less secure than Soap.\n",
    "\n",
    "\n",
    "2. REST is a set of guidelines that offers flexible implementation, whereas SOAP is a protocol with specific requirements like XML messaging.\n",
    "\n",
    "\n",
    "3.REST APIs are lightweight, making them ideal for newer contexts like the Internet of Things (IoT), mobile application development, and serverless computing. SOAP web services offer built-in security and transaction compliance that align with many enterprise needs, but that also makes them heavier."
   ]
  },
  {
   "cell_type": "markdown",
   "id": "b510a414-b38d-4a6d-bd76-0855516da3d7",
   "metadata": {},
   "source": [
    "4.SOAP (i.e. Simple Object Access Protocol) is a standard communication protocol on top of transport protocols such as HTTP, SMTP, Messaging, TCP, UDP, etc.\n",
    "\n",
    "\n",
    "REST is an architectural style by which data can be transmitted over transport protocol such as HTTP(S)\n"
   ]
  },
  {
   "cell_type": "code",
   "execution_count": null,
   "id": "e3fb350f-2fe2-4701-8a6f-eb5378a0dacc",
   "metadata": {},
   "outputs": [],
   "source": []
  }
 ],
 "metadata": {
  "kernelspec": {
   "display_name": "Python 3 (ipykernel)",
   "language": "python",
   "name": "python3"
  },
  "language_info": {
   "codemirror_mode": {
    "name": "ipython",
    "version": 3
   },
   "file_extension": ".py",
   "mimetype": "text/x-python",
   "name": "python",
   "nbconvert_exporter": "python",
   "pygments_lexer": "ipython3",
   "version": "3.10.8"
  }
 },
 "nbformat": 4,
 "nbformat_minor": 5
}
