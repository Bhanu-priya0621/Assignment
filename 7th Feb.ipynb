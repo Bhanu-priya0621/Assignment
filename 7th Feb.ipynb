{
 "cells": [
  {
   "cell_type": "markdown",
   "id": "5f2a7d86-a0c3-4b9c-a24c-257b3514cb06",
   "metadata": {},
   "source": [
    "Q1. You are writing code for a company. The requirement of the company is that you create a python\n",
    "function that will check whether the password entered by the user is correct or not. The function should\n",
    "take the password as input and return the string “Valid Password” if the entered password follows the\n",
    "below-given password guidelines else it should return “Invalid Password”.\n",
    "Note: 1. The Password should contain at least two uppercase letters and at least two lowercase letters.\n",
    "2. The Password should contain at least a number and three special characters.\n",
    "3. The length of the password should be 10 characters long."
   ]
  },
  {
   "cell_type": "code",
   "execution_count": 2,
   "id": "183f219a-e9cc-4e03-9be9-2ffcf5203df8",
   "metadata": {},
   "outputs": [],
   "source": [
    "def check_password(password):\n",
    "    upper_count = 0\n",
    "    lower_count = 0\n",
    "    digit_count = 0\n",
    "    special_count = 0\n",
    "    special_chars = ['!', '@', '#', '$', '%', '^', '&', '*', '(', ')', '-', '_', '+', '=', '[', ']', '{', '}', ';', ':', '<', '>', ',', '.', '/', '?', '|', '\\\\']\n",
    "    for char in password:\n",
    "        if char.isupper():\n",
    "            upper_count += 1\n",
    "        elif char.islower():\n",
    "            lower_count += 1\n",
    "        elif char.isdigit():\n",
    "            digit_count += 1\n",
    "        elif char in special_chars:\n",
    "            special_count += 1\n",
    "    if (upper_count >= 2 and lower_count >= 2 and digit_count >= 1 and special_count >= 3 and len(password) == 10):\n",
    "        return \"Valid Password\"\n",
    "    else:\n",
    "        return \"Invalid Password\"\n"
   ]
  },
  {
   "cell_type": "code",
   "execution_count": 3,
   "id": "5be7395d-660b-41ce-9bf8-e49597ae1298",
   "metadata": {},
   "outputs": [
    {
     "name": "stdout",
     "output_type": "stream",
     "text": [
      "Invalid Password\n"
     ]
    }
   ],
   "source": [
    "password = \"Abcde123!@\"\n",
    "result = check_password(password)\n",
    "print(result) # Output: Valid Password\n"
   ]
  },
  {
   "cell_type": "markdown",
   "id": "acd7e68f-8e8d-459a-9cff-c7e92f86bf4f",
   "metadata": {},
   "source": [
    "Q2. Solve the below-given questions using at least one of the following:\n",
    "1. Lambda functioJ\n",
    "2. Filter functioJ\n",
    "3. Zap functioJ\n",
    "4. List ComprehensioI\n",
    "B Check if the string starts with a particular letterY\n",
    "B Check if the string is numericY\n",
    "B Sort a list of tuples having fruit names and their quantity. [(\"mango\",99),(\"orange\",80), (\"grapes\", 1000)-\n",
    "B Find the squares of numbers from 1 to 10Y\n",
    "B Find the cube root of numbers from 1 to 10Y\n",
    "B Check if a given number is evenY\n",
    "B Filter odd numbers from the given list.\n",
    "[1,2,3,4,5,6,7,8,9,10-\n",
    "B Sort a list of integers into positive"
   ]
  },
  {
   "cell_type": "code",
   "execution_count": 2,
   "id": "98c797d5-b5c9-44f4-90da-5ce89e64de7d",
   "metadata": {},
   "outputs": [
    {
     "name": "stdout",
     "output_type": "stream",
     "text": [
      "True\n"
     ]
    }
   ],
   "source": [
    "## Using lambda function and startswith method of string:\n",
    "\n",
    "starts_with = lambda x, char: x.startswith(char)\n",
    "string = \"Hello World\"\n",
    "print(starts_with(string, \"H\")) \n"
   ]
  },
  {
   "cell_type": "code",
   "execution_count": 3,
   "id": "539cffd3-252d-4359-894d-dcd6102c7809",
   "metadata": {},
   "outputs": [
    {
     "name": "stdout",
     "output_type": "stream",
     "text": [
      "True\n",
      "False\n"
     ]
    }
   ],
   "source": [
    "## Using lambda function and isnumeric method of string:\n",
    "\n",
    "is_numeric = lambda x: x.isnumeric()\n",
    "string1 = \"12345\"\n",
    "string2 = \"12.345\"\n",
    "print(is_numeric(string1)) # Output: True\n",
    "print(is_numeric(string2)) # Output: False\n"
   ]
  },
  {
   "cell_type": "code",
   "execution_count": 4,
   "id": "aad1a91e-d90b-437d-aae9-c1bc1fc35f66",
   "metadata": {},
   "outputs": [
    {
     "name": "stdout",
     "output_type": "stream",
     "text": [
      "[('orange', 80), ('mango', 99), ('grapes', 1000)]\n"
     ]
    }
   ],
   "source": [
    "## Using lambda function and sort method:\n",
    "\n",
    "fruits = [(\"mango\",99),(\"orange\",80), (\"grapes\", 1000)]\n",
    "sorted_fruits = sorted(fruits, key=lambda x: x[1])\n",
    "print(sorted_fruits) # Output: [(\"orange\",80), (\"mango\",99), (\"grapes\", 1000)]\n"
   ]
  },
  {
   "cell_type": "code",
   "execution_count": 5,
   "id": "c4b6634f-cf73-4eda-b62c-7d0fc8473f94",
   "metadata": {},
   "outputs": [
    {
     "name": "stdout",
     "output_type": "stream",
     "text": [
      "[1, 4, 9, 16, 25, 36, 49, 64, 81, 100]\n"
     ]
    }
   ],
   "source": [
    "\n",
    "## Find the squares of numbers from 1 to 10:\n",
    "\n",
    "squares = [num**2 for num in range(1,11)]\n",
    "print(squares) \n"
   ]
  },
  {
   "cell_type": "code",
   "execution_count": 6,
   "id": "5a781861-4376-45e7-8f69-cbf8efca2194",
   "metadata": {},
   "outputs": [
    {
     "name": "stdout",
     "output_type": "stream",
     "text": [
      "[1.0, 1.26, 1.44, 1.59, 1.71, 1.82, 1.91, 2.0, 2.08, 2.15]\n"
     ]
    }
   ],
   "source": [
    "## Find the cube root of numbers from 1 to 10:\n",
    "import math\n",
    "cube_roots = [round(math.pow(num, 1/3),2) for num in range(1,11)]\n",
    "print(cube_roots) \n"
   ]
  },
  {
   "cell_type": "code",
   "execution_count": 7,
   "id": "8b5ed075-f3cd-494e-8f1d-3bc5261710d2",
   "metadata": {},
   "outputs": [
    {
     "name": "stdout",
     "output_type": "stream",
     "text": [
      "True\n"
     ]
    }
   ],
   "source": [
    "## Using lambda function and modulo operator:\n",
    "\n",
    "is_even = lambda x: x%2==0\n",
    "number = 6\n",
    "print(is_even(number)) \n"
   ]
  },
  {
   "cell_type": "code",
   "execution_count": 8,
   "id": "8a60687d-a32a-4482-b9bc-dd52c8f40314",
   "metadata": {},
   "outputs": [
    {
     "name": "stdout",
     "output_type": "stream",
     "text": [
      "[1, 3, 5, 7, 9]\n"
     ]
    }
   ],
   "source": [
    "## Using filter function and lambda function:\n",
    "\n",
    "numbers = [1,2,3,4,5,6,7,8,9,10]\n",
    "odd_numbers = list(filter(lambda x: x%2!=0, numbers))\n",
    "print(odd_numbers) \n"
   ]
  },
  {
   "cell_type": "code",
   "execution_count": 9,
   "id": "7d4209e8-5cda-464c-80ec-0d7cd89f75b1",
   "metadata": {},
   "outputs": [
    {
     "name": "stdout",
     "output_type": "stream",
     "text": [
      "[1, 2, 3, 4, 5, 6, 0]\n",
      "[-1, -2, -3, -4, -5]\n"
     ]
    }
   ],
   "source": [
    "\n",
    "## Sort a list of integers into positive and negative integers lists:\n",
    "\n",
    "numbers = [1,2,3,4,5,6,-1,-2,-3,-4,-5,0]\n",
    "positive_numbers = [num for num in numbers if num>=0]\n",
    "negative_numbers = list(filter(lambda x: x<0, numbers))\n",
    "print(positive_numbers) # Output: [1, 2, 3, 4, 5, 6, 0]\n",
    "print(negative_numbers) # Output: [-1, -2, -3, -4, -5]\n"
   ]
  },
  {
   "cell_type": "code",
   "execution_count": null,
   "id": "b9575c87-dc16-445d-b12f-090a50cb046b",
   "metadata": {},
   "outputs": [],
   "source": []
  }
 ],
 "metadata": {
  "kernelspec": {
   "display_name": "Python 3 (ipykernel)",
   "language": "python",
   "name": "python3"
  },
  "language_info": {
   "codemirror_mode": {
    "name": "ipython",
    "version": 3
   },
   "file_extension": ".py",
   "mimetype": "text/x-python",
   "name": "python",
   "nbconvert_exporter": "python",
   "pygments_lexer": "ipython3",
   "version": "3.10.8"
  }
 },
 "nbformat": 4,
 "nbformat_minor": 5
}
