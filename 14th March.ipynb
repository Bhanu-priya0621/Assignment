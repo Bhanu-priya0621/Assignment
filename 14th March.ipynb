{
 "cells": [
  {
   "cell_type": "markdown",
   "id": "bede60b5-5589-4817-9136-0375f89498b8",
   "metadata": {},
   "source": [
    "Q1. Write a Python function that takes in two arrays of data and calculates the F-value for a variance ratio\n",
    "test. The function should return the F-value and the corresponding p-value for the test."
   ]
  },
  {
   "cell_type": "code",
   "execution_count": 1,
   "id": "c77ffbb6-5d4d-4e3c-8295-a2ed97b72272",
   "metadata": {},
   "outputs": [],
   "source": [
    "import numpy as np\n",
    "from scipy.stats import f\n",
    "\n",
    "def variance_ratio_test(data1, data2):\n",
    "    n1 = len(data1)\n",
    "    n2 = len(data2)\n",
    "    s1 = np.var(data1, ddof=1)\n",
    "    s2 = np.var(data2, ddof=1)\n",
    "    f_value = s1 / s2\n",
    "    p_value = f.cdf(f_value, n1-1, n2-1)\n",
    "    return f_value, p_value\n"
   ]
  },
  {
   "cell_type": "markdown",
   "id": "2acf73c5-378c-419b-b3bd-64583b59069b",
   "metadata": {},
   "source": [
    "Q2. Given a significance level of 0.05 and the degrees of freedom for the numerator and denominator of an\n",
    "F-distribution, write a Python function that returns the critical F-value for a two-tailed test."
   ]
  },
  {
   "cell_type": "code",
   "execution_count": 2,
   "id": "5d42863f-f982-40de-a754-6f3a186c89c5",
   "metadata": {},
   "outputs": [],
   "source": [
    "from scipy.stats import f\n",
    "\n",
    "def critical_f_value(numerator_df, denominator_df):\n",
    "    alpha = 0.05\n",
    "    f_critical = f.ppf(alpha/2, numerator_df, denominator_df)\n",
    "    return f_critical\n"
   ]
  },
  {
   "cell_type": "markdown",
   "id": "779918e8-633c-4c61-a2f6-96ec1c6feee0",
   "metadata": {},
   "source": [
    "Q3. Write a Python program that generates random samples from two normal distributions with known\n",
    "\n",
    "variances and uses an F-test to determine if the variances are equal. The program should output the F-\n",
    "value, degrees of freedom, and p-value for the test."
   ]
  },
  {
   "cell_type": "code",
   "execution_count": 3,
   "id": "43affc9d-b08d-4d26-ab64-cdd7c3b4f692",
   "metadata": {},
   "outputs": [
    {
     "name": "stdout",
     "output_type": "stream",
     "text": [
      "F-value:  0.5088494372428908\n",
      "Degrees of freedom:  49 ,  59\n",
      "p-value:  1.9838165001646395\n"
     ]
    }
   ],
   "source": [
    "import numpy as np\n",
    "from scipy.stats import f\n",
    "\n",
    "# Set random seed for reproducibility\n",
    "np.random.seed(123)\n",
    "\n",
    "# Generate random samples\n",
    "sample1 = np.random.normal(loc=0, scale=1, size=50)\n",
    "sample2 = np.random.normal(loc=0, scale=1.5, size=60)\n",
    "\n",
    "# Calculate variances\n",
    "var1 = np.var(sample1, ddof=1)\n",
    "var2 = np.var(sample2, ddof=1)\n",
    "\n",
    "# Calculate F-value and p-value\n",
    "f_value = var1 / var2\n",
    "df1 = len(sample1) - 1\n",
    "df2 = len(sample2) - 1\n",
    "p_value = f.sf(f_value, df1, df2) * 2\n",
    "\n",
    "# Output results\n",
    "print(\"F-value: \", f_value)\n",
    "print(\"Degrees of freedom: \", df1, \", \", df2)\n",
    "print(\"p-value: \", p_value)\n"
   ]
  },
  {
   "cell_type": "markdown",
   "id": "7324f347-2b80-4fef-a809-dc741464f483",
   "metadata": {},
   "source": [
    "Q4.The variances of two populations are known to be 10 and 15. A sample of 12 observations is taken from\n",
    "each population. Conduct an F-test at the 5% significance level to determine if the variances are\n",
    "significantly different.\n",
    "\n",
    "\n",
    "State the null and alternative hypotheses:\n",
    "\n",
    "Null hypothesis: The variances of the two populations are equal.\n",
    "Alternative hypothesis: The variances of the two populations are not equal.\n",
    "Choose a significance level (alpha) and the degrees of freedom for the numerator and denominator of the F-distribution:\n",
    "\n",
    "Significance level: alpha = 0.05\n",
    "Degrees of freedom for the numerator and denominator: df1 = 11, df2 = 11 (since each sample has 12 observations, the degrees of freedom are 12-1 = 11)\n",
    "Calculate the test statistic:\n",
    "\n",
    "F = s1^2 / s2^2, where s1^2 and s2^2 are the sample variances of the two populations.\n",
    "Calculate the p-value:\n",
    "\n",
    "p-value = 2 * min(F-distribution with df1=11, df2=11)\n",
    "Compare the p-value to the significance level and make a decision:\n",
    "\n",
    "If p-value < alpha, reject the null hypothesis and conclude that the variances are significantly different.\n",
    "If p-value >= alpha, fail to reject the null hypothesis and conclude that there is not enough evidence to suggest that the variances are significantly different.\n",
    "\n",
    "\n",
    "Using the above steps, we can conduct the F-test as follows:"
   ]
  },
  {
   "cell_type": "code",
   "execution_count": 5,
   "id": "7c809b26-b1e4-4ee5-865b-fad41b05c4fd",
   "metadata": {},
   "outputs": [
    {
     "name": "stdout",
     "output_type": "stream",
     "text": [
      "p-value = 0.7329784718177064 >= alpha = 0.05\n",
      "Fail to reject null hypothesis: There is not enough evidence to suggest that the variances are significantly different.\n"
     ]
    }
   ],
   "source": [
    "import scipy.stats as stats\n",
    "\n",
    "# Set parameters\n",
    "alpha = 0.05\n",
    "var1 = 10\n",
    "var2 = 15\n",
    "n = 12\n",
    "\n",
    "# Generate random samples from each population\n",
    "sample1 = stats.norm.rvs(loc=0, scale=np.sqrt(var1), size=n)\n",
    "sample2 = stats.norm.rvs(loc=0, scale=np.sqrt(var2), size=n)\n",
    "\n",
    "# Calculate sample variances\n",
    "s1_sq = np.var(sample1, ddof=1)\n",
    "s2_sq = np.var(sample2, ddof=1)\n",
    "\n",
    "# Calculate F-value and p-value\n",
    "F = s1_sq / s2_sq\n",
    "p_value = 2 * stats.f.sf(F, n-1, n-1)\n",
    "\n",
    "# Compare p-value to alpha\n",
    "if p_value < alpha:\n",
    "    print(\"p-value =\", p_value, \"< alpha =\", alpha)\n",
    "    print(\"Reject null hypothesis: The variances are significantly different.\")\n",
    "else:\n",
    "    print(\"p-value =\", p_value, \">= alpha =\", alpha)\n",
    "    print(\"Fail to reject null hypothesis: There is not enough evidence to suggest that the variances are significantly different.\")\n"
   ]
  },
  {
   "cell_type": "markdown",
   "id": "c1a06e2c-fbbf-46a0-973c-0577d2177d87",
   "metadata": {},
   "source": [
    "Q5. A manufacturer claims that the variance of the diameter of a certain product is 0.005. A sample of 25\n",
    "products is taken, and the sample variance is found to be 0.006. Conduct an F-test at the 1% significance\n",
    "level to determine if the claim is justified."
   ]
  },
  {
   "cell_type": "markdown",
   "id": "0812bd55-d87c-45fc-a9d5-6e238d5e0914",
   "metadata": {},
   "source": [
    "State the null and alternative hypotheses:\n",
    "\n",
    "Null hypothesis: The variance of the diameter of the product is equal to 0.005.\n",
    "\n",
    "Alternative hypothesis: The variance of the diameter of the product is greater than 0.005.\n",
    "\n",
    "Choose a significance level (alpha) and the degrees of freedom for the numerator and denominator of the F-distribution:\n",
    "\n",
    "Significance level: alpha = 0.01\n",
    "\n",
    "Degrees of freedom for the numerator: df1 = 24 (since we have 25 observations in the sample)\n",
    "\n",
    "egrees of freedom for the denominator: df2 = n-1 = 24\n",
    "\n",
    "Calculate the test statistic:\n",
    "\n",
    "F = s^2 / sigma^2, where s^2 is the sample variance and sigma^2 is the hypothesized population variance.\n",
    "Calculate the p-value:\n",
    "\n",
    "p-value = 1 - F-distribution with df1=24, df2=24\n",
    "\n",
    "Compare the p-value to the significance level and make a decision:\n",
    "\n",
    "If p-value < alpha, reject the null hypothesis and conclude that the variance of the diameter of the product is greater than 0.005.\n",
    "\n",
    "If p-value >= alpha, fail to reject the null hypothesis and conclude that there is not enough evidence to suggest that the variance of the diameter of the product is greater than 0.005"
   ]
  },
  {
   "cell_type": "markdown",
   "id": "10718503-cd14-4cf8-ad3a-dec493e2d1e1",
   "metadata": {},
   "source": [
    "Q6. Write a Python function that takes in the degrees of freedom for the numerator and denominator of an\n",
    "F-distribution and calculates the mean and variance of the distribution. The function should return the\n",
    "mean and variance as a tuple."
   ]
  },
  {
   "cell_type": "markdown",
   "id": "e1ab2514-cb19-4201-946a-cbe1be6e4129",
   "metadata": {},
   "source": [
    "We can use the following formulas to calculate the mean and variance of an F-distribution:\n",
    "\n",
    "Mean = df2 / (df2 - 2)\n",
    "Variance = (2 * (df2**2) * (df1 + df2 - 2)) / ((df1 * (df2 - 2)**2 * (df2 - 4)))\n",
    "\n",
    "We can write a Python function that takes in the degrees of freedom for the numerator (df1) and denominator (df2) of an F-distribution and returns the mean and variance as a tuple :"
   ]
  },
  {
   "cell_type": "code",
   "execution_count": 2,
   "id": "5abdc106-8d3c-40cc-b689-97ddac723cff",
   "metadata": {},
   "outputs": [
    {
     "name": "stdout",
     "output_type": "stream",
     "text": [
      "Mean of F-distribution with df1 = 5 and df2 = 10 is: 1.25\n",
      "Variance of F-distribution with df1 = 5 and df2 = 10 is: 1.3541666666666667\n"
     ]
    }
   ],
   "source": [
    "def f_distribution_mean_var(df1, df2):\n",
    "    \"\"\"\n",
    "    Calculates the mean and variance of an F-distribution given the degrees of freedom for the numerator and denominator.\n",
    "    Returns the mean and variance as a tuple.\n",
    "    \"\"\"\n",
    "    mean = df2 / (df2 - 2)\n",
    "    variance = (2 * (df2**2) * (df1 + df2 - 2)) / ((df1 * (df2 - 2)**2 * (df2 - 4)))\n",
    "    \n",
    "    return mean, variance\n",
    "\n",
    "## We can then call this function with the desired degrees of freedom and print the results:\n",
    "\n",
    "\n",
    "df1 = 5\n",
    "df2 = 10\n",
    "mean, var = f_distribution_mean_var(df1, df2)\n",
    "print(\"Mean of F-distribution with df1 =\", df1, \"and df2 =\", df2, \"is:\", mean)\n",
    "print(\"Variance of F-distribution with df1 =\", df1, \"and df2 =\", df2, \"is:\", var)\n",
    "\n",
    "\n",
    "\n"
   ]
  },
  {
   "cell_type": "markdown",
   "id": "765a51e8-0aed-4339-8922-6bbf830341ba",
   "metadata": {},
   "source": [
    "Q7. A random sample of 10 measurements is taken from a normal population with unknown variance. The\n",
    "sample variance is found to be 25. Another random sample of 15 measurements is taken from another\n",
    "normal population with unknown variance, and the sample variance is found to be 20. Conduct an F-test\n",
    "at the 10% significance level to determine if the variances are significantly different.\n",
    "\n",
    "\n",
    "\n",
    "To conduct an F-test to determine if the variances of two populations are significantly different, we use the following null and alternative hypotheses:\n",
    "\n",
    "Null hypothesis: The variances of the two populations are equal.\n",
    "Alternative hypothesis: The variances of the two populations are not equal.\n",
    "\n",
    "We can use an F-test to test these hypotheses. The test statistic is calculated as:\n",
    "\n",
    "F = s1^2 / s2^2\n",
    "\n",
    "where s1^2 and s2^2 are the sample variances of the two populations. Under the null hypothesis, the test statistic follows an F-distribution with degrees of freedom df1 = n1 - 1 and df2 = n2 - 1, where n1 and n2 are the sample sizes of the two populations.\n",
    "\n",
    "To conduct the test at the 10% significance level, we first find the critical F-value using the scipy.stats.f module. We want a two-tailed test, so we divide the significance level by 2 and use the degrees of freedom for the numerator and denominator to find the critical values. We can then calculate the F-value and compare it to the critical values to determine if we reject or fail to reject the null hypothesis.\n",
    "\n",
    "Here's the Python code to conduct the F-test:"
   ]
  },
  {
   "cell_type": "code",
   "execution_count": 3,
   "id": "9e021cbd-f54a-4625-83fc-c538d4da364b",
   "metadata": {},
   "outputs": [
    {
     "name": "stdout",
     "output_type": "stream",
     "text": [
      "F-value: 1.25\n",
      "Critical F-value (low): 0.3305268601412525\n",
      "Critical F-value (high): 2.6457907352338195\n",
      "Fail to reject null hypothesis\n"
     ]
    }
   ],
   "source": [
    "import scipy.stats as stats\n",
    "\n",
    "# Sample variances\n",
    "s1_sq = 25\n",
    "s2_sq = 20\n",
    "\n",
    "# Sample sizes\n",
    "n1 = 10\n",
    "n2 = 15\n",
    "\n",
    "# Degrees of freedom\n",
    "df1 = n1 - 1\n",
    "df2 = n2 - 1\n",
    "\n",
    "# Calculate the F-value\n",
    "F = s1_sq / s2_sq\n",
    "\n",
    "# Calculate the critical F-value\n",
    "alpha = 0.10\n",
    "critical_F_low = stats.f.ppf(alpha/2, df1, df2)\n",
    "critical_F_high = stats.f.ppf(1 - alpha/2, df1, df2)\n",
    "\n",
    "# Print the results\n",
    "print(\"F-value:\", F)\n",
    "print(\"Critical F-value (low):\", critical_F_low)\n",
    "print(\"Critical F-value (high):\", critical_F_high)\n",
    "\n",
    "# Compare the F-value to the critical values\n",
    "if F < critical_F_low or F > critical_F_high:\n",
    "    print(\"Reject null hypothesis\")\n",
    "else:\n",
    "    print(\"Fail to reject null hypothesis\")\n"
   ]
  },
  {
   "cell_type": "markdown",
   "id": "a5411f00-d361-4f62-aecc-dfa5d65214c3",
   "metadata": {},
   "source": [
    "Q8. The following data represent the waiting times in minutes at two different restaurants on a Saturday\n",
    "night: Restaurant A: 24, 25, 28, 23, 22, 20, 27; Restaurant B: 31, 33, 35, 30, 32, 36. Conduct an F-test at the 5%\n",
    "significance level to determine if the variances are significantly different.\n",
    "\n",
    "\n",
    "\n",
    "Null hypothesis: The variances of the two populations are equal.\n",
    "Alternative hypothesis: The variances of the two populations are not equal.\n",
    "\n",
    "We can use an F-test to test these hypotheses. The test statistic is calculated as:\n",
    "\n",
    "F = s1^2 / s2^2\n",
    "\n",
    "where s1^2 and s2^2 are the sample variances of the two populations. Under the null hypothesis, the test statistic follows an F-distribution with degrees of freedom df1 = n1 - 1 and df2 = n2 - 1, where n1 and n2 are the sample sizes of the two populations.\n",
    "\n",
    "To conduct the test at the 5% significance level, we first find the critical F-value using the scipy.stats.f module. We want a two-tailed test, so we divide the significance level by 2 and use the degrees of freedom for the numerator and denominator to find the critical values. We can then calculate the F-value and compare it to the critical values to determine if we reject or fail to reject the null hypothesis.\n",
    "\n",
    "Here's the Python code to conduct the F-test:\n"
   ]
  },
  {
   "cell_type": "code",
   "execution_count": 4,
   "id": "a68d9183-b8d2-48bf-ab00-7c4d1574836a",
   "metadata": {},
   "outputs": [
    {
     "name": "stdout",
     "output_type": "stream",
     "text": [
      "F-value: 1.4551907719609583\n",
      "Critical F-value (low): 0.16701279718024772\n",
      "Critical F-value (high): 6.977701858535566\n",
      "Fail to reject null hypothesis\n"
     ]
    }
   ],
   "source": [
    "import numpy as np\n",
    "import scipy.stats as stats\n",
    "\n",
    "# Sample data\n",
    "a = np.array([24, 25, 28, 23, 22, 20, 27])\n",
    "b = np.array([31, 33, 35, 30, 32, 36])\n",
    "\n",
    "# Sample variances\n",
    "s1_sq = np.var(a, ddof=1)\n",
    "s2_sq = np.var(b, ddof=1)\n",
    "\n",
    "# Sample sizes\n",
    "n1 = len(a)\n",
    "n2 = len(b)\n",
    "\n",
    "# Degrees of freedom\n",
    "df1 = n1 - 1\n",
    "df2 = n2 - 1\n",
    "\n",
    "# Calculate the F-value\n",
    "F = s1_sq / s2_sq\n",
    "\n",
    "# Calculate the critical F-value\n",
    "alpha = 0.05\n",
    "critical_F_low = stats.f.ppf(alpha/2, df1, df2)\n",
    "critical_F_high = stats.f.ppf(1 - alpha/2, df1, df2)\n",
    "\n",
    "# Print the results\n",
    "print(\"F-value:\", F)\n",
    "print(\"Critical F-value (low):\", critical_F_low)\n",
    "print(\"Critical F-value (high):\", critical_F_high)\n",
    "\n",
    "# Compare the F-value to the critical values\n",
    "if F < critical_F_low or F > critical_F_high:\n",
    "    print(\"Reject null hypothesis\")\n",
    "else:\n",
    "    print(\"Fail to reject null hypothesis\")\n"
   ]
  },
  {
   "cell_type": "markdown",
   "id": "c426fce3-744c-4d94-92c1-966fc865387d",
   "metadata": {},
   "source": [
    "Q9. The following data represent the test scores of two groups of students: Group A: 80, 85, 90, 92, 87, 83;\n",
    "Group B: 75, 78, 82, 79, 81, 84. Conduct an F-test at the 1% significance level to determine if the variances\n",
    "are significantly different.\n",
    "\n",
    "\n",
    "To conduct an F-test to determine if the variances of two groups of data are significantly different, we can use the following steps:\n",
    "\n",
    "Calculate the sample variances for each group.\n",
    "\n",
    "Calculate the F-statistic as the ratio of the larger sample variance to the smaller sample variance.\n",
    "\n",
    "Determine the degrees of freedom for the numerator and denominator of the F-distribution. The degrees of freedom for the numerator are equal to the sample size of the smaller group minus one, and the degrees of freedom for the denominator are equal to the sample size of the larger group minus one.\n",
    "\n",
    "Calculate the p-value for the F-test using the F-distribution and the calculated F-statistic and degrees of freedom.\n",
    "Compare the p-value to the chosen significance level to determine if the variances are significantly different.\n",
    "Using the given data, we can perform an F-test at the 1% significance level as follows:\n"
   ]
  }
 ],
 "metadata": {
  "kernelspec": {
   "display_name": "Python 3 (ipykernel)",
   "language": "python",
   "name": "python3"
  },
  "language_info": {
   "codemirror_mode": {
    "name": "ipython",
    "version": 3
   },
   "file_extension": ".py",
   "mimetype": "text/x-python",
   "name": "python",
   "nbconvert_exporter": "python",
   "pygments_lexer": "ipython3",
   "version": "3.10.8"
  }
 },
 "nbformat": 4,
 "nbformat_minor": 5
}
