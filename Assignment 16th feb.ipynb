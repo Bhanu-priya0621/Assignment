{
 "cells": [
  {
   "cell_type": "markdown",
   "id": "d9a2493f-3a4e-4cf5-be06-b6fbb3929b6e",
   "metadata": {},
   "source": [
    "Q1. What is a database? Differentiate between SQL and NoSQL databases."
   ]
  },
  {
   "cell_type": "markdown",
   "id": "f0a48624-bdcf-4593-bed7-2ab04dfed73e",
   "metadata": {},
   "source": [
    "A database is an organized collection of structured information, or data, typically stored electronically in a computer system. A database is usually controlled by a database management system (DBMS).\n",
    "\n",
    "\n",
    "The Main Differences:-\n",
    "\n",
    "1. Type – \n",
    "SQL databases are primarily called as Relational Databases (RDBMS); whereas NoSQL database are primarily called as non-relational or distributed database. \n",
    "\n",
    "2. Language – \n",
    "SQL databases defines and manipulates data based structured query language (SQL).\n",
    "\n",
    "A NoSQL database has dynamic schema for unstructured data. Data is stored in many ways which means it can be document-oriented, column-oriented, graph-based or organized as a KeyValue store.\n",
    "\n",
    "\n",
    "3.Structure – \n",
    "SQL databases are table-based on the other hand NoSQL databases are either key-value pairs, document-based, graph databases or wide-column stores.\n",
    "\n",
    "\n",
    "4.Support – \n",
    "Great support is available for all SQL database from their vendors. some NoSQL database you still have to rely on community support.\n",
    "\n"
   ]
  },
  {
   "cell_type": "markdown",
   "id": "49eef13b-748f-4968-a3af-f5d13a5c1495",
   "metadata": {},
   "source": [
    "Q2. What is DDL? Explain why CREATE, DROP, ALTER, and TRUNCATE are used with an example."
   ]
  },
  {
   "cell_type": "markdown",
   "id": "b4106477-5114-4429-9224-bb71babb7f8f",
   "metadata": {},
   "source": [
    "Data Definition Language (DDL) is used to create and modify the structure of objects in a database using predefined commands and a specific syntax.\n",
    "\n",
    "TRUNCATE TABLE removes all rows from a table, but the table structure and its columns, constraints, indexes, and so on remain.\n",
    "\n",
    "\n",
    "The CREATE DATABASE command is used is to create a new SQL database.\n",
    "example - CREATE DATABASE testDB;\n",
    "\n",
    "\n",
    "SQL DROP TABLE commands are used to delete the specified table from the database. Example: Remove the Student table from the database.\n",
    "\n",
    "\n",
    "The ALTER TABLE statement is used to add, delete, or modify columns in an existing table. The ALTER TABLE statement is also used to add and drop various constraints on an existing table.\n",
    "\n",
    "ALTER TABLE table_name \n",
    "ADD column_name1 data_type,\n",
    "    column_name2 data_type,\n"
   ]
  },
  {
   "cell_type": "markdown",
   "id": "cc0325fa-cd6a-4122-b161-dc4a8c6dc380",
   "metadata": {},
   "source": [
    "Q3. What is DML? Explain INSERT, UPDATE, and DELETE with an example."
   ]
  },
  {
   "cell_type": "markdown",
   "id": "91bfba67-0503-46e4-b72a-595f4fd81423",
   "metadata": {},
   "source": [
    "A DML (data manipulation language) refers to a computer programming language that allows you to add (insert), delete (delete), and alter (update) data in a database."
   ]
  },
  {
   "cell_type": "markdown",
   "id": "1a647402-374d-4bcf-8895-9b79a11baca1",
   "metadata": {},
   "source": [
    "\n",
    "The INSERT INTO statement is used to insert new records in a table."
   ]
  },
  {
   "cell_type": "markdown",
   "id": "d9dd016c-152a-447a-8cf8-15ce1df27978",
   "metadata": {},
   "source": [
    " Example - INSERT INTO table_name VALUES (val1, val2, val3…). An example is: INSERT INTO Employee VALUES (1, John, 23);"
   ]
  },
  {
   "cell_type": "markdown",
   "id": "ceeef925-ec93-4d4c-b43f-c8d44ec41a05",
   "metadata": {},
   "source": [
    "An SQL UPDATE statement changes the data of one or more records in a table. Either all the rows can be updated, or a subset may be chosen using a condition.\n",
    "\n",
    "Example - Set the value of column C1 in table T to 1, only in those rows where the value of column C2 is \"a\".\n",
    "\n",
    "UPDATE T\n",
    "   SET C1 = 1\n",
    " WHERE C2 = 'a'\n",
    "\n"
   ]
  },
  {
   "cell_type": "markdown",
   "id": "eefd7462-f924-4548-8637-42b24cd9390f",
   "metadata": {},
   "source": [
    "Delete command is a data manipulation command which is used to remove records from a table. All records may be removed in one go, or a set of records may be deleted based on a condition.\n",
    "\n",
    "\n",
    "example-Delete from employee where name=’sneha’\n"
   ]
  },
  {
   "cell_type": "markdown",
   "id": "bf6db625-9199-47cf-9953-dec07f1a59c4",
   "metadata": {},
   "source": [
    "Q4. What is DQL? Explain SELECT with an example.\n",
    "\n",
    "The full form of DQL is Data Query Language. DQL is a part of the grouping involved in SQL (Structures Query Language) sub-languages.\n",
    "DQL statements are used for performing queries on the data within schema objects.\n",
    "\n",
    "\n",
    "\n",
    "Select command is used to fetch the data in a set of records from a table, view or a group of tables, views by making use of SQL joins.\n",
    "\n",
    " The simplest example of a select statement where in a user wants to, retrieve all the records of a table, can be performed by using '*'.\n"
   ]
  },
  {
   "cell_type": "markdown",
   "id": "a034e759-e7be-4bf7-8e6a-c15a5a87faff",
   "metadata": {},
   "source": [
    "Q5. Explain Primary Key and Foreign Key.\n",
    "\n",
    "A primary key is the column or columns that contain values that uniquely identify each row in a table. A database table must have a primary key for Optim to insert, update, restore, or delete data from a database table.\n",
    "For example, in the table below, CustomerNo, which displays the ID number assigned to different customers, is the primary key.\n",
    "\n",
    "\n",
    "In simpler words, a foreign key is a set of attributes that references a candidate key. For example, a table called TEAM may have an attribute, MEMBER_NAME, which is a foreign key referencing a candidate key, PERSON_NAME, in the PERSON table."
   ]
  },
  {
   "cell_type": "markdown",
   "id": "1f4c2bad-bfb7-48c4-9914-1f6c0773c671",
   "metadata": {},
   "source": [
    "Q6. Write a python code to connect MySQL to python. Explain the cursor() and execute() method."
   ]
  },
  {
   "cell_type": "markdown",
   "id": "225270f7-0bde-43da-ac4d-a342035724ba",
   "metadata": {},
   "source": [
    "1.❮ Previous Next ❯\n",
    "\n",
    "\n",
    "2.demo_mysql_test.py: import mysql. connector. Run example »\n",
    "\n",
    "3.demo_mysql_connection.py: import mysql. connector. mydb = mysql. connector. connect( host=\"localhost\", user=\"yourusername\", password=\"yourpassword\" ) print(mydb) Run example »\n",
    "\n",
    "\n",
    "Cursor is a Temporary Memory or Temporary Work Station. It is Allocated by Database Server at the Time of Performing DML(Data Manipulation Language) operations on Table by User. Cursors are used to store Database Tables.\n",
    "\n",
    "\n",
    "execute( conn , sqlquery ) executes an SQL query that contains a non- SELECT SQL statement by using the relational database connection.\n",
    "\n"
   ]
  },
  {
   "cell_type": "markdown",
   "id": "b48f5ef7-5a28-47c7-bb50-c7d24976d790",
   "metadata": {},
   "source": [
    "Q7. Give the order of execution of SQL clauses in an SQL query."
   ]
  },
  {
   "cell_type": "markdown",
   "id": "082022e1-6205-4686-a9eb-a4061312a08f",
   "metadata": {},
   "source": []
  }
 ],
 "metadata": {
  "kernelspec": {
   "display_name": "Python 3 (ipykernel)",
   "language": "python",
   "name": "python3"
  },
  "language_info": {
   "codemirror_mode": {
    "name": "ipython",
    "version": 3
   },
   "file_extension": ".py",
   "mimetype": "text/x-python",
   "name": "python",
   "nbconvert_exporter": "python",
   "pygments_lexer": "ipython3",
   "version": "3.10.8"
  }
 },
 "nbformat": 4,
 "nbformat_minor": 5
}
