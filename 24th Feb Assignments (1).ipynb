{
 "cells": [
  {
   "cell_type": "markdown",
   "id": "7faa51bc-a50f-4813-8920-5cd3da576031",
   "metadata": {},
   "source": [
    "Q1. List any five functions of the pandas library with execution.\n",
    "\n",
    "pd.read_csv() - This function is used to read a CSV file and create a DataFrame. For example, if you have a file named \"data.csv\" in the same directory as your Python script, you can read it into a DataFrame with the following code:"
   ]
  },
  {
   "cell_type": "code",
   "execution_count": 2,
   "id": "0e49a0e8-15a6-4ded-8f1c-a74bf1cd2f24",
   "metadata": {},
   "outputs": [],
   "source": [
    "import pandas as pd\n",
    "\n",
    "df = pd.read_csv('Algerian_forest_fires_dataset_UPDATE.csv')\n"
   ]
  },
  {
   "cell_type": "markdown",
   "id": "1fabfd25-c6ef-438e-8944-1de9f9b510e1",
   "metadata": {},
   "source": [
    "df.head() - This function is used to display the first few rows of a DataFrame. By default, it displays the first 5 rows, but you can specify a different number by passing an argument. For example, to display the first 10 rows of a DataFrame, you can use the following code:"
   ]
  },
  {
   "cell_type": "code",
   "execution_count": 3,
   "id": "ea26c53e-d1fc-405d-b209-9303f2aebaeb",
   "metadata": {},
   "outputs": [
    {
     "data": {
      "text/html": [
       "<div>\n",
       "<style scoped>\n",
       "    .dataframe tbody tr th:only-of-type {\n",
       "        vertical-align: middle;\n",
       "    }\n",
       "\n",
       "    .dataframe tbody tr th {\n",
       "        vertical-align: top;\n",
       "    }\n",
       "\n",
       "    .dataframe thead th {\n",
       "        text-align: right;\n",
       "    }\n",
       "</style>\n",
       "<table border=\"1\" class=\"dataframe\">\n",
       "  <thead>\n",
       "    <tr style=\"text-align: right;\">\n",
       "      <th></th>\n",
       "      <th></th>\n",
       "      <th></th>\n",
       "      <th></th>\n",
       "      <th></th>\n",
       "      <th></th>\n",
       "      <th></th>\n",
       "      <th></th>\n",
       "      <th></th>\n",
       "      <th></th>\n",
       "      <th></th>\n",
       "      <th></th>\n",
       "      <th></th>\n",
       "      <th>Bejaia Region Dataset</th>\n",
       "    </tr>\n",
       "  </thead>\n",
       "  <tbody>\n",
       "    <tr>\n",
       "      <th>day</th>\n",
       "      <th>month</th>\n",
       "      <th>year</th>\n",
       "      <th>Temperature</th>\n",
       "      <th>RH</th>\n",
       "      <th>Ws</th>\n",
       "      <th>Rain</th>\n",
       "      <th>FFMC</th>\n",
       "      <th>DMC</th>\n",
       "      <th>DC</th>\n",
       "      <th>ISI</th>\n",
       "      <th>BUI</th>\n",
       "      <th>FWI</th>\n",
       "      <td>Classes</td>\n",
       "    </tr>\n",
       "    <tr>\n",
       "      <th>01</th>\n",
       "      <th>06</th>\n",
       "      <th>2012</th>\n",
       "      <th>29</th>\n",
       "      <th>57</th>\n",
       "      <th>18</th>\n",
       "      <th>0</th>\n",
       "      <th>65.7</th>\n",
       "      <th>3.4</th>\n",
       "      <th>7.6</th>\n",
       "      <th>1.3</th>\n",
       "      <th>3.4</th>\n",
       "      <th>0.5</th>\n",
       "      <td>not fire</td>\n",
       "    </tr>\n",
       "    <tr>\n",
       "      <th>02</th>\n",
       "      <th>06</th>\n",
       "      <th>2012</th>\n",
       "      <th>29</th>\n",
       "      <th>61</th>\n",
       "      <th>13</th>\n",
       "      <th>1.3</th>\n",
       "      <th>64.4</th>\n",
       "      <th>4.1</th>\n",
       "      <th>7.6</th>\n",
       "      <th>1</th>\n",
       "      <th>3.9</th>\n",
       "      <th>0.4</th>\n",
       "      <td>not fire</td>\n",
       "    </tr>\n",
       "    <tr>\n",
       "      <th>03</th>\n",
       "      <th>06</th>\n",
       "      <th>2012</th>\n",
       "      <th>26</th>\n",
       "      <th>82</th>\n",
       "      <th>22</th>\n",
       "      <th>13.1</th>\n",
       "      <th>47.1</th>\n",
       "      <th>2.5</th>\n",
       "      <th>7.1</th>\n",
       "      <th>0.3</th>\n",
       "      <th>2.7</th>\n",
       "      <th>0.1</th>\n",
       "      <td>not fire</td>\n",
       "    </tr>\n",
       "    <tr>\n",
       "      <th>04</th>\n",
       "      <th>06</th>\n",
       "      <th>2012</th>\n",
       "      <th>25</th>\n",
       "      <th>89</th>\n",
       "      <th>13</th>\n",
       "      <th>2.5</th>\n",
       "      <th>28.6</th>\n",
       "      <th>1.3</th>\n",
       "      <th>6.9</th>\n",
       "      <th>0</th>\n",
       "      <th>1.7</th>\n",
       "      <th>0</th>\n",
       "      <td>not fire</td>\n",
       "    </tr>\n",
       "    <tr>\n",
       "      <th>05</th>\n",
       "      <th>06</th>\n",
       "      <th>2012</th>\n",
       "      <th>27</th>\n",
       "      <th>77</th>\n",
       "      <th>16</th>\n",
       "      <th>0</th>\n",
       "      <th>64.8</th>\n",
       "      <th>3</th>\n",
       "      <th>14.2</th>\n",
       "      <th>1.2</th>\n",
       "      <th>3.9</th>\n",
       "      <th>0.5</th>\n",
       "      <td>not fire</td>\n",
       "    </tr>\n",
       "    <tr>\n",
       "      <th>06</th>\n",
       "      <th>06</th>\n",
       "      <th>2012</th>\n",
       "      <th>31</th>\n",
       "      <th>67</th>\n",
       "      <th>14</th>\n",
       "      <th>0</th>\n",
       "      <th>82.6</th>\n",
       "      <th>5.8</th>\n",
       "      <th>22.2</th>\n",
       "      <th>3.1</th>\n",
       "      <th>7</th>\n",
       "      <th>2.5</th>\n",
       "      <td>fire</td>\n",
       "    </tr>\n",
       "    <tr>\n",
       "      <th>07</th>\n",
       "      <th>06</th>\n",
       "      <th>2012</th>\n",
       "      <th>33</th>\n",
       "      <th>54</th>\n",
       "      <th>13</th>\n",
       "      <th>0</th>\n",
       "      <th>88.2</th>\n",
       "      <th>9.9</th>\n",
       "      <th>30.5</th>\n",
       "      <th>6.4</th>\n",
       "      <th>10.9</th>\n",
       "      <th>7.2</th>\n",
       "      <td>fire</td>\n",
       "    </tr>\n",
       "    <tr>\n",
       "      <th>08</th>\n",
       "      <th>06</th>\n",
       "      <th>2012</th>\n",
       "      <th>30</th>\n",
       "      <th>73</th>\n",
       "      <th>15</th>\n",
       "      <th>0</th>\n",
       "      <th>86.6</th>\n",
       "      <th>12.1</th>\n",
       "      <th>38.3</th>\n",
       "      <th>5.6</th>\n",
       "      <th>13.5</th>\n",
       "      <th>7.1</th>\n",
       "      <td>fire</td>\n",
       "    </tr>\n",
       "    <tr>\n",
       "      <th>09</th>\n",
       "      <th>06</th>\n",
       "      <th>2012</th>\n",
       "      <th>25</th>\n",
       "      <th>88</th>\n",
       "      <th>13</th>\n",
       "      <th>0.2</th>\n",
       "      <th>52.9</th>\n",
       "      <th>7.9</th>\n",
       "      <th>38.8</th>\n",
       "      <th>0.4</th>\n",
       "      <th>10.5</th>\n",
       "      <th>0.3</th>\n",
       "      <td>not fire</td>\n",
       "    </tr>\n",
       "  </tbody>\n",
       "</table>\n",
       "</div>"
      ],
      "text/plain": [
       "                                                                     Bejaia Region Dataset \n",
       "day month year Temperature  RH  Ws Rain  FFMC DMC  DC   ISI BUI  FWI              Classes  \n",
       "01  06    2012 29          57  18  0     65.7 3.4  7.6  1.3 3.4  0.5            not fire   \n",
       "02  06    2012 29          61  13  1.3   64.4 4.1  7.6  1   3.9  0.4            not fire   \n",
       "03  06    2012 26          82  22  13.1  47.1 2.5  7.1  0.3 2.7  0.1            not fire   \n",
       "04  06    2012 25          89  13  2.5   28.6 1.3  6.9  0   1.7  0              not fire   \n",
       "05  06    2012 27          77  16  0     64.8 3    14.2 1.2 3.9  0.5            not fire   \n",
       "06  06    2012 31          67  14  0     82.6 5.8  22.2 3.1 7    2.5                fire   \n",
       "07  06    2012 33          54  13  0     88.2 9.9  30.5 6.4 10.9 7.2                fire   \n",
       "08  06    2012 30          73  15  0     86.6 12.1 38.3 5.6 13.5 7.1                fire   \n",
       "09  06    2012 25          88  13  0.2   52.9 7.9  38.8 0.4 10.5 0.3            not fire   "
      ]
     },
     "execution_count": 3,
     "metadata": {},
     "output_type": "execute_result"
    }
   ],
   "source": [
    "df.head(10)\n"
   ]
  },
  {
   "cell_type": "markdown",
   "id": "a47938e8-8869-434c-99d1-72dacef8a6da",
   "metadata": {},
   "source": [
    "df.describe() - This function is used to generate descriptive statistics for a DataFrame. It computes various summary statistics, such as mean, median, standard deviation, and quartiles, for each numerical column in the DataFrame. For example, to generate descriptive statistics for a DataFrame named \"df\", you can use the following code:"
   ]
  },
  {
   "cell_type": "code",
   "execution_count": 4,
   "id": "729033f8-14ba-42f4-a95d-a7e36c0ca699",
   "metadata": {},
   "outputs": [
    {
     "data": {
      "text/html": [
       "<div>\n",
       "<style scoped>\n",
       "    .dataframe tbody tr th:only-of-type {\n",
       "        vertical-align: middle;\n",
       "    }\n",
       "\n",
       "    .dataframe tbody tr th {\n",
       "        vertical-align: top;\n",
       "    }\n",
       "\n",
       "    .dataframe thead th {\n",
       "        text-align: right;\n",
       "    }\n",
       "</style>\n",
       "<table border=\"1\" class=\"dataframe\">\n",
       "  <thead>\n",
       "    <tr style=\"text-align: right;\">\n",
       "      <th></th>\n",
       "      <th>Bejaia Region Dataset</th>\n",
       "    </tr>\n",
       "  </thead>\n",
       "  <tbody>\n",
       "    <tr>\n",
       "      <th>count</th>\n",
       "      <td>245</td>\n",
       "    </tr>\n",
       "    <tr>\n",
       "      <th>unique</th>\n",
       "      <td>9</td>\n",
       "    </tr>\n",
       "    <tr>\n",
       "      <th>top</th>\n",
       "      <td>fire</td>\n",
       "    </tr>\n",
       "    <tr>\n",
       "      <th>freq</th>\n",
       "      <td>131</td>\n",
       "    </tr>\n",
       "  </tbody>\n",
       "</table>\n",
       "</div>"
      ],
      "text/plain": [
       "       Bejaia Region Dataset \n",
       "count                     245\n",
       "unique                      9\n",
       "top                   fire   \n",
       "freq                      131"
      ]
     },
     "execution_count": 4,
     "metadata": {},
     "output_type": "execute_result"
    }
   ],
   "source": [
    "df.describe()\n"
   ]
  },
  {
   "cell_type": "markdown",
   "id": "68fc697e-d113-48c3-bf6c-47fc3aeaf187",
   "metadata": {},
   "source": [
    "df.to_csv() - This function is used to write a DataFrame to a CSV file. For example, to write a DataFrame named \"df\" to a file named \"output.csv\", you can use the following code:\n"
   ]
  },
  {
   "cell_type": "code",
   "execution_count": 7,
   "id": "abccca9a-5d54-4b40-8e40-0834240cfa7c",
   "metadata": {},
   "outputs": [],
   "source": [
    "df.to_csv('Algerian_forest_fires', index=False)\n"
   ]
  },
  {
   "cell_type": "markdown",
   "id": "5cb4eb89-d932-4891-a70e-f632156e8977",
   "metadata": {},
   "source": [
    "pivot_table(): This function is used to create a pivot table from a DataFrame."
   ]
  },
  {
   "cell_type": "markdown",
   "id": "3642579f-cde3-4bd4-86a2-3775ae1fa1f8",
   "metadata": {},
   "source": [
    "Q2. Given a Pandas DataFrame df with columns 'A', 'B', and 'C', write a Python function to re-index the\n",
    "DataFrame with a new index that starts from 1 and increments by 2 for each row."
   ]
  },
  {
   "cell_type": "code",
   "execution_count": 65,
   "id": "8c596a75-dc0b-459e-8271-4f3f4896d9c1",
   "metadata": {},
   "outputs": [],
   "source": [
    "import pandas as pd\n",
    "\n",
    "data = {'A': [1, 2, 3, 4, 5],\n",
    "        'B': [6, 7, 8, 9, 10],\n",
    "        'C': [11, 12, 13, 14, 15]}\n",
    "\n",
    "df = pd.DataFrame(data)\n"
   ]
  },
  {
   "cell_type": "code",
   "execution_count": 66,
   "id": "88a49aa5-537a-4460-bd52-47d28dd58ad5",
   "metadata": {},
   "outputs": [],
   "source": [
    "def reindex_dataframe(df):\n",
    "    df.index = pd.RangeIndex(start=1, stop=2*len(df)+1, step=2)\n",
    "    return df\n"
   ]
  },
  {
   "cell_type": "code",
   "execution_count": 67,
   "id": "43c5d2a4-15a2-41fb-96a3-671462ba5e7b",
   "metadata": {},
   "outputs": [],
   "source": [
    "df = reindex_dataframe(df)\n"
   ]
  },
  {
   "cell_type": "code",
   "execution_count": 68,
   "id": "fc05ec16-f74f-41f4-b7cc-174a6a7f045f",
   "metadata": {},
   "outputs": [
    {
     "data": {
      "text/html": [
       "<div>\n",
       "<style scoped>\n",
       "    .dataframe tbody tr th:only-of-type {\n",
       "        vertical-align: middle;\n",
       "    }\n",
       "\n",
       "    .dataframe tbody tr th {\n",
       "        vertical-align: top;\n",
       "    }\n",
       "\n",
       "    .dataframe thead th {\n",
       "        text-align: right;\n",
       "    }\n",
       "</style>\n",
       "<table border=\"1\" class=\"dataframe\">\n",
       "  <thead>\n",
       "    <tr style=\"text-align: right;\">\n",
       "      <th></th>\n",
       "      <th>A</th>\n",
       "      <th>B</th>\n",
       "      <th>C</th>\n",
       "    </tr>\n",
       "  </thead>\n",
       "  <tbody>\n",
       "    <tr>\n",
       "      <th>1</th>\n",
       "      <td>1</td>\n",
       "      <td>6</td>\n",
       "      <td>11</td>\n",
       "    </tr>\n",
       "    <tr>\n",
       "      <th>3</th>\n",
       "      <td>2</td>\n",
       "      <td>7</td>\n",
       "      <td>12</td>\n",
       "    </tr>\n",
       "    <tr>\n",
       "      <th>5</th>\n",
       "      <td>3</td>\n",
       "      <td>8</td>\n",
       "      <td>13</td>\n",
       "    </tr>\n",
       "    <tr>\n",
       "      <th>7</th>\n",
       "      <td>4</td>\n",
       "      <td>9</td>\n",
       "      <td>14</td>\n",
       "    </tr>\n",
       "    <tr>\n",
       "      <th>9</th>\n",
       "      <td>5</td>\n",
       "      <td>10</td>\n",
       "      <td>15</td>\n",
       "    </tr>\n",
       "  </tbody>\n",
       "</table>\n",
       "</div>"
      ],
      "text/plain": [
       "   A   B   C\n",
       "1  1   6  11\n",
       "3  2   7  12\n",
       "5  3   8  13\n",
       "7  4   9  14\n",
       "9  5  10  15"
      ]
     },
     "execution_count": 68,
     "metadata": {},
     "output_type": "execute_result"
    }
   ],
   "source": [
    "df"
   ]
  },
  {
   "cell_type": "markdown",
   "id": "4e24b09d-4245-4f0a-92a5-eb2ac5b90714",
   "metadata": {},
   "source": [
    "Q3. You have a Pandas DataFrame df with a column named 'Values'. Write a Python function that\n",
    "iterates over the DataFrame and calculates the sum of the first three values in the 'Values' column. The\n",
    "function should print the sum to the console."
   ]
  },
  {
   "cell_type": "code",
   "execution_count": 22,
   "id": "e61f606c-d4b7-4c07-aa9d-f4d9a098e030",
   "metadata": {},
   "outputs": [],
   "source": [
    "import pandas as pd\n",
    "\n",
    "def sum_first_three(df):\n",
    "    # Initialize a variable to store the sum\n",
    "    sum_first_three = 0\n",
    "    \n",
    "    # Iterate over the first three rows of the DataFrame\n",
    "    for i in range(3):\n",
    "        # Add the value in the 'Values' column to the sum\n",
    "        sum_first_three += df.loc[i, 'Values']\n",
    "    \n",
    "    # Print the sum to the console\n",
    "    print(f\"The sum of the first three values in the 'Values' column is: {sum_first_three}\")\n"
   ]
  },
  {
   "cell_type": "code",
   "execution_count": 28,
   "id": "b0ba51a8-d269-4a9c-92d6-2ab13b1ff827",
   "metadata": {},
   "outputs": [
    {
     "name": "stdout",
     "output_type": "stream",
     "text": [
      "      name  Values\n",
      "0    Alice      25\n",
      "1      Bob      30\n",
      "2  Charlie      35\n",
      "3    David      40\n"
     ]
    }
   ],
   "source": [
    "import pandas as pd\n",
    "\n",
    "data = {'name': ['Alice', 'Bob', 'Charlie', 'David'],\n",
    "        'Values': [25, 30, 35, 40]}\n",
    "df = pd.DataFrame(data)\n",
    "\n",
    "# Print the DataFrame\n",
    "print(df)\n"
   ]
  },
  {
   "cell_type": "code",
   "execution_count": 29,
   "id": "9b6c6ca7-46eb-4935-88cf-aec69e8ea21c",
   "metadata": {},
   "outputs": [
    {
     "name": "stdout",
     "output_type": "stream",
     "text": [
      "The sum of the first three values in the 'Values' column is: 90\n"
     ]
    }
   ],
   "source": [
    "sum_first_three(df)"
   ]
  },
  {
   "cell_type": "markdown",
   "id": "1bbb998b-97d1-463b-9fb8-b58d94b2906d",
   "metadata": {},
   "source": [
    "Q4. Given a Pandas DataFrame df with a column 'Text', write a Python function to create a new column\n",
    "'Word_Count' that contains the number of words in each row of the 'Text' column."
   ]
  },
  {
   "cell_type": "code",
   "execution_count": 40,
   "id": "8be6e3f5-e603-4522-a737-8cf972273d72",
   "metadata": {},
   "outputs": [],
   "source": [
    "import pandas as pd\n",
    "\n",
    "def add_word_count_column(df):\n",
    "    # Split the text column into individual words and count them\n",
    "    word_counts = df['Text'].str.split().apply(len)\n",
    "    \n",
    "    # Add the word counts to the DataFrame as a new column\n",
    "    df['Word_Count'] = word_counts\n",
    "    \n",
    "    # Return the modified DataFrame\n",
    "    return df\n"
   ]
  },
  {
   "cell_type": "code",
   "execution_count": 41,
   "id": "d5fee82a-e034-430e-934e-f9a38b49654b",
   "metadata": {},
   "outputs": [
    {
     "name": "stdout",
     "output_type": "stream",
     "text": [
      "                     Text  Word_Count\n",
      "0     This is a sentence.           4\n",
      "1  Another sentence here.           3\n"
     ]
    }
   ],
   "source": [
    "df = pd.DataFrame({'Text': ['This is a sentence.', 'Another sentence here.']})\n",
    "\n",
    "df = add_word_count_column(df)\n",
    "\n",
    "print(df)\n"
   ]
  },
  {
   "cell_type": "markdown",
   "id": "f057304a-52ff-4b79-8866-474acb1313ba",
   "metadata": {},
   "source": [
    "Q5. How are DataFrame.size() and DataFrame.shape() different?"
   ]
  },
  {
   "cell_type": "markdown",
   "id": "69cf7a86-385e-4815-aa1b-7360acf4b4e6",
   "metadata": {},
   "source": [
    "\n",
    "\n",
    "DataFrame.size() and DataFrame.shape() are both methods in Pandas that provide information about the size and shape of a DataFrame, but they are used for different purposes.\n",
    "\n",
    "DataFrame.size() returns the total number of elements in the DataFrame, which is the product of the number of rows and the number of columns. In other words, it returns the total number of cells in the DataFrame, regardless of whether they contain data or not.\n",
    "\n",
    "DataFrame.shape() returns a tuple of two integers that represent the dimensions of the DataFrame: the number of rows and the number of columns, respectively. In other words, it returns the size of the DataFrame as a tuple in the format (number of rows, number of columns).\n",
    "\n",
    "Here's an example to illustrate the difference between DataFrame.size() and DataFrame.shape()"
   ]
  },
  {
   "cell_type": "code",
   "execution_count": 42,
   "id": "5b553b98-d92f-45d7-8b74-7e6466963cbf",
   "metadata": {},
   "outputs": [
    {
     "name": "stdout",
     "output_type": "stream",
     "text": [
      "9\n",
      "(3, 3)\n"
     ]
    }
   ],
   "source": [
    "import pandas as pd\n",
    "\n",
    "df = pd.DataFrame({'A': [1, 2, 3], 'B': [4, 5, 6], 'C': [7, 8, 9]})\n",
    "\n",
    "print(df.size)    # Output: 9 (3 rows x 3 columns = 9 elements)\n",
    "print(df.shape)   # Output: (3, 3) (3 rows, 3 columns)\n"
   ]
  },
  {
   "cell_type": "markdown",
   "id": "6a1e7a59-163a-4f28-b289-6584ece458cd",
   "metadata": {},
   "source": [
    "Q6. Which function of pandas do we use to read an excel file?\n",
    "\n",
    "To read an Excel file in Pandas, we use the read_excel() function. This function is part of the Pandas library and can read Excel files in the .xlsx format.\n",
    "\n",
    "Here's an example of how to use the read_excel() function to read an Excel file into a Pandas DataFrame:\n",
    "\n",
    "import pandas as pd\n",
    "\n",
    "Read Excel file into a Pandas DataFrame\n",
    "df = pd.read_excel('file.xlsx')\n",
    "\n",
    " Display the first 5 rows of the DataFrame\n",
    "print(df.head())\n"
   ]
  },
  {
   "cell_type": "markdown",
   "id": "e3d6cd6d-bce3-4079-aaf7-18b4a225a0ef",
   "metadata": {},
   "source": [
    "In this example, we first import the Pandas library using the import statement. Then, we use the read_excel() function to read the Excel file 'file.xlsx' into a Pandas DataFrame df. Finally, we use the head() method to display the first 5 rows of the DataFrame."
   ]
  },
  {
   "cell_type": "markdown",
   "id": "de6f681d-951b-4903-afce-0a458c979349",
   "metadata": {},
   "source": [
    "Q7. You have a Pandas DataFrame df that contains a column named 'Email' that contains email\n",
    "addresses in the format 'username@domain.com'. Write a Python function that creates a new column\n",
    "'Username' in df that contains only the username part of each email address.\n",
    "\n",
    "The username is the part of the email address that appears before the '@' symbol. For example, if the\n",
    "email address is 'john.doe@example.com', the 'Username' column should contain 'john.doe'. Your\n",
    "function should extract the username from each email address and store it in the new 'Username'\n",
    "column."
   ]
  },
  {
   "cell_type": "code",
   "execution_count": 44,
   "id": "e08f1f8f-4129-4362-8507-03a2a33beabb",
   "metadata": {},
   "outputs": [],
   "source": [
    "import pandas as pd\n",
    "\n",
    "def extract_username(df):\n",
    "    # Use the split() function to split the email address into username and domain\n",
    "    df['Username'] = df['Email'].apply(lambda x: x.split('@')[0])\n",
    "    return df\n"
   ]
  },
  {
   "cell_type": "code",
   "execution_count": 45,
   "id": "d4de8547-09b8-4eed-a3ef-98e779d253d8",
   "metadata": {},
   "outputs": [
    {
     "name": "stdout",
     "output_type": "stream",
     "text": [
      "                    Email    Username\n",
      "0    john.doe@example.com    john.doe\n",
      "1  jane.smith@example.com  jane.smith\n",
      "2  bob.harris@example.com  bob.harris\n"
     ]
    }
   ],
   "source": [
    "# Create a sample DataFrame\n",
    "df = pd.DataFrame({'Email': ['john.doe@example.com', 'jane.smith@example.com', 'bob.harris@example.com']})\n",
    "\n",
    "# Extract the usernames from the email addresses\n",
    "df = extract_username(df)\n",
    "\n",
    "# Display the updated DataFrame\n",
    "print(df)\n"
   ]
  },
  {
   "cell_type": "markdown",
   "id": "121c905f-b01f-489b-a585-c8aa538a0ece",
   "metadata": {},
   "source": [
    "Q8. You have a Pandas DataFrame df with columns 'A', 'B', and 'C'. Write a Python function that selects\n",
    "all rows where the value in column 'A' is greater than 5 and the value in column 'B' is less than 10. The\n",
    "function should return a new DataFrame that contains only the selected rows.\n",
    "For example, if df contains the following values:\n",
    "A B C\n",
    "0 3 5 1\n",
    "1 8 2 7\n",
    "2 6 9 4\n",
    "3 2 3 5\n",
    "4 9 1 2\n",
    "\n",
    "Your function should select the following rows: A B C\n",
    "1 8 2 7\n",
    "4 9 1 2\n",
    "The function should return a new DataFrame that contains only the selected rows."
   ]
  },
  {
   "cell_type": "code",
   "execution_count": 46,
   "id": "c35ea365-fcea-4205-a4fe-2ef2a5a649ac",
   "metadata": {},
   "outputs": [],
   "source": [
    "import pandas as pd\n",
    "\n",
    "def select_rows(df):\n",
    "    selected_rows = df[(df['A'] > 5) & (df['B'] < 10)]\n",
    "    return selected_rows\n"
   ]
  },
  {
   "cell_type": "code",
   "execution_count": 47,
   "id": "910412b4-3572-4498-a600-bd7193f91d0a",
   "metadata": {},
   "outputs": [
    {
     "name": "stdout",
     "output_type": "stream",
     "text": [
      "   A  B  C\n",
      "1  8  2  7\n",
      "2  6  9  4\n",
      "4  9  1  2\n"
     ]
    }
   ],
   "source": [
    "df = pd.DataFrame({'A': [3, 8, 6, 2, 9], 'B': [5, 2, 9, 3, 1], 'C': [1, 7, 4, 5, 2]})\n",
    "selected_rows = select_rows(df)\n",
    "print(selected_rows)\n"
   ]
  },
  {
   "cell_type": "markdown",
   "id": "f576e610-21d5-4b2e-8f2d-383358757f1b",
   "metadata": {},
   "source": [
    "Q9. Given a Pandas DataFrame df with a column 'Values', write a Python function to calculate the mean,\n",
    "median, and standard deviation of the values in the 'Values' column."
   ]
  },
  {
   "cell_type": "code",
   "execution_count": 50,
   "id": "3b6cfe77-da80-413f-a348-02e2b8f43071",
   "metadata": {},
   "outputs": [],
   "source": [
    "import pandas as pd\n",
    "\n",
    "def calc_stats(df):\n",
    "    # calculate mean, median, and standard deviation of 'Values' column\n",
    "    mean = df['Values'].mean()\n",
    "    median = df['Values'].median()\n",
    "    std = df['Values'].std()\n",
    "\n",
    "    # print results\n",
    "    print(f\"Mean: {mean}\")\n",
    "    print(f\"Median: {median}\")\n",
    "    print(f\"Standard Deviation: {std}\")\n"
   ]
  },
  {
   "cell_type": "code",
   "execution_count": 49,
   "id": "7a363eb5-f70e-49a8-8538-ee6c8c9e15ef",
   "metadata": {},
   "outputs": [
    {
     "name": "stdout",
     "output_type": "stream",
     "text": [
      "Mean: 30.0\n",
      "Median: 30.0\n",
      "Standard Deviation: 15.811388300841896\n"
     ]
    }
   ],
   "source": [
    "df = pd.DataFrame({'Values': [10, 20, 30, 40, 50]})\n",
    "calc_stats(df)\n"
   ]
  },
  {
   "cell_type": "markdown",
   "id": "544926bb-6aa0-4362-876f-ea299512e36b",
   "metadata": {},
   "source": [
    "Q10. Given a Pandas DataFrame df with a column 'Sales' and a column 'Date', write a Python function to\n",
    "create a new column 'MovingAverage' that contains the moving average of the sales for the past 7 days\n",
    "for each row in the DataFrame. The moving average should be calculated using a window of size 7 and\n",
    "should include the current day."
   ]
  },
  {
   "cell_type": "code",
   "execution_count": 53,
   "id": "28358973-b5e0-4f30-abd2-3e427b3f77a5",
   "metadata": {},
   "outputs": [],
   "source": [
    "import pandas as pd\n",
    "\n",
    "def add_moving_average(df):\n",
    "    # Convert the 'Date' column to a datetime type\n",
    "    df['Date'] = pd.to_datetime(df['Date'])\n",
    "    \n",
    "    # Set the 'Date' column as the DataFrame index\n",
    "    df = df.set_index('Date')\n",
    "    \n",
    "    # Calculate the moving average using a window of size 7\n",
    "    df['MovingAverage'] = df['Sales'].rolling(window=7, min_periods=1).mean()\n",
    "    \n",
    "    # Reset the index to make 'Date' a column again\n",
    "    df = df.reset_index()\n",
    "    \n",
    "    return df\n"
   ]
  },
  {
   "cell_type": "markdown",
   "id": "b187a55e-a94a-41a8-a325-5d7e7dbd02ff",
   "metadata": {},
   "source": [
    "Q11. You have a Pandas DataFrame df with a column 'Date'. Write a Python function that creates a new\n",
    "column 'Weekday' in the DataFrame. The 'Weekday' column should contain the weekday name (e.g.\n",
    "Monday, Tuesday) corresponding to each date in the 'Date' column.\n",
    "For example, if df contains the following values:\n",
    "Date\n",
    "0 2023-01-01\n",
    "1 2023-01-02\n",
    "2 2023-01-03\n",
    "3 2023-01-04\n",
    "4 2023-01-05\n",
    "Your function should create the following DataFrame:\n",
    "\n",
    "Date Weekday\n",
    "0 2023-01-01 Sunday\n",
    "1 2023-01-02 Monday\n",
    "2 2023-01-03 Tuesday\n",
    "3 2023-01-04 Wednesday\n",
    "4 2023-01-05 Thursday\n",
    "The function should return the modified DataFrame."
   ]
  },
  {
   "cell_type": "code",
   "execution_count": 54,
   "id": "17ceb861-6ed5-4403-9337-6342722638a4",
   "metadata": {},
   "outputs": [],
   "source": [
    "import pandas as pd\n",
    "\n",
    "def add_weekday_column(df):\n",
    "    df['Weekday'] = pd.to_datetime(df['Date']).dt.day_name()\n",
    "    return df\n"
   ]
  },
  {
   "cell_type": "code",
   "execution_count": 55,
   "id": "0544c4c7-388d-49c2-8b45-450a33cd0342",
   "metadata": {},
   "outputs": [
    {
     "name": "stdout",
     "output_type": "stream",
     "text": [
      "         Date    Weekday\n",
      "0  2023-01-01     Sunday\n",
      "1  2023-01-02     Monday\n",
      "2  2023-01-03    Tuesday\n",
      "3  2023-01-04  Wednesday\n",
      "4  2023-01-05   Thursday\n"
     ]
    }
   ],
   "source": [
    "df = pd.DataFrame({'Date': ['2023-01-01', '2023-01-02', '2023-01-03', '2023-01-04', '2023-01-05']})\n",
    "df = add_weekday_column(df)\n",
    "print(df)\n"
   ]
  },
  {
   "cell_type": "markdown",
   "id": "99f04b1d-7342-4368-ae4b-44918d1d1c2b",
   "metadata": {},
   "source": [
    "Q12. Given a Pandas DataFrame df with a column 'Date' that contains timestamps, write a Python\n",
    "function to select all rows where the date is between '2023-01-01' and '2023-01-31'."
   ]
  },
  {
   "cell_type": "code",
   "execution_count": 72,
   "id": "f9200d31-2319-450e-94fb-4ff59f8f7941",
   "metadata": {},
   "outputs": [
    {
     "name": "stdout",
     "output_type": "stream",
     "text": [
      "         Date  Value\n",
      "0  2023-01-01      1\n",
      "1  2023-01-02      2\n",
      "2  2023-01-03      3\n",
      "3  2023-01-04      4\n",
      "4  2023-01-05      5\n",
      "5  2023-01-06      6\n",
      "6  2023-01-07      7\n",
      "7  2023-01-08      8\n",
      "8  2023-01-09      9\n",
      "9  2023-01-10     10\n",
      "10 2023-01-11     11\n",
      "11 2023-01-12     12\n",
      "12 2023-01-13     13\n",
      "13 2023-01-14     14\n",
      "14 2023-01-15     15\n",
      "15 2023-01-16     16\n",
      "16 2023-01-17     17\n",
      "17 2023-01-18     18\n",
      "18 2023-01-19     19\n",
      "19 2023-01-20     20\n",
      "20 2023-01-21     21\n",
      "21 2023-01-22     22\n",
      "22 2023-01-23     23\n",
      "23 2023-01-24     24\n",
      "24 2023-01-25     25\n",
      "25 2023-01-26     26\n",
      "26 2023-01-27     27\n",
      "27 2023-01-28     28\n",
      "28 2023-01-29     29\n",
      "29 2023-01-30     30\n",
      "30 2023-01-31     31\n"
     ]
    }
   ],
   "source": [
    "import pandas as pd\n",
    "\n",
    "# create a DataFrame with a 'Date' column containing timestamps\n",
    "df = pd.DataFrame({\n",
    "    'Date': pd.date_range('2023-01-01', '2023-02-28', freq='D'),\n",
    "    'Value': range(1, 60)\n",
    "})\n",
    "\n",
    "# define a function to select rows between two dates\n",
    "def select_rows_between_dates(df, start_date, end_date):\n",
    "    mask = (df['Date'] >= start_date) & (df['Date'] <= end_date)\n",
    "    return df.loc[mask]\n",
    "\n",
    "# call the function to select rows between '2023-01-01' and '2023-01-31'\n",
    "start_date = pd.to_datetime('2023-01-01')\n",
    "end_date = pd.to_datetime('2023-01-31')\n",
    "df_selected = select_rows_between_dates(df, start_date, end_date)\n",
    "\n",
    "# print the selected rows\n",
    "print(df_selected)\n"
   ]
  },
  {
   "cell_type": "markdown",
   "id": "61c77ab1-543e-4173-b1fd-7703b06f537d",
   "metadata": {},
   "source": [
    "Q13. To use the basic functions of pandas, what is the first and foremost necessary library that needs to\n",
    "be imported?"
   ]
  },
  {
   "cell_type": "markdown",
   "id": "035f32ea-ff8f-4f45-b2d4-373984122e15",
   "metadata": {},
   "source": [
    "The first and foremost necessary library that needs to be imported to use the basic functions of Pandas is pandas itself. Pandas is a Python library that provides data structures and tools for data analysis.\n",
    "\n",
    "You can import Pandas using the following statement:"
   ]
  },
  {
   "cell_type": "code",
   "execution_count": 73,
   "id": "f189a427-9082-4622-b4e9-2a91044f1a70",
   "metadata": {},
   "outputs": [],
   "source": [
    "import pandas as pd\n"
   ]
  },
  {
   "cell_type": "markdown",
   "id": "a64fd39e-8475-4acf-87b3-c5bf3813e30b",
   "metadata": {},
   "source": [
    "This will import Pandas and give it the alias pd. The alias pd is commonly used in the Pandas community and is recommended for consistency. Once you have imported Pandas, you can start using its functions and data structures, such as Series and DataFrame, to manipulate and analyze data."
   ]
  },
  {
   "cell_type": "code",
   "execution_count": null,
   "id": "85bd94d3-67f1-407a-9ff8-9a649d0bdeef",
   "metadata": {},
   "outputs": [],
   "source": []
  }
 ],
 "metadata": {
  "kernelspec": {
   "display_name": "Python 3 (ipykernel)",
   "language": "python",
   "name": "python3"
  },
  "language_info": {
   "codemirror_mode": {
    "name": "ipython",
    "version": 3
   },
   "file_extension": ".py",
   "mimetype": "text/x-python",
   "name": "python",
   "nbconvert_exporter": "python",
   "pygments_lexer": "ipython3",
   "version": "3.10.8"
  }
 },
 "nbformat": 4,
 "nbformat_minor": 5
}
