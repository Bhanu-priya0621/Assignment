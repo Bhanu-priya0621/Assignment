{
 "cells": [
  {
   "cell_type": "markdown",
   "id": "47f996f6-ce29-483a-9976-40996e863b6f",
   "metadata": {},
   "source": [
    "Q1. Create a Pandas Series that contains the following data: 4, 8, 15, 16, 23, and 42. Then, print the series."
   ]
  },
  {
   "cell_type": "code",
   "execution_count": 2,
   "id": "f5e1002d-420f-481c-9f73-34b96985c385",
   "metadata": {},
   "outputs": [
    {
     "name": "stdout",
     "output_type": "stream",
     "text": [
      "0     4\n",
      "1     8\n",
      "2    15\n",
      "3    16\n",
      "4    23\n",
      "5    42\n",
      "dtype: int64\n"
     ]
    }
   ],
   "source": [
    "import pandas as pd\n",
    "\n",
    "# create the series\n",
    "data = [4, 8, 15, 16, 23, 42]\n",
    "series = pd.Series(data)\n",
    "\n",
    "# print the series\n",
    "print(series)\n"
   ]
  },
  {
   "cell_type": "markdown",
   "id": "85512cc4-8ca2-46a1-9a93-cff40b9c9abe",
   "metadata": {},
   "source": [
    "Q2. Create a variable of list type containing 10 elements in it, and apply pandas.Series function on the\n",
    "variable print it."
   ]
  },
  {
   "cell_type": "code",
   "execution_count": 3,
   "id": "b559eab8-4d69-4a48-8c76-e67be6022713",
   "metadata": {},
   "outputs": [
    {
     "name": "stdout",
     "output_type": "stream",
     "text": [
      "0     2\n",
      "1     4\n",
      "2     6\n",
      "3     8\n",
      "4    10\n",
      "5    12\n",
      "6    14\n",
      "7    16\n",
      "8    18\n",
      "9    20\n",
      "dtype: int64\n"
     ]
    }
   ],
   "source": [
    "import pandas as pd\n",
    "\n",
    "# create a list with 10 elements\n",
    "my_list = [2, 4, 6, 8, 10, 12, 14, 16, 18, 20]\n",
    "\n",
    "# convert the list to a Pandas Series\n",
    "my_series = pd.Series(my_list)\n",
    "\n",
    "# print the series\n",
    "print(my_series)\n"
   ]
  },
  {
   "cell_type": "markdown",
   "id": "257dac3d-62ef-45b6-870e-714fc998551c",
   "metadata": {},
   "source": [
    "Q3. Create a Pandas DataFrame that contains the following data:\n",
    "\n",
    "\n",
    "Name            Age            Gender\n",
    "\n",
    "\n",
    "Alice           25             Female\n",
    "\n",
    "\n",
    "Bob             30             Male\n",
    "\n",
    "\n",
    "Claire          27             Female\n",
    "\n",
    "\n",
    "Then, print the DataFrame.\n"
   ]
  },
  {
   "cell_type": "code",
   "execution_count": 4,
   "id": "68d86ead-03e6-4ff5-84f8-de10dfa0b69f",
   "metadata": {},
   "outputs": [
    {
     "name": "stdout",
     "output_type": "stream",
     "text": [
      "     Name  Age  Gender\n",
      "0   Alice   25  Female\n",
      "1     Bob   30    Male\n",
      "2  Claire   27  Female\n"
     ]
    }
   ],
   "source": [
    "import pandas as pd\n",
    "\n",
    "# create a dictionary with the data\n",
    "data = {'Name': ['Alice', 'Bob', 'Claire'],\n",
    "        'Age': [25, 30, 27],\n",
    "        'Gender': ['Female', 'Male', 'Female']}\n",
    "\n",
    "# create the DataFrame\n",
    "df = pd.DataFrame(data)\n",
    "\n",
    "# print the DataFrame\n",
    "print(df)\n"
   ]
  },
  {
   "cell_type": "markdown",
   "id": "9f3d0c13-29fc-48ba-9040-cb51cd0c823e",
   "metadata": {},
   "source": [
    "Q4. What is ‘DataFrame’ in pandas and how is it different from pandas.series? Explain with an example.\n",
    "\n",
    "In Pandas, a DataFrame is a two-dimensional labeled data structure that is designed to handle tabular data in a way that is similar to a spreadsheet or a SQL table. It consists of rows and columns, where each column can have a different data type and a unique label, and each row represents an observation or a record.\n",
    "\n",
    "On the other hand, a Pandas Series is a one-dimensional labeled array that can hold any data type, including scalar values, lists, and dictionaries. It has a single index that represents the labels of the elements.\n",
    "\n",
    "Here's an example that illustrates the difference between a Pandas DataFrame and a Series:"
   ]
  },
  {
   "cell_type": "code",
   "execution_count": 5,
   "id": "f36489e8-00d7-40ed-8135-4d7d137dd99b",
   "metadata": {},
   "outputs": [
    {
     "name": "stdout",
     "output_type": "stream",
     "text": [
      "DataFrame:\n",
      "     Name  Age  Gender\n",
      "0   Alice   25  Female\n",
      "1     Bob   30    Male\n",
      "2  Claire   27  Female\n",
      "\n",
      "Age Series:\n",
      "0    25\n",
      "1    30\n",
      "2    27\n",
      "Name: Age, dtype: int64\n"
     ]
    }
   ],
   "source": [
    "import pandas as pd\n",
    "\n",
    "# create a dictionary with some data\n",
    "data = {'Name': ['Alice', 'Bob', 'Claire'],\n",
    "        'Age': [25, 30, 27],\n",
    "        'Gender': ['Female', 'Male', 'Female']}\n",
    "\n",
    "# create a DataFrame from the dictionary\n",
    "df = pd.DataFrame(data)\n",
    "\n",
    "# create a Series from one of the columns of the DataFrame\n",
    "age_series = df['Age']\n",
    "\n",
    "# print the DataFrame and the Series\n",
    "print('DataFrame:')\n",
    "print(df)\n",
    "print()\n",
    "print('Age Series:')\n",
    "print(age_series)\n"
   ]
  },
  {
   "cell_type": "markdown",
   "id": "af98e210-9e35-4d35-a936-082d1a1a6078",
   "metadata": {},
   "source": [
    "Q5. What are some common functions you can use to manipulate data in a Pandas DataFrame? Can\n",
    "you give an example of when you might use one of these functions?\n",
    "\n",
    "\n",
    "There are many functions available in Pandas to manipulate data in a DataFrame. Some common functions are:\n",
    "\n",
    "head() and tail(): These functions can be used to display the first few or last few rows of a DataFrame, respectively. They are useful for quickly inspecting the data in a DataFrame.\n",
    "\n",
    "describe(): This function generates descriptive statistics of the DataFrame, such as count, mean, standard deviation, minimum, and maximum values for each column. It is useful for getting a quick overview of the data.\n",
    "\n",
    "drop(): This function can be used to remove rows or columns from a DataFrame based on their labels or positions. It is useful for cleaning up the data or removing unwanted information.\n",
    "\n",
    "fillna(): This function can be used to fill missing values in a DataFrame with a specified value or method, such as the mean or median of the column. It is useful for handling missing data.\n",
    "\n",
    "groupby(): This function can be used to group the data in a DataFrame based on one or more columns, and then apply a function to each group. It is useful for analyzing the data by different categories.\n",
    "\n",
    "sort_values(): This function can be used to sort the rows of a DataFrame based on the values in one or more columns. It is useful for sorting the data in a meaningful way.\n",
    "\n",
    "merge(): This function can be used to combine two or more DataFrames into a single DataFrame based on a common column or index. It is useful for joining data from multiple sources.\n",
    "\n",
    "Here's an example of using fillna() function to replace missing values in a DataFrame:"
   ]
  },
  {
   "cell_type": "code",
   "execution_count": 6,
   "id": "064f2281-9017-4767-bf3d-060fa0948c17",
   "metadata": {},
   "outputs": [
    {
     "name": "stdout",
     "output_type": "stream",
     "text": [
      "     Name   Age  Gender\n",
      "0   Alice  25.0  Female\n",
      "1     Bob  30.0    Male\n",
      "2  Claire  30.0     NaN\n",
      "3   David  35.0    Male\n"
     ]
    },
    {
     "name": "stderr",
     "output_type": "stream",
     "text": [
      "/tmp/ipykernel_77/392714254.py:5: FutureWarning: The pandas.np module is deprecated and will be removed from pandas in a future version. Import numpy directly instead.\n",
      "  'Age': [25, 30, pd.np.nan, 35],\n",
      "/tmp/ipykernel_77/392714254.py:6: FutureWarning: The pandas.np module is deprecated and will be removed from pandas in a future version. Import numpy directly instead.\n",
      "  'Gender': ['Female', 'Male', pd.np.nan, 'Male']}\n"
     ]
    }
   ],
   "source": [
    "import pandas as pd\n",
    "\n",
    "# create a dictionary with some data including missing values\n",
    "data = {'Name': ['Alice', 'Bob', 'Claire', 'David'],\n",
    "        'Age': [25, 30, pd.np.nan, 35],\n",
    "        'Gender': ['Female', 'Male', pd.np.nan, 'Male']}\n",
    "\n",
    "# create a DataFrame from the dictionary\n",
    "df = pd.DataFrame(data)\n",
    "\n",
    "# fill missing values in the 'Age' column with the mean of the column\n",
    "df['Age'] = df['Age'].fillna(df['Age'].mean())\n",
    "\n",
    "# print the updated DataFrame\n",
    "print(df)\n"
   ]
  },
  {
   "cell_type": "markdown",
   "id": "06645ee9-836b-4fdf-b9dc-c2ba49688756",
   "metadata": {},
   "source": [
    "Q6. Which of the following is mutable in nature Series, DataFrame, Panel?\n",
    "\n",
    "Series and DataFrame are mutable in nature, meaning that their values can be modified after creation. Panel, on the other hand, is an immutable data structure in Pandas, meaning that its values cannot be modified after creation. Instead, operations on a Panel typically return a new Panel object with the updated values."
   ]
  },
  {
   "cell_type": "markdown",
   "id": "b6e48021-6108-404a-bebe-0d3a0ce0cad8",
   "metadata": {},
   "source": [
    "Q7. Create a DataFrame using multiple Series. Explain with an example.\n",
    "\n",
    "To create a DataFrame using multiple Series, we can pass a dictionary where each key represents the name of a column and each value represents a Series with the data for that column.\n",
    "\n",
    "Here's an example:"
   ]
  },
  {
   "cell_type": "code",
   "execution_count": 8,
   "id": "c30919ba-9165-447c-b60f-0c06ed020e1c",
   "metadata": {},
   "outputs": [
    {
     "name": "stdout",
     "output_type": "stream",
     "text": [
      "     Name  Age  Gender\n",
      "0   Alice   25  Female\n",
      "1     Bob   30    Male\n",
      "2  Claire   27  Female\n"
     ]
    }
   ],
   "source": [
    "import pandas as pd\n",
    "\n",
    "# create a dictionary with three Series\n",
    "name = pd.Series(['Alice', 'Bob', 'Claire'])\n",
    "age = pd.Series([25, 30, 27])\n",
    "gender = pd.Series(['Female', 'Male', 'Female'])\n",
    "data = {'Name': name, 'Age': age, 'Gender': gender}\n",
    "\n",
    "# create a DataFrame from the dictionary\n",
    "df = pd.DataFrame(data)\n",
    "\n",
    "# print the DataFrame\n",
    "print(df)\n"
   ]
  },
  {
   "cell_type": "code",
   "execution_count": null,
   "id": "db0627a3-1119-4394-90a8-9225abe9da6c",
   "metadata": {},
   "outputs": [],
   "source": []
  }
 ],
 "metadata": {
  "kernelspec": {
   "display_name": "Python 3 (ipykernel)",
   "language": "python",
   "name": "python3"
  },
  "language_info": {
   "codemirror_mode": {
    "name": "ipython",
    "version": 3
   },
   "file_extension": ".py",
   "mimetype": "text/x-python",
   "name": "python",
   "nbconvert_exporter": "python",
   "pygments_lexer": "ipython3",
   "version": "3.10.8"
  }
 },
 "nbformat": 4,
 "nbformat_minor": 5
}
