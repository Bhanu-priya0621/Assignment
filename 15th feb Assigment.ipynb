{
 "cells": [
  {
   "cell_type": "markdown",
   "id": "2898304b-822b-401c-92a3-a21c1b3648d9",
   "metadata": {},
   "source": [
    "Q1. What is multiprocessing in python? Why is it useful?"
   ]
  },
  {
   "cell_type": "markdown",
   "id": "581b7f3d-54fb-44c5-b3bc-fbe6fd976086",
   "metadata": {},
   "source": [
    "\n",
    "Multiprocessing in Python is a built-in package that allows the system to run multiple processes simultaneously. It will enable the breaking of applications into smaller threads that can run independently."
   ]
  },
  {
   "cell_type": "markdown",
   "id": "b1d5eefb-418e-4706-b75f-b793d37f956c",
   "metadata": {},
   "source": [
    "\n",
    "Multiprocessing helps in performing parallel computing. There are several processors in a system, and each of them can run multiple processes simultaneously. The system's throughput will be significantly increased as a result of this. Parallel computing is performed by multiprocessing."
   ]
  },
  {
   "cell_type": "markdown",
   "id": "6f03bc3a-f1fa-4100-9125-40f3b0682e21",
   "metadata": {},
   "source": [
    "Q2. What are the differences between multiprocessing and multithreading?"
   ]
  },
  {
   "cell_type": "markdown",
   "id": "c40c7bfd-6736-4f83-850a-a518fff79adb",
   "metadata": {},
   "source": [
    "1. In Multiprocessing, many processes are executed simultaneously. While in multithreading, many threads of a process are executed simultaneously"
   ]
  },
  {
   "cell_type": "markdown",
   "id": "dd1d1a45-26d3-44f3-9e80-459210241d61",
   "metadata": {},
   "source": [
    "2. Multithreading refers to the ability of a processor to execute multiple threads concurrently, where each thread runs a process. Whereas multiprocessing refers to the ability of a system to run multiple processors concurrently, where each processor can run one or more threads."
   ]
  },
  {
   "cell_type": "markdown",
   "id": "17c72d92-7425-4edd-aaf1-0b03f8e75542",
   "metadata": {},
   "source": [
    "Q3. Write a python code to create a process using the multiprocessing module."
   ]
  },
  {
   "cell_type": "code",
   "execution_count": 1,
   "id": "840d1868-2103-42d4-bac4-14baf78d42d4",
   "metadata": {},
   "outputs": [
    {
     "name": "stdout",
     "output_type": "stream",
     "text": [
      "this is my main program\n",
      "this is my multiprocessing program\n"
     ]
    }
   ],
   "source": [
    "import multiprocessing\n",
    "\n",
    "def test():\n",
    "    print(\"this is my multiprocessing program\")\n",
    "    \n",
    "if __name__ == \"__main__\":\n",
    "    m = multiprocessing.Process(target=test)\n",
    "    print(\"this is my main program\")\n",
    "    m.start()\n",
    "    m.join()"
   ]
  },
  {
   "cell_type": "markdown",
   "id": "0e47b9ef-8e39-4809-8e27-254739a6b92a",
   "metadata": {},
   "source": [
    "Q4. What is a multiprocessing pool in python? Why is it used?"
   ]
  },
  {
   "cell_type": "markdown",
   "id": "ec4a28ce-57e7-4790-8da5-96da0c160156",
   "metadata": {},
   "source": [
    "Python multiprocessing Pool can be used for parallel execution of a function across multiple input values, distributing the input data across processes "
   ]
  },
  {
   "cell_type": "markdown",
   "id": "80c26a73-bd4b-47c7-8fdf-05ace68fd6d6",
   "metadata": {},
   "source": [
    "\n",
    "Use the multiprocessing pool if your tasks are independent. This means that each task is not dependent on other tasks that could execute at the same time"
   ]
  },
  {
   "cell_type": "markdown",
   "id": "d4d6fb35-e99b-409a-a74d-100a3db74961",
   "metadata": {},
   "source": [
    "Q5. How can we create a pool of worker processes in python using the multiprocessing module?"
   ]
  },
  {
   "cell_type": "markdown",
   "id": "6d7f04e2-de9b-448a-9d43-ccdb62a49f78",
   "metadata": {},
   "source": [
    "\n",
    "Pool is generally used for heterogeneous tasks, whereas multiprocessing. Process is generally used for homogeneous tasks. The Pool is designed to execute heterogeneous tasks, that is tasks that do not resemble each other.Exampple:-"
   ]
  },
  {
   "cell_type": "code",
   "execution_count": 2,
   "id": "fd177f59-e732-42a8-8503-e844db74ebaa",
   "metadata": {},
   "outputs": [
    {
     "name": "stdout",
     "output_type": "stream",
     "text": [
      "[36, 49, 64, 81, 36]\n"
     ]
    }
   ],
   "source": [
    "def square(n):\n",
    "    return n**2\n",
    "if __name__ == '__main__':\n",
    "    with multiprocessing.Pool(processes=5) as pool:\n",
    "        out=pool.map(square,[6,7,8,9,6])\n",
    "        print(out)"
   ]
  },
  {
   "cell_type": "markdown",
   "id": "03fe7da4-3c21-46d9-b1f3-9d88dce05b8f",
   "metadata": {},
   "source": [
    "Q6. Write a python program to create 4 processes, each process should print a different number using the\n",
    "multiprocessing module in python."
   ]
  },
  {
   "cell_type": "code",
   "execution_count": 1,
   "id": "b48fed49-eef5-47e4-8ae8-16f4b61e7190",
   "metadata": {},
   "outputs": [
    {
     "name": "stdout",
     "output_type": "stream",
     "text": [
      "Process Process-1: 1\n",
      "Process Process-2: 2\n",
      "Process Process-3: 3\n",
      "Process Process-4: 4\n"
     ]
    }
   ],
   "source": [
    "import multiprocessing\n",
    "\n",
    "def print_number(number):\n",
    "    print(\"Process {}: {}\".format(multiprocessing.current_process().name, number))\n",
    "\n",
    "if __name__ == \"__main__\":\n",
    "    # create a list of numbers\n",
    "    numbers = [1, 2, 3, 4]\n",
    "    \n",
    "    # create 4 processes and pass each number to a different process\n",
    "    processes = [multiprocessing.Process(target=print_number, args=(number,)) for number in numbers]\n",
    "    \n",
    "    # start the processes\n",
    "    for process in processes:\n",
    "        process.start()\n",
    "    \n",
    "    # wait for all processes to finish\n",
    "    for process in processes:\n",
    "        process.join()\n"
   ]
  },
  {
   "cell_type": "code",
   "execution_count": null,
   "id": "86ae6f43-1822-4793-a8e0-efe986d09a2d",
   "metadata": {},
   "outputs": [],
   "source": []
  }
 ],
 "metadata": {
  "kernelspec": {
   "display_name": "Python 3 (ipykernel)",
   "language": "python",
   "name": "python3"
  },
  "language_info": {
   "codemirror_mode": {
    "name": "ipython",
    "version": 3
   },
   "file_extension": ".py",
   "mimetype": "text/x-python",
   "name": "python",
   "nbconvert_exporter": "python",
   "pygments_lexer": "ipython3",
   "version": "3.10.8"
  }
 },
 "nbformat": 4,
 "nbformat_minor": 5
}
